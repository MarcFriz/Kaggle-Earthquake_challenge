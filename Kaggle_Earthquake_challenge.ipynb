{
  "nbformat": 4,
  "nbformat_minor": 0,
  "metadata": {
    "colab": {
      "name": "Kaggle_Earthquake_challenge",
      "version": "0.3.2",
      "provenance": [],
      "collapsed_sections": [],
      "toc_visible": true,
      "include_colab_link": true
    },
    "kernelspec": {
      "name": "python3",
      "display_name": "Python 3"
    },
    "accelerator": "GPU"
  },
  "cells": [
    {
      "cell_type": "markdown",
      "metadata": {
        "id": "view-in-github",
        "colab_type": "text"
      },
      "source": [
        "<a href=\"https://colab.research.google.com/github/MarcFriz/Kaggle-Earthquake_challenge/blob/master/Kaggle_Earthquake_challenge.ipynb\" target=\"_parent\"><img src=\"https://colab.research.google.com/assets/colab-badge.svg\" alt=\"Open In Colab\"/></a>"
      ]
    },
    {
      "metadata": {
        "id": "MX3Yw7APtXJo",
        "colab_type": "text"
      },
      "cell_type": "markdown",
      "source": [
        "![alt text](https://i.imgur.com/rTadNbm.png)"
      ]
    },
    {
      "metadata": {
        "id": "GWo9xnmot5b_",
        "colab_type": "text"
      },
      "cell_type": "markdown",
      "source": [
        "# Step 1 - Install and Import"
      ]
    },
    {
      "metadata": {
        "id": "qWiC8JBwrf5-",
        "colab_type": "code",
        "outputId": "7aaa4b2b-11c1-416a-fc01-6cc641635062",
        "colab": {
          "base_uri": "https://localhost:8080/",
          "height": 529
        }
      },
      "cell_type": "code",
      "source": [
        "#to access kaggle datasets\n",
        "!pip install kaggle\n",
        "#Math operations\n",
        "!pip install numpy\n",
        "#Machine learning\n",
        "!pip install catboost\n",
        "!pip install keras\n",
        "!pip install xgboost"
      ],
      "execution_count": 2,
      "outputs": [
        {
          "output_type": "stream",
          "text": [
            "Requirement already satisfied: kaggle in /usr/local/lib/python3.6/dist-packages (1.5.3)\n",
            "Requirement already satisfied: urllib3<1.25,>=1.21.1 in /usr/local/lib/python3.6/dist-packages (from kaggle) (1.22)\n",
            "Requirement already satisfied: six>=1.10 in /usr/local/lib/python3.6/dist-packages (from kaggle) (1.11.0)\n",
            "Requirement already satisfied: certifi in /usr/local/lib/python3.6/dist-packages (from kaggle) (2018.11.29)\n",
            "Requirement already satisfied: python-dateutil in /usr/local/lib/python3.6/dist-packages (from kaggle) (2.5.3)\n",
            "Requirement already satisfied: requests in /usr/local/lib/python3.6/dist-packages (from kaggle) (2.18.4)\n",
            "Requirement already satisfied: tqdm in /usr/local/lib/python3.6/dist-packages (from kaggle) (4.28.1)\n",
            "Requirement already satisfied: python-slugify in /usr/local/lib/python3.6/dist-packages (from kaggle) (2.0.1)\n",
            "Requirement already satisfied: chardet<3.1.0,>=3.0.2 in /usr/local/lib/python3.6/dist-packages (from requests->kaggle) (3.0.4)\n",
            "Requirement already satisfied: idna<2.7,>=2.5 in /usr/local/lib/python3.6/dist-packages (from requests->kaggle) (2.6)\n",
            "Requirement already satisfied: Unidecode>=0.04.16 in /usr/local/lib/python3.6/dist-packages (from python-slugify->kaggle) (1.0.23)\n",
            "Requirement already satisfied: numpy in /usr/local/lib/python3.6/dist-packages (1.14.6)\n",
            "Requirement already satisfied: catboost in /usr/local/lib/python3.6/dist-packages (0.12.2)\n",
            "Requirement already satisfied: six in /usr/local/lib/python3.6/dist-packages (from catboost) (1.11.0)\n",
            "Requirement already satisfied: pandas>=0.19.1 in /usr/local/lib/python3.6/dist-packages (from catboost) (0.22.0)\n",
            "Requirement already satisfied: numpy>=1.11.1 in /usr/local/lib/python3.6/dist-packages (from catboost) (1.14.6)\n",
            "Requirement already satisfied: enum34 in /usr/local/lib/python3.6/dist-packages (from catboost) (1.1.6)\n",
            "Requirement already satisfied: pytz>=2011k in /usr/local/lib/python3.6/dist-packages (from pandas>=0.19.1->catboost) (2018.9)\n",
            "Requirement already satisfied: python-dateutil>=2 in /usr/local/lib/python3.6/dist-packages (from pandas>=0.19.1->catboost) (2.5.3)\n",
            "Requirement already satisfied: keras in /usr/local/lib/python3.6/dist-packages (2.2.4)\n",
            "Requirement already satisfied: keras-applications>=1.0.6 in /usr/local/lib/python3.6/dist-packages (from keras) (1.0.7)\n",
            "Requirement already satisfied: numpy>=1.9.1 in /usr/local/lib/python3.6/dist-packages (from keras) (1.14.6)\n",
            "Requirement already satisfied: h5py in /usr/local/lib/python3.6/dist-packages (from keras) (2.8.0)\n",
            "Requirement already satisfied: keras-preprocessing>=1.0.5 in /usr/local/lib/python3.6/dist-packages (from keras) (1.0.9)\n",
            "Requirement already satisfied: six>=1.9.0 in /usr/local/lib/python3.6/dist-packages (from keras) (1.11.0)\n",
            "Requirement already satisfied: scipy>=0.14 in /usr/local/lib/python3.6/dist-packages (from keras) (1.1.0)\n",
            "Requirement already satisfied: pyyaml in /usr/local/lib/python3.6/dist-packages (from keras) (3.13)\n",
            "Requirement already satisfied: xgboost in /usr/local/lib/python3.6/dist-packages (0.7.post4)\n",
            "Requirement already satisfied: numpy in /usr/local/lib/python3.6/dist-packages (from xgboost) (1.14.6)\n",
            "Requirement already satisfied: scipy in /usr/local/lib/python3.6/dist-packages (from xgboost) (1.1.0)\n"
          ],
          "name": "stdout"
        }
      ]
    },
    {
      "metadata": {
        "id": "8Mc51VWUuQEQ",
        "colab_type": "code",
        "colab": {}
      },
      "cell_type": "code",
      "source": [
        "#data preprocessing\n",
        "import pandas as pd\n",
        "#math operations\n",
        "import numpy as np\n",
        "#machine learning\n",
        "from catboost import CatBoostRegressor, Pool\n",
        "from sklearn.model_selection import GridSearchCV\n",
        "from sklearn import metrics\n",
        "import matplotlib.pyplot as plt\n",
        "import math"
      ],
      "execution_count": 0,
      "outputs": []
    },
    {
      "metadata": {
        "id": "M5Mdy-1GuhLb",
        "colab_type": "text"
      },
      "cell_type": "markdown",
      "source": [
        "# Step 2 - Import Dataset from Kaggle"
      ]
    },
    {
      "metadata": {
        "id": "EIxxiqzsufdl",
        "colab_type": "code",
        "outputId": "f8132dd4-8178-497e-8170-2917b3340d73",
        "colab": {
          "resources": {
            "http://localhost:8080/nbextensions/google.colab/files.js": {
              "data": "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",
              "ok": true,
              "headers": [
                [
                  "content-type",
                  "application/javascript"
                ]
              ],
              "status": 200,
              "status_text": ""
            }
          },
          "base_uri": "https://localhost:8080/",
          "height": 90
        }
      },
      "cell_type": "code",
      "source": [
        "# Colab's file access feature\n",
        "from google.colab import files\n",
        "\n",
        "#retrieve uploaded file\n",
        "uploaded = files.upload()\n",
        "\n",
        "#print results\n",
        "for fn in uploaded.keys():\n",
        "  print('User uploaded file \"{name}\" with length {length} bytes'.format(\n",
        "      name=fn, length=len(uploaded[fn])))\n",
        "  \n",
        "# Then move kaggle.json into the folder where the API expects to find it.\n",
        "!mkdir -p ~/.kaggle/ && mv kaggle.json ~/.kaggle/ && chmod 600 ~/.kaggle/kaggle.json"
      ],
      "execution_count": 4,
      "outputs": [
        {
          "output_type": "display_data",
          "data": {
            "text/html": [
              "\n",
              "     <input type=\"file\" id=\"files-e1c9a842-5639-4742-a23c-35b409b07018\" name=\"files[]\" multiple disabled />\n",
              "     <output id=\"result-e1c9a842-5639-4742-a23c-35b409b07018\">\n",
              "      Upload widget is only available when the cell has been executed in the\n",
              "      current browser session. Please rerun this cell to enable.\n",
              "      </output>\n",
              "      <script src=\"/nbextensions/google.colab/files.js\"></script> "
            ],
            "text/plain": [
              "<IPython.core.display.HTML object>"
            ]
          },
          "metadata": {
            "tags": []
          }
        },
        {
          "output_type": "stream",
          "text": [
            "Saving kaggle.json to kaggle.json\n",
            "User uploaded file \"kaggle.json\" with length 64 bytes\n"
          ],
          "name": "stdout"
        }
      ]
    },
    {
      "metadata": {
        "id": "ugB8PNOgutTI",
        "colab_type": "code",
        "outputId": "04eb8fc6-6425-4e19-f67d-fe0cb3f32325",
        "colab": {
          "base_uri": "https://localhost:8080/",
          "height": 68
        }
      },
      "cell_type": "code",
      "source": [
        "#download earthquake data, will take 30-60 seconds\n",
        "!kaggle competitions download -c LANL-Earthquake-Prediction"
      ],
      "execution_count": 5,
      "outputs": [
        {
          "output_type": "stream",
          "text": [
            "sample_submission.csv: Skipping, found more recently modified local copy (use --force to force download)\n",
            "test.zip: Skipping, found more recently modified local copy (use --force to force download)\n",
            "train.csv.zip: Skipping, found more recently modified local copy (use --force to force download)\n"
          ],
          "name": "stdout"
        }
      ]
    },
    {
      "metadata": {
        "id": "a2SvfVHwuuo4",
        "colab_type": "code",
        "outputId": "051d5c0a-e8c0-42ee-8b45-f373b5e70012",
        "colab": {
          "base_uri": "https://localhost:8080/",
          "height": 22476
        }
      },
      "cell_type": "code",
      "source": [
        "#unzip training data for usage, will take about 5 minutes (its big)\n",
        "!ls\n",
        "# !unzip train.csv.zip\n",
        "# !unzip test.zip\n",
        "!ls"
      ],
      "execution_count": 247,
      "outputs": [
        {
          "output_type": "stream",
          "text": [
            "catboost_info\t       seg_42648c.csv  seg_8456d3.csv  seg_c20c06.csv\n",
            "mycsvfile.csv\t       seg_4280d9.csv  seg_845a2a.csv  seg_c21723.csv\n",
            "sample_data\t       seg_428d66.csv  seg_8472f3.csv  seg_c21d60.csv\n",
            "sample_submission.csv  seg_42c4c9.csv  seg_848695.csv  seg_c22bd4.csv\n",
            "seg_00030f.csv\t       seg_42e7e8.csv  seg_84a65d.csv  seg_c23429.csv\n",
            "seg_0012b5.csv\t       seg_42ff14.csv  seg_84b9d9.csv  seg_c23641.csv\n",
            "seg_00184e.csv\t       seg_430e66.csv  seg_84c7fb.csv  seg_c243a6.csv\n",
            "seg_003339.csv\t       seg_43383f.csv  seg_84fc12.csv  seg_c24946.csv\n",
            "seg_0042cc.csv\t       seg_434c96.csv  seg_8509db.csv  seg_c25855.csv\n",
            "seg_004314.csv\t       seg_43597f.csv  seg_850d95.csv  seg_c267a5.csv\n",
            "seg_004cd2.csv\t       seg_43c6f4.csv  seg_8515fd.csv  seg_c26fb4.csv\n",
            "seg_004ee5.csv\t       seg_440106.csv  seg_853302.csv  seg_c27591.csv\n",
            "seg_004f1f.csv\t       seg_4401d8.csv  seg_854d91.csv  seg_c2a0c8.csv\n",
            "seg_00648a.csv\t       seg_441c6d.csv  seg_857304.csv  seg_c2b8f7.csv\n",
            "seg_006e4a.csv\t       seg_4435bd.csv  seg_85762d.csv  seg_c3507f.csv\n",
            "seg_007a37.csv\t       seg_447972.csv  seg_8599ec.csv  seg_c35940.csv\n",
            "seg_00a37e.csv\t       seg_447b8b.csv  seg_85c1c0.csv  seg_c365de.csv\n",
            "seg_00be11.csv\t       seg_447cb3.csv  seg_85e90e.csv  seg_c3836b.csv\n",
            "seg_00c35b.csv\t       seg_44d3ca.csv  seg_85e9c6.csv  seg_c3f672.csv\n",
            "seg_00cc91.csv\t       seg_455b16.csv  seg_85fb0a.csv  seg_c3f8d7.csv\n",
            "seg_00e5f7.csv\t       seg_456149.csv  seg_864fcf.csv  seg_c41d1d.csv\n",
            "seg_00f3b9.csv\t       seg_457234.csv  seg_8658b3.csv  seg_c42490.csv\n",
            "seg_010eab.csv\t       seg_45838b.csv  seg_86720f.csv  seg_c42952.csv\n",
            "seg_0125d9.csv\t       seg_4587bb.csv  seg_8681aa.csv  seg_c44bbc.csv\n",
            "seg_0144cb.csv\t       seg_45a8a9.csv  seg_86892f.csv  seg_c46ce6.csv\n",
            "seg_0165c6.csv\t       seg_45b051.csv  seg_868c85.csv  seg_c472cf.csv\n",
            "seg_016913.csv\t       seg_45e062.csv  seg_86cfe9.csv  seg_c47bdc.csv\n",
            "seg_016cdb.csv\t       seg_45e4ed.csv  seg_86d847.csv  seg_c4af54.csv\n",
            "seg_017314.csv\t       seg_45e7ad.csv  seg_86e874.csv  seg_c5064e.csv\n",
            "seg_01a8dc.csv\t       seg_46012e.csv  seg_87232d.csv  seg_c509ff.csv\n",
            "seg_01c775.csv\t       seg_460436.csv  seg_876904.csv  seg_c522f8.csv\n",
            "seg_01ecb0.csv\t       seg_461ab5.csv  seg_8773cf.csv  seg_c5256d.csv\n",
            "seg_02042f.csv\t       seg_461b63.csv  seg_8777bd.csv  seg_c52ae6.csv\n",
            "seg_025e78.csv\t       seg_462c1d.csv  seg_8785e2.csv  seg_c5325c.csv\n",
            "seg_032822.csv\t       seg_464839.csv  seg_878d2c.csv  seg_c550b1.csv\n",
            "seg_0339ca.csv\t       seg_468bc9.csv  seg_87a616.csv  seg_c565bd.csv\n",
            "seg_037461.csv\t       seg_468fdb.csv  seg_87a67a.csv  seg_c571ef.csv\n",
            "seg_038879.csv\t       seg_46a42b.csv  seg_87e4e8.csv  seg_c588c1.csv\n",
            "seg_03d386.csv\t       seg_46b84d.csv  seg_87f6c8.csv  seg_c58ca5.csv\n",
            "seg_03d63e.csv\t       seg_46c6d3.csv  seg_8826f4.csv  seg_c5abaa.csv\n",
            "seg_03d680.csv\t       seg_46dd7c.csv  seg_885f53.csv  seg_c5c455.csv\n",
            "seg_03f380.csv\t       seg_4729a7.csv  seg_8866f0.csv  seg_c5c6ea.csv\n",
            "seg_0445d7.csv\t       seg_4743ab.csv  seg_88a81d.csv  seg_c5dada.csv\n",
            "seg_046c28.csv\t       seg_4743fa.csv  seg_88b289.csv  seg_c5dee4.csv\n",
            "seg_0488a1.csv\t       seg_476700.csv  seg_890181.csv  seg_c5f986.csv\n",
            "seg_049957.csv\t       seg_476bdb.csv  seg_89791c.csv  seg_c5fc3b.csv\n",
            "seg_04a696.csv\t       seg_477c83.csv  seg_89885a.csv  seg_c5fc87.csv\n",
            "seg_04ae38.csv\t       seg_478327.csv  seg_899bf0.csv  seg_c607eb.csv\n",
            "seg_04b87a.csv\t       seg_47a48f.csv  seg_89b090.csv  seg_c60dca.csv\n",
            "seg_04cceb.csv\t       seg_47d374.csv  seg_89d8a0.csv  seg_c60f1d.csv\n",
            "seg_04ee93.csv\t       seg_47fed6.csv  seg_89e207.csv  seg_c627fc.csv\n",
            "seg_04fd93.csv\t       seg_482745.csv  seg_89eed6.csv  seg_c62a06.csv\n",
            "seg_0536c9.csv\t       seg_4848e3.csv  seg_89f975.csv  seg_c65135.csv\n",
            "seg_055127.csv\t       seg_484901.csv  seg_8a3306.csv  seg_c654e7.csv\n",
            "seg_05a1b0.csv\t       seg_486973.csv  seg_8a41bf.csv  seg_c666dd.csv\n",
            "seg_05a4ad.csv\t       seg_48a4b3.csv  seg_8a6b0e.csv  seg_c671f7.csv\n",
            "seg_05b66a.csv\t       seg_48a80c.csv  seg_8a7201.csv  seg_c6b514.csv\n",
            "seg_05bef4.csv\t       seg_48b545.csv  seg_8a8220.csv  seg_c6c29f.csv\n",
            "seg_05e0d7.csv\t       seg_48feba.csv  seg_8a8375.csv  seg_c6f0a2.csv\n",
            "seg_05f126.csv\t       seg_490092.csv  seg_8ab3a7.csv  seg_c6f533.csv\n",
            "seg_05f9d6.csv\t       seg_490d6e.csv  seg_8ae847.csv  seg_c6f9c2.csv\n",
            "seg_060ce4.csv\t       seg_492dc6.csv  seg_8aeb99.csv  seg_c703be.csv\n",
            "seg_061a33.csv\t       seg_49322d.csv  seg_8b39c4.csv  seg_c70fde.csv\n",
            "seg_0620e6.csv\t       seg_49336f.csv  seg_8b798b.csv  seg_c714d0.csv\n",
            "seg_063865.csv\t       seg_495573.csv  seg_8baeab.csv  seg_c73df6.csv\n",
            "seg_065588.csv\t       seg_496d07.csv  seg_8bc20c.csv  seg_c747ad.csv\n",
            "seg_06893f.csv\t       seg_496dad.csv  seg_8bde47.csv  seg_c747b4.csv\n",
            "seg_06b8c9.csv\t       seg_49b0cb.csv  seg_8be2da.csv  seg_c7a3bc.csv\n",
            "seg_06bbc5.csv\t       seg_49d84b.csv  seg_8be76c.csv  seg_c7a401.csv\n",
            "seg_06d4a2.csv\t       seg_49fdf0.csv  seg_8bec6f.csv  seg_c7a579.csv\n",
            "seg_06d7ba.csv\t       seg_4a2525.csv  seg_8bf229.csv  seg_c7b424.csv\n",
            "seg_070bb0.csv\t       seg_4a6096.csv  seg_8c0114.csv  seg_c80857.csv\n",
            "seg_071067.csv\t       seg_4a719c.csv  seg_8c1760.csv  seg_c81e10.csv\n",
            "seg_073696.csv\t       seg_4a91a9.csv  seg_8c1cca.csv  seg_c81fec.csv\n",
            "seg_075340.csv\t       seg_4a9e6b.csv  seg_8c1e7d.csv  seg_c8459f.csv\n",
            "seg_075f77.csv\t       seg_4a9e8d.csv  seg_8c341c.csv  seg_c87c24.csv\n",
            "seg_0775a7.csv\t       seg_4ab7bf.csv  seg_8c6d4e.csv  seg_c901c0.csv\n",
            "seg_077b7e.csv\t       seg_4abc29.csv  seg_8c6e34.csv  seg_c90be5.csv\n",
            "seg_079e34.csv\t       seg_4acc4b.csv  seg_8cd159.csv  seg_c9201c.csv\n",
            "seg_07c815.csv\t       seg_4ad5a2.csv  seg_8cdf83.csv  seg_c9481f.csv\n",
            "seg_07cd72.csv\t       seg_4ad674.csv  seg_8ce632.csv  seg_c94941.csv\n",
            "seg_07f37c.csv\t       seg_4adeda.csv  seg_8cf573.csv  seg_c9831a.csv\n",
            "seg_07f8df.csv\t       seg_4ae37c.csv  seg_8d030a.csv  seg_c9e533.csv\n",
            "seg_07fc6d.csv\t       seg_4ae712.csv  seg_8d135f.csv  seg_c9f80a.csv\n",
            "seg_086a61.csv\t       seg_4b0839.csv  seg_8d3a9d.csv  seg_ca2d1b.csv\n",
            "seg_0870ab.csv\t       seg_4b4c91.csv  seg_8d4435.csv  seg_ca407b.csv\n",
            "seg_0879a8.csv\t       seg_4b4ffb.csv  seg_8d4965.csv  seg_ca44a8.csv\n",
            "seg_08b136.csv\t       seg_4b8044.csv  seg_8d5113.csv  seg_ca67ee.csv\n",
            "seg_08f441.csv\t       seg_4b953a.csv  seg_8d6578.csv  seg_ca6d70.csv\n",
            "seg_08fd5b.csv\t       seg_4ba3d1.csv  seg_8d6a7d.csv  seg_ca8389.csv\n",
            "seg_091c9d.csv\t       seg_4c067a.csv  seg_8da61a.csv  seg_ca88e3.csv\n",
            "seg_093a0a.csv\t       seg_4c12b2.csv  seg_8db6f0.csv  seg_ca9e39.csv\n",
            "seg_0968f1.csv\t       seg_4c18e2.csv  seg_8dcf3c.csv  seg_caa919.csv\n",
            "seg_0981f3.csv\t       seg_4c3a2b.csv  seg_8dd2ab.csv  seg_cacd0a.csv\n",
            "seg_09dd59.csv\t       seg_4c4995.csv  seg_8dd3ba.csv  seg_cacd58.csv\n",
            "seg_09ed4e.csv\t       seg_4c65e6.csv  seg_8dfc7e.csv  seg_cb0e21.csv\n",
            "seg_09f0ff.csv\t       seg_4c8db6.csv  seg_8dfd7a.csv  seg_cb806c.csv\n",
            "seg_0a0fbb.csv\t       seg_4ca6de.csv  seg_8e5704.csv  seg_cbcce9.csv\n",
            "seg_0a1bd0.csv\t       seg_4cb0d7.csv  seg_8e6a3f.csv  seg_cbfb19.csv\n",
            "seg_0a42ba.csv\t       seg_4cb9c6.csv  seg_8e7194.csv  seg_cc096e.csv\n",
            "seg_0a45a1.csv\t       seg_4ce234.csv  seg_8e7fca.csv  seg_cc2c46.csv\n",
            "seg_0a97c4.csv\t       seg_4d0008.csv  seg_8ebdea.csv  seg_cc2e9b.csv\n",
            "seg_0aa0fb.csv\t       seg_4d0041.csv  seg_8f1127.csv  seg_cc4199.csv\n",
            "seg_0b07c7.csv\t       seg_4d0c45.csv  seg_8f25b0.csv  seg_cc4932.csv\n",
            "seg_0b082e.csv\t       seg_4d18f4.csv  seg_8f3247.csv  seg_cc4950.csv\n",
            "seg_0b32f7.csv\t       seg_4d2671.csv  seg_8f3dfe.csv  seg_cc667b.csv\n",
            "seg_0b3b94.csv\t       seg_4d53c2.csv  seg_8f4654.csv  seg_cc7a19.csv\n",
            "seg_0b48c4.csv\t       seg_4d5a4a.csv  seg_8f4781.csv  seg_cc7e39.csv\n",
            "seg_0b4b24.csv\t       seg_4d7c56.csv  seg_8f5589.csv  seg_ccdc28.csv\n",
            "seg_0b54ac.csv\t       seg_4d8f0f.csv  seg_8f592b.csv  seg_cd0691.csv\n",
            "seg_0b76f5.csv\t       seg_4db886.csv  seg_8f6284.csv  seg_cd2b34.csv\n",
            "seg_0b9ad8.csv\t       seg_4db997.csv  seg_8fb0d0.csv  seg_cd2b53.csv\n",
            "seg_0b9ba3.csv\t       seg_4dbbd1.csv  seg_8fb29e.csv  seg_cd352f.csv\n",
            "seg_0ba210.csv\t       seg_4ddddc.csv  seg_8fb828.csv  seg_cd43b4.csv\n",
            "seg_0ba585.csv\t       seg_4dfa03.csv  seg_8fc754.csv  seg_cd699e.csv\n",
            "seg_0bb5fd.csv\t       seg_4e0c4a.csv  seg_8fd465.csv  seg_cd9f9b.csv\n",
            "seg_0bc877.csv\t       seg_4e2c66.csv  seg_902074.csv  seg_cdadb5.csv\n",
            "seg_0be6ee.csv\t       seg_4e3bd7.csv  seg_902bc1.csv  seg_cdf88e.csv\n",
            "seg_0c12cc.csv\t       seg_4e627b.csv  seg_903aba.csv  seg_ce00bb.csv\n",
            "seg_0c1d3a.csv\t       seg_4e9646.csv  seg_907c52.csv  seg_ce46ba.csv\n",
            "seg_0c247b.csv\t       seg_4ea3fa.csv  seg_90a0be.csv  seg_ce472b.csv\n",
            "seg_0c3943.csv\t       seg_4ea81c.csv  seg_90b174.csv  seg_ce5520.csv\n",
            "seg_0c4e31.csv\t       seg_4eb127.csv  seg_90bf60.csv  seg_ce5832.csv\n",
            "seg_0c74cf.csv\t       seg_4eeaef.csv  seg_90c258.csv  seg_ce72e2.csv\n",
            "seg_0c8502.csv\t       seg_4eef28.csv  seg_90e904.csv  seg_ce7537.csv\n",
            "seg_0c89ce.csv\t       seg_4f48b4.csv  seg_90ec68.csv  seg_ce9f59.csv\n",
            "seg_0c9aa8.csv\t       seg_4f5931.csv  seg_90ef18.csv  seg_cea185.csv\n",
            "seg_0cb81b.csv\t       seg_4f76a2.csv  seg_911066.csv  seg_ceab44.csv\n",
            "seg_0cca14.csv\t       seg_4f83a3.csv  seg_9122aa.csv  seg_ceb942.csv\n",
            "seg_0cdcc8.csv\t       seg_4fa87d.csv  seg_913ffc.csv  seg_cec2f2.csv\n",
            "seg_0cf651.csv\t       seg_4fce5b.csv  seg_914a62.csv  seg_cecd29.csv\n",
            "seg_0d0250.csv\t       seg_4fd191.csv  seg_91596c.csv  seg_ced992.csv\n",
            "seg_0d04b9.csv\t       seg_500108.csv  seg_915b3e.csv  seg_cedf3e.csv\n",
            "seg_0d13a7.csv\t       seg_5009d9.csv  seg_91607c.csv  seg_cee7d0.csv\n",
            "seg_0d434c.csv\t       seg_500c80.csv  seg_919a6a.csv  seg_cf0e43.csv\n",
            "seg_0d540e.csv\t       seg_502fab.csv  seg_919c5c.csv  seg_cf1371.csv\n",
            "seg_0d663a.csv\t       seg_507065.csv  seg_91bf8c.csv  seg_cf25d2.csv\n",
            "seg_0d6d68.csv\t       seg_5090fa.csv  seg_91cff2.csv  seg_cf3825.csv\n",
            "seg_0d762e.csv\t       seg_509d55.csv  seg_91eaeb.csv  seg_cf5764.csv\n",
            "seg_0d833c.csv\t       seg_50a667.csv  seg_91f512.csv  seg_cf646e.csv\n",
            "seg_0dae4b.csv\t       seg_50b048.csv  seg_91f664.csv  seg_cf74e8.csv\n",
            "seg_0dc38f.csv\t       seg_50e270.csv  seg_91fc29.csv  seg_cf9a49.csv\n",
            "seg_0dcc40.csv\t       seg_511d25.csv  seg_920132.csv  seg_cfed24.csv\n",
            "seg_0df469.csv\t       seg_512b3e.csv  seg_92092a.csv  seg_cff594.csv\n",
            "seg_0df75c.csv\t       seg_514543.csv  seg_922914.csv  seg_d014a3.csv\n",
            "seg_0dfe8c.csv\t       seg_5147e1.csv  seg_922990.csv  seg_d0598e.csv\n",
            "seg_0e1370.csv\t       seg_514b85.csv  seg_92310f.csv  seg_d062a6.csv\n",
            "seg_0e1fbe.csv\t       seg_5165a4.csv  seg_929ded.csv  seg_d07c62.csv\n",
            "seg_0e3739.csv\t       seg_517345.csv  seg_92a5f1.csv  seg_d07ce8.csv\n",
            "seg_0e3d44.csv\t       seg_517425.csv  seg_92af10.csv  seg_d098df.csv\n",
            "seg_0e3ed2.csv\t       seg_51865e.csv  seg_92b095.csv  seg_d0c280.csv\n",
            "seg_0e4833.csv\t       seg_518b1e.csv  seg_92bd37.csv  seg_d0c8e2.csv\n",
            "seg_0e7cc5.csv\t       seg_51b68c.csv  seg_92be9f.csv  seg_d0f262.csv\n",
            "seg_0e8b79.csv\t       seg_51f0a2.csv  seg_931244.csv  seg_d0f803.csv\n",
            "seg_0e9987.csv\t       seg_51f6fd.csv  seg_93211c.csv  seg_d1045e.csv\n",
            "seg_0e9bb3.csv\t       seg_521a88.csv  seg_932828.csv  seg_d11ca8.csv\n",
            "seg_0eb333.csv\t       seg_523945.csv  seg_934087.csv  seg_d14524.csv\n",
            "seg_0ebfd9.csv\t       seg_524b39.csv  seg_939f5c.csv  seg_d146a6.csv\n",
            "seg_0f565c.csv\t       seg_5254ce.csv  seg_93d864.csv  seg_d16534.csv\n",
            "seg_0f74a3.csv\t       seg_5255c0.csv  seg_93f935.csv  seg_d19980.csv\n",
            "seg_0f8961.csv\t       seg_52636c.csv  seg_941759.csv  seg_d1a281.csv\n",
            "seg_0fc67a.csv\t       seg_529be4.csv  seg_943de0.csv  seg_d1a2b9.csv\n",
            "seg_0fca83.csv\t       seg_529c99.csv  seg_944c98.csv  seg_d1a8b3.csv\n",
            "seg_0fd3ff.csv\t       seg_52c139.csv  seg_945bc8.csv  seg_d1abaa.csv\n",
            "seg_1010ad.csv\t       seg_530a02.csv  seg_946d71.csv  seg_d1b91e.csv\n",
            "seg_103b32.csv\t       seg_53103b.csv  seg_946d9a.csv  seg_d1ca05.csv\n",
            "seg_105cd9.csv\t       seg_5311d1.csv  seg_947700.csv  seg_d1cb37.csv\n",
            "seg_1084af.csv\t       seg_533613.csv  seg_9485c0.csv  seg_d1eee8.csv\n",
            "seg_10a595.csv\t       seg_53498a.csv  seg_94a133.csv  seg_d1fbb8.csv\n",
            "seg_10c09d.csv\t       seg_53a557.csv  seg_94aa0a.csv  seg_d21066.csv\n",
            "seg_10f3a6.csv\t       seg_53a5fd.csv  seg_94c48c.csv  seg_d21eb6.csv\n",
            "seg_112b81.csv\t       seg_53bdf5.csv  seg_94d150.csv  seg_d24095.csv\n",
            "seg_1144bc.csv\t       seg_53caf1.csv  seg_94d573.csv  seg_d247da.csv\n",
            "seg_114b79.csv\t       seg_53d818.csv  seg_94ecad.csv  seg_d2551a.csv\n",
            "seg_115617.csv\t       seg_53e645.csv  seg_950048.csv  seg_d26f7d.csv\n",
            "seg_115a92.csv\t       seg_53fa13.csv  seg_952faa.csv  seg_d27193.csv\n",
            "seg_11647f.csv\t       seg_5407b0.csv  seg_95357d.csv  seg_d27812.csv\n",
            "seg_117278.csv\t       seg_5445bc.csv  seg_95644e.csv  seg_d29a4b.csv\n",
            "seg_117ff4.csv\t       seg_54490e.csv  seg_957ece.csv  seg_d2a533.csv\n",
            "seg_11860f.csv\t       seg_545fda.csv  seg_95b321.csv  seg_d2ad9a.csv\n",
            "seg_1201e8.csv\t       seg_5467c8.csv  seg_95f45e.csv  seg_d2cb02.csv\n",
            "seg_121446.csv\t       seg_546864.csv  seg_961d02.csv  seg_d2db6b.csv\n",
            "seg_121cba.csv\t       seg_5470ca.csv  seg_961ddf.csv  seg_d2f588.csv\n",
            "seg_122ba9.csv\t       seg_5495ca.csv  seg_9626a4.csv  seg_d30a9d.csv\n",
            "seg_123dd4.csv\t       seg_54af0d.csv  seg_96642e.csv  seg_d31583.csv\n",
            "seg_12ac20.csv\t       seg_54b0ee.csv  seg_966f3d.csv  seg_d320f5.csv\n",
            "seg_12b9ba.csv\t       seg_54d0f3.csv  seg_967ae4.csv  seg_d328bb.csv\n",
            "seg_12ee6e.csv\t       seg_55239a.csv  seg_96cd5d.csv  seg_d32f71.csv\n",
            "seg_130e17.csv\t       seg_552b8e.csv  seg_96dab2.csv  seg_d32f8a.csv\n",
            "seg_13468a.csv\t       seg_5559d9.csv  seg_96db5e.csv  seg_d35274.csv\n",
            "seg_136285.csv\t       seg_555f63.csv  seg_96fa35.csv  seg_d356ab.csv\n",
            "seg_136695.csv\t       seg_5597ed.csv  seg_970b35.csv  seg_d35e50.csv\n",
            "seg_137f8a.csv\t       seg_55a0c3.csv  seg_970e86.csv  seg_d36055.csv\n",
            "seg_138807.csv\t       seg_55a9a4.csv  seg_974049.csv  seg_d36342.csv\n",
            "seg_13c2f0.csv\t       seg_55b566.csv  seg_9757ac.csv  seg_d36681.csv\n",
            "seg_13e25f.csv\t       seg_55d50b.csv  seg_979a8f.csv  seg_d36737.csv\n",
            "seg_140bc5.csv\t       seg_561cf4.csv  seg_97a161.csv  seg_d37b05.csv\n",
            "seg_141f34.csv\t       seg_563059.csv  seg_97ad82.csv  seg_d39131.csv\n",
            "seg_146926.csv\t       seg_5639b3.csv  seg_97d9ed.csv  seg_d398df.csv\n",
            "seg_148698.csv\t       seg_566efe.csv  seg_97e4a9.csv  seg_d3992e.csv\n",
            "seg_14ad27.csv\t       seg_56e3e7.csv  seg_9802c3.csv  seg_d3bb14.csv\n",
            "seg_14c054.csv\t       seg_56e6f1.csv  seg_9825e0.csv  seg_d3d8fc.csv\n",
            "seg_14c371.csv\t       seg_56ebc7.csv  seg_983778.csv  seg_d3f6b0.csv\n",
            "seg_14c435.csv\t       seg_570a20.csv  seg_986976.csv  seg_d3f967.csv\n",
            "seg_14c89d.csv\t       seg_570d69.csv  seg_986b6e.csv  seg_d40bb2.csv\n",
            "seg_14c8ce.csv\t       seg_572172.csv  seg_9872f9.csv  seg_d41daa.csv\n",
            "seg_14d1d3.csv\t       seg_5759c9.csv  seg_988e69.csv  seg_d42c77.csv\n",
            "seg_14f5f0.csv\t       seg_5765b6.csv  seg_98a819.csv  seg_d44589.csv\n",
            "seg_151368.csv\t       seg_578e84.csv  seg_98be13.csv  seg_d47aba.csv\n",
            "seg_151d92.csv\t       seg_57908c.csv  seg_98c0b6.csv  seg_d4c763.csv\n",
            "seg_153d6a.csv\t       seg_57b6c0.csv  seg_98c44d.csv  seg_d4dec8.csv\n",
            "seg_154361.csv\t       seg_57dd68.csv  seg_98c544.csv  seg_d4ea17.csv\n",
            "seg_1562cb.csv\t       seg_57ea44.csv  seg_98ebaa.csv  seg_d508db.csv\n",
            "seg_158691.csv\t       seg_580b65.csv  seg_98f624.csv  seg_d516e3.csv\n",
            "seg_158764.csv\t       seg_581fac.csv  seg_9940e8.csv  seg_d56ae2.csv\n",
            "seg_15adff.csv\t       seg_585872.csv  seg_996c37.csv  seg_d56d32.csv\n",
            "seg_15bf25.csv\t       seg_586726.csv  seg_99ccbd.csv  seg_d59e4e.csv\n",
            "seg_15c9f9.csv\t       seg_586c0f.csv  seg_99f677.csv  seg_d5b100.csv\n",
            "seg_161aeb.csv\t       seg_5887a8.csv  seg_99f76c.csv  seg_d5d3a1.csv\n",
            "seg_161f5f.csv\t       seg_588f61.csv  seg_9a1a4f.csv  seg_d5dbc1.csv\n",
            "seg_162fc4.csv\t       seg_58d52d.csv  seg_9a1c76.csv  seg_d5df41.csv\n",
            "seg_16566c.csv\t       seg_58e74b.csv  seg_9a43ef.csv  seg_d5f344.csv\n",
            "seg_166f70.csv\t       seg_58e9f9.csv  seg_9a6025.csv  seg_d60d18.csv\n",
            "seg_168d1c.csv\t       seg_58ea74.csv  seg_9a74d8.csv  seg_d62e9c.csv\n",
            "seg_16a270.csv\t       seg_59058a.csv  seg_9a7c46.csv  seg_d63175.csv\n",
            "seg_16c3a7.csv\t       seg_590fa5.csv  seg_9a7d1d.csv  seg_d661ce.csv\n",
            "seg_17067e.csv\t       seg_591954.csv  seg_9a812d.csv  seg_d668c0.csv\n",
            "seg_170684.csv\t       seg_5924f5.csv  seg_9a81a3.csv  seg_d68930.csv\n",
            "seg_170a0c.csv\t       seg_592807.csv  seg_9a8a1f.csv  seg_d693b0.csv\n",
            "seg_176542.csv\t       seg_593c34.csv  seg_9a9041.csv  seg_d6b198.csv\n",
            "seg_17799c.csv\t       seg_5965d8.csv  seg_9a92db.csv  seg_d6b386.csv\n",
            "seg_179d90.csv\t       seg_596ae3.csv  seg_9aa6e2.csv  seg_d6b546.csv\n",
            "seg_17adc0.csv\t       seg_5975f4.csv  seg_9ab405.csv  seg_d6dad6.csv\n",
            "seg_17d1ff.csv\t       seg_597bd6.csv  seg_9ad261.csv  seg_d6ea73.csv\n",
            "seg_17e596.csv\t       seg_59818b.csv  seg_9ad925.csv  seg_d702b2.csv\n",
            "seg_180481.csv\t       seg_59cd7d.csv  seg_9ae1a1.csv  seg_d71352.csv\n",
            "seg_18096a.csv\t       seg_59cfdb.csv  seg_9b0439.csv  seg_d740b2.csv\n",
            "seg_1815fe.csv\t       seg_59d484.csv  seg_9b44d2.csv  seg_d753f8.csv\n",
            "seg_1827c5.csv\t       seg_59de0b.csv  seg_9b7ef8.csv  seg_d78093.csv\n",
            "seg_184222.csv\t       seg_59e1db.csv  seg_9b7f93.csv  seg_d78e7d.csv\n",
            "seg_185ad6.csv\t       seg_59eb97.csv  seg_9bab11.csv  seg_d795ab.csv\n",
            "seg_18d1d0.csv\t       seg_5a0479.csv  seg_9bd388.csv  seg_d7967e.csv\n",
            "seg_18d307.csv\t       seg_5a1adb.csv  seg_9bee43.csv  seg_d7a805.csv\n",
            "seg_18f633.csv\t       seg_5a242e.csv  seg_9c00d7.csv  seg_d7ab50.csv\n",
            "seg_18f853.csv\t       seg_5a67b5.csv  seg_9c090f.csv  seg_d7f015.csv\n",
            "seg_18fb65.csv\t       seg_5a947e.csv  seg_9c2843.csv  seg_d7f53a.csv\n",
            "seg_193404.csv\t       seg_5abfdd.csv  seg_9c3d6a.csv  seg_d8014d.csv\n",
            "seg_19515c.csv\t       seg_5ad847.csv  seg_9c3ef8.csv  seg_d83890.csv\n",
            "seg_195eda.csv\t       seg_5b392b.csv  seg_9c635d.csv  seg_d85e2e.csv\n",
            "seg_1969c8.csv\t       seg_5b7325.csv  seg_9c6715.csv  seg_d86eb6.csv\n",
            "seg_19b08e.csv\t       seg_5b8c39.csv  seg_9c8162.csv  seg_d88da7.csv\n",
            "seg_19b9dd.csv\t       seg_5bc0b0.csv  seg_9c8bc8.csv  seg_d89369.csv\n",
            "seg_19e1ff.csv\t       seg_5bd9ae.csv  seg_9ca72e.csv  seg_d90c5f.csv\n",
            "seg_19ec5c.csv\t       seg_5bdb47.csv  seg_9caf50.csv  seg_d91492.csv\n",
            "seg_1a0e94.csv\t       seg_5bfbf0.csv  seg_9cb464.csv  seg_d9190c.csv\n",
            "seg_1a0eca.csv\t       seg_5c0929.csv  seg_9d1b26.csv  seg_d9352b.csv\n",
            "seg_1a671a.csv\t       seg_5c1a4d.csv  seg_9d1dbe.csv  seg_d962cc.csv\n",
            "seg_1a791c.csv\t       seg_5c530f.csv  seg_9d2528.csv  seg_d9750c.csv\n",
            "seg_1a8e06.csv\t       seg_5c57a8.csv  seg_9d3013.csv  seg_d9a2bb.csv\n",
            "seg_1a8f0d.csv\t       seg_5c8ae5.csv  seg_9d452d.csv  seg_d9b162.csv\n",
            "seg_1a8f2c.csv\t       seg_5c9077.csv  seg_9d57a1.csv  seg_d9bb68.csv\n",
            "seg_1abcaf.csv\t       seg_5cd98b.csv  seg_9d68cf.csv  seg_d9ce67.csv\n",
            "seg_1ac9e2.csv\t       seg_5cde88.csv  seg_9d6ff0.csv  seg_d9d0e4.csv\n",
            "seg_1ae362.csv\t       seg_5cfba9.csv  seg_9d7490.csv  seg_d9dab4.csv\n",
            "seg_1afa29.csv\t       seg_5cfdc4.csv  seg_9d79d4.csv  seg_da21ee.csv\n",
            "seg_1b08a4.csv\t       seg_5d333e.csv  seg_9dcae1.csv  seg_da7c3b.csv\n",
            "seg_1b1ad8.csv\t       seg_5d45db.csv  seg_9ddc99.csv  seg_da80c4.csv\n",
            "seg_1b2298.csv\t       seg_5d92af.csv  seg_9dea8d.csv  seg_da8b88.csv\n",
            "seg_1b78af.csv\t       seg_5d94b2.csv  seg_9df32d.csv  seg_dab0f9.csv\n",
            "seg_1baf33.csv\t       seg_5e020f.csv  seg_9e25e9.csv  seg_dad4f2.csv\n",
            "seg_1bd38e.csv\t       seg_5e0902.csv  seg_9e3837.csv  seg_db3446.csv\n",
            "seg_1bf7b3.csv\t       seg_5e1bba.csv  seg_9e61da.csv  seg_db3a95.csv\n",
            "seg_1c401b.csv\t       seg_5e541f.csv  seg_9e7dff.csv  seg_db3fbe.csv\n",
            "seg_1c4c5b.csv\t       seg_5e635a.csv  seg_9e8323.csv  seg_db4185.csv\n",
            "seg_1c4e72.csv\t       seg_5e668a.csv  seg_9e8ca4.csv  seg_db606c.csv\n",
            "seg_1c849d.csv\t       seg_5e70a7.csv  seg_9e962b.csv  seg_db694a.csv\n",
            "seg_1c904f.csv\t       seg_5e7abf.csv  seg_9ee0aa.csv  seg_db6d5f.csv\n",
            "seg_1c929e.csv\t       seg_5e8ef4.csv  seg_9f042e.csv  seg_db90c0.csv\n",
            "seg_1cb942.csv\t       seg_5eb380.csv  seg_9f12c6.csv  seg_dbbb44.csv\n",
            "seg_1cd352.csv\t       seg_5ec0e3.csv  seg_9f22a0.csv  seg_dbc615.csv\n",
            "seg_1cf1b5.csv\t       seg_5ed47e.csv  seg_9f4fd4.csv  seg_dbf3f2.csv\n",
            "seg_1d044c.csv\t       seg_5ef47e.csv  seg_9f57c4.csv  seg_dc188b.csv\n",
            "seg_1d11e5.csv\t       seg_5f0a92.csv  seg_9f6315.csv  seg_dc1cf0.csv\n",
            "seg_1d596d.csv\t       seg_5f24d3.csv  seg_9f7542.csv  seg_dc23c0.csv\n",
            "seg_1d980f.csv\t       seg_5f352e.csv  seg_9fc7c2.csv  seg_dc4698.csv\n",
            "seg_1da819.csv\t       seg_5f355e.csv  seg_9fd9b8.csv  seg_dc5e63.csv\n",
            "seg_1db443.csv\t       seg_5f46a5.csv  seg_9fe8b9.csv  seg_dc6e94.csv\n",
            "seg_1db8e8.csv\t       seg_5f7fd9.csv  seg_a00985.csv  seg_dc73b8.csv\n",
            "seg_1dec9c.csv\t       seg_5fe414.csv  seg_a009e6.csv  seg_dc7e0d.csv\n",
            "seg_1e0523.csv\t       seg_60277f.csv  seg_a03e6a.csv  seg_dca2c2.csv\n",
            "seg_1e0b82.csv\t       seg_6074f9.csv  seg_a05c22.csv  seg_dcb51d.csv\n",
            "seg_1e572b.csv\t       seg_607559.csv  seg_a06228.csv  seg_dcbe02.csv\n",
            "seg_1e617a.csv\t       seg_60ab20.csv  seg_a0646a.csv  seg_dcd9df.csv\n",
            "seg_1e61d6.csv\t       seg_60b696.csv  seg_a0979e.csv  seg_dcee28.csv\n",
            "seg_1e677e.csv\t       seg_60dacd.csv  seg_a0a423.csv  seg_dceeca.csv\n",
            "seg_1eae76.csv\t       seg_60df2a.csv  seg_a11dd5.csv  seg_dcf242.csv\n",
            "seg_1ebe6b.csv\t       seg_610379.csv  seg_a12acb.csv  seg_dcfb4b.csv\n",
            "seg_1ece48.csv\t       seg_61219c.csv  seg_a133bc.csv  seg_dd0b11.csv\n",
            "seg_1eeb8f.csv\t       seg_613702.csv  seg_a14212.csv  seg_dd4594.csv\n",
            "seg_1ef708.csv\t       seg_614b50.csv  seg_a16a1b.csv  seg_dd699c.csv\n",
            "seg_1f1e60.csv\t       seg_6153ca.csv  seg_a173d8.csv  seg_dd780d.csv\n",
            "seg_1f3d44.csv\t       seg_6167f0.csv  seg_a18246.csv  seg_dd8805.csv\n",
            "seg_1f3ede.csv\t       seg_616c8b.csv  seg_a1a511.csv  seg_ddbadc.csv\n",
            "seg_1f5240.csv\t       seg_61b50d.csv  seg_a1acb2.csv  seg_ddc800.csv\n",
            "seg_1f7cf8.csv\t       seg_61f504.csv  seg_a1b3cc.csv  seg_ddd206.csv\n",
            "seg_1f9aed.csv\t       seg_620ee4.csv  seg_a1d8da.csv  seg_ddddf0.csv\n",
            "seg_1fa983.csv\t       seg_622e9d.csv  seg_a1e5b0.csv  seg_de225c.csv\n",
            "seg_1fc7ab.csv\t       seg_62331a.csv  seg_a1edc1.csv  seg_de3237.csv\n",
            "seg_1fe311.csv\t       seg_6262c4.csv  seg_a247ac.csv  seg_de3d5e.csv\n",
            "seg_2005a7.csv\t       seg_629822.csv  seg_a25c46.csv  seg_de4e1d.csv\n",
            "seg_2018c8.csv\t       seg_62a403.csv  seg_a2986f.csv  seg_de8180.csv\n",
            "seg_204dc6.csv\t       seg_62c582.csv  seg_a2c108.csv  seg_de98fa.csv\n",
            "seg_208ba5.csv\t       seg_63130f.csv  seg_a2d47d.csv  seg_de9e32.csv\n",
            "seg_2099f4.csv\t       seg_633651.csv  seg_a2e2c8.csv  seg_df0df7.csv\n",
            "seg_20a990.csv\t       seg_634180.csv  seg_a2fd8b.csv  seg_df352f.csv\n",
            "seg_20b8d0.csv\t       seg_634f05.csv  seg_a31d6e.csv  seg_df45b0.csv\n",
            "seg_20cbac.csv\t       seg_635770.csv  seg_a31fe3.csv  seg_df8385.csv\n",
            "seg_20cc25.csv\t       seg_63582a.csv  seg_a35c82.csv  seg_df8e0a.csv\n",
            "seg_20d9de.csv\t       seg_63c13d.csv  seg_a35e7c.csv  seg_df99d4.csv\n",
            "seg_20e9ad.csv\t       seg_63c518.csv  seg_a39ebc.csv  seg_dff078.csv\n",
            "seg_210388.csv\t       seg_63c8e4.csv  seg_a39f3b.csv  seg_e00465.csv\n",
            "seg_211299.csv\t       seg_63c983.csv  seg_a39fa8.csv  seg_e051bc.csv\n",
            "seg_211486.csv\t       seg_63c9a3.csv  seg_a3ab46.csv  seg_e05de2.csv\n",
            "seg_214492.csv\t       seg_63d651.csv  seg_a3d4d6.csv  seg_e067ab.csv\n",
            "seg_217eed.csv\t       seg_6422d1.csv  seg_a41c2c.csv  seg_e09301.csv\n",
            "seg_218049.csv\t       seg_643d1f.csv  seg_a4208a.csv  seg_e0c329.csv\n",
            "seg_21eebb.csv\t       seg_643f86.csv  seg_a420d4.csv  seg_e0ce38.csv\n",
            "seg_21faa9.csv\t       seg_64bcb9.csv  seg_a436bc.csv  seg_e0cfd4.csv\n",
            "seg_222c5f.csv\t       seg_64be5d.csv  seg_a437cb.csv  seg_e0f296.csv\n",
            "seg_225320.csv\t       seg_64be91.csv  seg_a45455.csv  seg_e10d3b.csv\n",
            "seg_226e60.csv\t       seg_64daae.csv  seg_a47cce.csv  seg_e13bd8.csv\n",
            "seg_229eda.csv\t       seg_64dcf0.csv  seg_a489e1.csv  seg_e14149.csv\n",
            "seg_22e509.csv\t       seg_64f8dc.csv  seg_a49ccc.csv  seg_e1468f.csv\n",
            "seg_2313d1.csv\t       seg_650de2.csv  seg_a4ad7c.csv  seg_e15cb9.csv\n",
            "seg_232559.csv\t       seg_651808.csv  seg_a4e745.csv  seg_e197b8.csv\n",
            "seg_23323e.csv\t       seg_652cc2.csv  seg_a50d28.csv  seg_e1a9e0.csv\n",
            "seg_2367fb.csv\t       seg_655780.csv  seg_a5271e.csv  seg_e1daa0.csv\n",
            "seg_238242.csv\t       seg_655ad6.csv  seg_a53e4c.csv  seg_e1f045.csv\n",
            "seg_2383c2.csv\t       seg_655cae.csv  seg_a543e5.csv  seg_e1f081.csv\n",
            "seg_2396a2.csv\t       seg_658bf4.csv  seg_a55540.csv  seg_e20d76.csv\n",
            "seg_23b123.csv\t       seg_659ff8.csv  seg_a55a17.csv  seg_e217fc.csv\n",
            "seg_23bdf9.csv\t       seg_65b962.csv  seg_a56c04.csv  seg_e2209b.csv\n",
            "seg_23c947.csv\t       seg_65c4e1.csv  seg_a58a6e.csv  seg_e24496.csv\n",
            "seg_23efb0.csv\t       seg_65ef95.csv  seg_a5934a.csv  seg_e24f69.csv\n",
            "seg_23f823.csv\t       seg_65f01e.csv  seg_a5d37f.csv  seg_e256bd.csv\n",
            "seg_23fe27.csv\t       seg_65fbac.csv  seg_a5dea6.csv  seg_e25aca.csv\n",
            "seg_241266.csv\t       seg_660fe1.csv  seg_a5f4dd.csv  seg_e266f4.csv\n",
            "seg_24157a.csv\t       seg_660fef.csv  seg_a5fbcc.csv  seg_e27c0a.csv\n",
            "seg_24458d.csv\t       seg_661629.csv  seg_a61e1c.csv  seg_e29670.csv\n",
            "seg_2465ce.csv\t       seg_666056.csv  seg_a63573.csv  seg_e2b8b1.csv\n",
            "seg_247262.csv\t       seg_6681ee.csv  seg_a674d2.csv  seg_e2c82c.csv\n",
            "seg_24ba8d.csv\t       seg_66820a.csv  seg_a68007.csv  seg_e3005e.csv\n",
            "seg_24c078.csv\t       seg_6696d0.csv  seg_a68ffb.csv  seg_e30e44.csv\n",
            "seg_24c1c9.csv\t       seg_66b7c3.csv  seg_a69246.csv  seg_e30ef5.csv\n",
            "seg_24e071.csv\t       seg_66e45a.csv  seg_a6959c.csv  seg_e34052.csv\n",
            "seg_24f338.csv\t       seg_66ed4d.csv  seg_a6bf91.csv  seg_e37b8e.csv\n",
            "seg_257b8a.csv\t       seg_670bde.csv  seg_a6c5cc.csv  seg_e3b1f1.csv\n",
            "seg_2597af.csv\t       seg_67330f.csv  seg_a6cd86.csv  seg_e3ca24.csv\n",
            "seg_259c63.csv\t       seg_673c60.csv  seg_a6e801.csv  seg_e3cf1a.csv\n",
            "seg_259d65.csv\t       seg_67599b.csv  seg_a6e99c.csv  seg_e3d751.csv\n",
            "seg_259dd3.csv\t       seg_679dd2.csv  seg_a6eed3.csv  seg_e3dafa.csv\n",
            "seg_25aa9f.csv\t       seg_67aa76.csv  seg_a704ee.csv  seg_e3e762.csv\n",
            "seg_25ab3f.csv\t       seg_68102c.csv  seg_a7561c.csv  seg_e40348.csv\n",
            "seg_25b38a.csv\t       seg_683ddf.csv  seg_a7b454.csv  seg_e405fe.csv\n",
            "seg_25c8dc.csv\t       seg_686edc.csv  seg_a7d0eb.csv  seg_e40d64.csv\n",
            "seg_25cca7.csv\t       seg_687a5c.csv  seg_a7e49b.csv  seg_e41fc9.csv\n",
            "seg_25e76d.csv\t       seg_68a484.csv  seg_a80123.csv  seg_e47d2b.csv\n",
            "seg_26049e.csv\t       seg_68da94.csv  seg_a802fa.csv  seg_e481c7.csv\n",
            "seg_263deb.csv\t       seg_691a72.csv  seg_a80f6f.csv  seg_e48c23.csv\n",
            "seg_263fb3.csv\t       seg_692e7a.csv  seg_a82229.csv  seg_e49750.csv\n",
            "seg_2642d0.csv\t       seg_6951e0.csv  seg_a84c13.csv  seg_e4c15a.csv\n",
            "seg_2642d4.csv\t       seg_695380.csv  seg_a86231.csv  seg_e4f203.csv\n",
            "seg_264c7d.csv\t       seg_696621.csv  seg_a8685e.csv  seg_e4f403.csv\n",
            "seg_266805.csv\t       seg_6968c8.csv  seg_a86a05.csv  seg_e50f16.csv\n",
            "seg_266c6e.csv\t       seg_69787a.csv  seg_a87e79.csv  seg_e52f8c.csv\n",
            "seg_266d4e.csv\t       seg_69a230.csv  seg_a88097.csv  seg_e53a52.csv\n",
            "seg_268249.csv\t       seg_69a53e.csv  seg_a88dde.csv  seg_e54932.csv\n",
            "seg_268625.csv\t       seg_69dbad.csv  seg_a8bb2f.csv  seg_e5750a.csv\n",
            "seg_268956.csv\t       seg_6a05e7.csv  seg_a8ddf7.csv  seg_e59dca.csv\n",
            "seg_26a2a0.csv\t       seg_6a116b.csv  seg_a8e6df.csv  seg_e5b510.csv\n",
            "seg_26cba3.csv\t       seg_6a26de.csv  seg_a8e71a.csv  seg_e5c033.csv\n",
            "seg_26edaa.csv\t       seg_6a45a0.csv  seg_a9089b.csv  seg_e5deec.csv\n",
            "seg_2700bd.csv\t       seg_6a4ad1.csv  seg_a91c03.csv  seg_e5e238.csv\n",
            "seg_272a47.csv\t       seg_6ab188.csv  seg_a93a88.csv  seg_e5f9ec.csv\n",
            "seg_274a1a.csv\t       seg_6ac67a.csv  seg_a96b47.csv  seg_e5fbc1.csv\n",
            "seg_2774c4.csv\t       seg_6ac82a.csv  seg_a975df.csv  seg_e60719.csv\n",
            "seg_279725.csv\t       seg_6ae32d.csv  seg_a99161.csv  seg_e6307f.csv\n",
            "seg_27a282.csv\t       seg_6b0107.csv  seg_a99799.csv  seg_e64dfa.csv\n",
            "seg_27b7c8.csv\t       seg_6b2ce0.csv  seg_a99be9.csv  seg_e65e69.csv\n",
            "seg_27db4d.csv\t       seg_6b3a9d.csv  seg_a9a820.csv  seg_e66697.csv\n",
            "seg_27de37.csv\t       seg_6b4e04.csv  seg_a9b957.csv  seg_e6b236.csv\n",
            "seg_27f532.csv\t       seg_6b536d.csv  seg_a9f80e.csv  seg_e6bd3f.csv\n",
            "seg_27ff17.csv\t       seg_6b9511.csv  seg_aa0180.csv  seg_e6c973.csv\n",
            "seg_280863.csv\t       seg_6b9d02.csv  seg_aa1adf.csv  seg_e6e1df.csv\n",
            "seg_280e3b.csv\t       seg_6be48e.csv  seg_aa508a.csv  seg_e6e24e.csv\n",
            "seg_284223.csv\t       seg_6c292b.csv  seg_aa78e0.csv  seg_e71dda.csv\n",
            "seg_284923.csv\t       seg_6c309f.csv  seg_aa7a4b.csv  seg_e72f10.csv\n",
            "seg_287e60.csv\t       seg_6c34c2.csv  seg_aa98cc.csv  seg_e742dc.csv\n",
            "seg_287fef.csv\t       seg_6c8a45.csv  seg_aa9b8e.csv  seg_e76e6e.csv\n",
            "seg_288001.csv\t       seg_6c909f.csv  seg_aaa2ae.csv  seg_e7ac12.csv\n",
            "seg_2883ec.csv\t       seg_6cfb76.csv  seg_aabc52.csv  seg_e7ced6.csv\n",
            "seg_289d99.csv\t       seg_6d01a3.csv  seg_aae025.csv  seg_e7d1f8.csv\n",
            "seg_28fc32.csv\t       seg_6d35cd.csv  seg_ab001b.csv  seg_e7d3e7.csv\n",
            "seg_29022f.csv\t       seg_6d36a1.csv  seg_ab15ad.csv  seg_e80726.csv\n",
            "seg_2916e3.csv\t       seg_6d4109.csv  seg_ab2a78.csv  seg_e81b50.csv\n",
            "seg_293dbf.csv\t       seg_6d4fa6.csv  seg_ab3f14.csv  seg_e8385f.csv\n",
            "seg_293dc2.csv\t       seg_6d6fad.csv  seg_ab4bca.csv  seg_e85f55.csv\n",
            "seg_29475f.csv\t       seg_6da1ff.csv  seg_ab644e.csv  seg_e86e44.csv\n",
            "seg_295b1c.csv\t       seg_6dac5d.csv  seg_ab70bd.csv  seg_e86ed1.csv\n",
            "seg_2977cd.csv\t       seg_6dd0fc.csv  seg_ab9654.csv  seg_e86f77.csv\n",
            "seg_29a073.csv\t       seg_6de4fd.csv  seg_aba501.csv  seg_e877a5.csv\n",
            "seg_29acb7.csv\t       seg_6de935.csv  seg_abaad2.csv  seg_e8a2c4.csv\n",
            "seg_29c772.csv\t       seg_6df48e.csv  seg_abb03a.csv  seg_e8a4f4.csv\n",
            "seg_29c906.csv\t       seg_6dfab7.csv  seg_abb06a.csv  seg_e8ac98.csv\n",
            "seg_29d497.csv\t       seg_6e12ae.csv  seg_abc5fd.csv  seg_e8ad6b.csv\n",
            "seg_29d4c6.csv\t       seg_6e12ee.csv  seg_abda04.csv  seg_e8b2b3.csv\n",
            "seg_29e799.csv\t       seg_6e1ee7.csv  seg_abeca6.csv  seg_e8bcde.csv\n",
            "seg_2a0ace.csv\t       seg_6e572a.csv  seg_ac45ae.csv  seg_e8ce6a.csv\n",
            "seg_2a0afc.csv\t       seg_6e5a38.csv  seg_ac5c61.csv  seg_e8d02f.csv\n",
            "seg_2a0dc0.csv\t       seg_6e7f73.csv  seg_ac68bb.csv  seg_e90c0d.csv\n",
            "seg_2a2f1e.csv\t       seg_6e98aa.csv  seg_ac9de5.csv  seg_e92526.csv\n",
            "seg_2a4551.csv\t       seg_6eb146.csv  seg_acd715.csv  seg_e9272e.csv\n",
            "seg_2a6343.csv\t       seg_6ed49a.csv  seg_acf2f4.csv  seg_e96140.csv\n",
            "seg_2a8351.csv\t       seg_6edcb8.csv  seg_ad3a44.csv  seg_e98217.csv\n",
            "seg_2aa101.csv\t       seg_6eedcc.csv  seg_ad3cf0.csv  seg_e9a09f.csv\n",
            "seg_2abd33.csv\t       seg_6f17de.csv  seg_ad591c.csv  seg_e9aa44.csv\n",
            "seg_2b2cb3.csv\t       seg_6f2222.csv  seg_ad759c.csv  seg_e9df42.csv\n",
            "seg_2b372b.csv\t       seg_6f3d90.csv  seg_ad82ca.csv  seg_e9e65b.csv\n",
            "seg_2b4959.csv\t       seg_6f60b2.csv  seg_ad949a.csv  seg_ea0091.csv\n",
            "seg_2b6d52.csv\t       seg_6f650f.csv  seg_ada42c.csv  seg_ea05c1.csv\n",
            "seg_2ba79a.csv\t       seg_6f9a98.csv  seg_ada81a.csv  seg_ea096b.csv\n",
            "seg_2bcbde.csv\t       seg_6fb17f.csv  seg_ade769.csv  seg_ea098b.csv\n",
            "seg_2be983.csv\t       seg_6fc3ef.csv  seg_adf94a.csv  seg_ea4d3a.csv\n",
            "seg_2bf5be.csv\t       seg_6fc8b3.csv  seg_adf986.csv  seg_ea78c0.csv\n",
            "seg_2bf9dd.csv\t       seg_6fd5bb.csv  seg_ae32a6.csv  seg_ea8270.csv\n",
            "seg_2c3203.csv\t       seg_7012af.csv  seg_ae3388.csv  seg_ea9d37.csv\n",
            "seg_2c5e9f.csv\t       seg_7020c5.csv  seg_ae3d92.csv  seg_ea9fa4.csv\n",
            "seg_2c6011.csv\t       seg_702e03.csv  seg_ae42b3.csv  seg_eaa0ec.csv\n",
            "seg_2c69e4.csv\t       seg_703cea.csv  seg_ae9626.csv  seg_eabb2c.csv\n",
            "seg_2c762c.csv\t       seg_705463.csv  seg_ae9761.csv  seg_eacccf.csv\n",
            "seg_2cac57.csv\t       seg_708349.csv  seg_aec276.csv  seg_ead30e.csv\n",
            "seg_2cadc0.csv\t       seg_70991d.csv  seg_aed434.csv  seg_eb0b19.csv\n",
            "seg_2cdbe3.csv\t       seg_709b6a.csv  seg_aee7c0.csv  seg_eb1d6e.csv\n",
            "seg_2d3828.csv\t       seg_709d08.csv  seg_aee9bf.csv  seg_eb2e11.csv\n",
            "seg_2d402d.csv\t       seg_70a60e.csv  seg_aeeb31.csv  seg_eb32bc.csv\n",
            "seg_2d427f.csv\t       seg_70b375.csv  seg_af1650.csv  seg_eb47a9.csv\n",
            "seg_2d5544.csv\t       seg_70be4d.csv  seg_af2472.csv  seg_eb692c.csv\n",
            "seg_2d7cc4.csv\t       seg_70e891.csv  seg_af6204.csv  seg_eb7595.csv\n",
            "seg_2d92f0.csv\t       seg_70edf5.csv  seg_af703b.csv  seg_eb7f91.csv\n",
            "seg_2db7dc.csv\t       seg_70fb30.csv  seg_af959f.csv  seg_eba22d.csv\n",
            "seg_2dc6ff.csv\t       seg_7120ac.csv  seg_afa4a1.csv  seg_ebb79f.csv\n",
            "seg_2dccec.csv\t       seg_71238c.csv  seg_afadfb.csv  seg_ebd77b.csv\n",
            "seg_2dcd3a.csv\t       seg_71348a.csv  seg_afca81.csv  seg_ebe36c.csv\n",
            "seg_2dcd84.csv\t       seg_715e2c.csv  seg_afd665.csv  seg_ebec3e.csv\n",
            "seg_2dfb91.csv\t       seg_715ff6.csv  seg_b00f05.csv  seg_ec0e7b.csv\n",
            "seg_2e2372.csv\t       seg_7189ca.csv  seg_b02e31.csv  seg_ec4645.csv\n",
            "seg_2e50fb.csv\t       seg_718b53.csv  seg_b03de5.csv  seg_ec73d5.csv\n",
            "seg_2e64af.csv\t       seg_71936f.csv  seg_b08e9d.csv  seg_ec973c.csv\n",
            "seg_2e71dd.csv\t       seg_71b4e0.csv  seg_b0a794.csv  seg_eca2eb.csv\n",
            "seg_2e88dd.csv\t       seg_71b975.csv  seg_b0bf65.csv  seg_ecaef0.csv\n",
            "seg_2e917f.csv\t       seg_71c9e9.csv  seg_b0cf32.csv  seg_eccb17.csv\n",
            "seg_2e9a47.csv\t       seg_71f571.csv  seg_b0d251.csv  seg_ecdca4.csv\n",
            "seg_2ea616.csv\t       seg_7211f1.csv  seg_b0f9cd.csv  seg_ecf28d.csv\n",
            "seg_2eccb9.csv\t       seg_724df9.csv  seg_b108c9.csv  seg_ecf81b.csv\n",
            "seg_2ece02.csv\t       seg_725772.csv  seg_b13220.csv  seg_ed07b0.csv\n",
            "seg_2ed79b.csv\t       seg_725e84.csv  seg_b13fb9.csv  seg_ed3e4c.csv\n",
            "seg_2eddf6.csv\t       seg_727fc7.csv  seg_b197e2.csv  seg_ed52ac.csv\n",
            "seg_2ee95c.csv\t       seg_72858d.csv  seg_b1a35c.csv  seg_ed7741.csv\n",
            "seg_2efd5c.csv\t       seg_72859b.csv  seg_b1b95e.csv  seg_ed7dee.csv\n",
            "seg_2f1664.csv\t       seg_72aba8.csv  seg_b1fea8.csv  seg_ed7f69.csv\n",
            "seg_2f4f14.csv\t       seg_72b68c.csv  seg_b20487.csv  seg_edda79.csv\n",
            "seg_2f5695.csv\t       seg_72c307.csv  seg_b21273.csv  seg_edecaa.csv\n",
            "seg_2f60db.csv\t       seg_72ebda.csv  seg_b23489.csv  seg_ee1cfc.csv\n",
            "seg_2f86cd.csv\t       seg_72f40a.csv  seg_b253ee.csv  seg_ee2781.csv\n",
            "seg_2f8e19.csv\t       seg_730ebe.csv  seg_b25dde.csv  seg_ee4479.csv\n",
            "seg_2f8f6d.csv\t       seg_734a88.csv  seg_b26368.csv  seg_ee4ae5.csv\n",
            "seg_2f9336.csv\t       seg_73565e.csv  seg_b284b2.csv  seg_ee7224.csv\n",
            "seg_2f9581.csv\t       seg_735cdd.csv  seg_b291c0.csv  seg_ee87e2.csv\n",
            "seg_2fb672.csv\t       seg_73858d.csv  seg_b2b29d.csv  seg_ee8f87.csv\n",
            "seg_2fe382.csv\t       seg_738be6.csv  seg_b2b331.csv  seg_eea20e.csv\n",
            "seg_301c1e.csv\t       seg_739643.csv  seg_b2e045.csv  seg_eebbc2.csv\n",
            "seg_30207d.csv\t       seg_739679.csv  seg_b31961.csv  seg_eee89d.csv\n",
            "seg_304581.csv\t       seg_739856.csv  seg_b32d1d.csv  seg_eefd4a.csv\n",
            "seg_304b87.csv\t       seg_739fb0.csv  seg_b35174.csv  seg_ef24bd.csv\n",
            "seg_304df5.csv\t       seg_73ab4a.csv  seg_b36650.csv  seg_ef27c8.csv\n",
            "seg_30501b.csv\t       seg_73b0f7.csv  seg_b36c8a.csv  seg_ef47c4.csv\n",
            "seg_3065ba.csv\t       seg_740837.csv  seg_b378bc.csv  seg_ef644a.csv\n",
            "seg_30661b.csv\t       seg_741fc1.csv  seg_b3883e.csv  seg_ef660a.csv\n",
            "seg_306756.csv\t       seg_74235f.csv  seg_b3cf21.csv  seg_ef74dc.csv\n",
            "seg_30ad2a.csv\t       seg_7428e7.csv  seg_b3d886.csv  seg_ef779d.csv\n",
            "seg_30b043.csv\t       seg_743775.csv  seg_b402ac.csv  seg_ef9105.csv\n",
            "seg_30da11.csv\t       seg_74537f.csv  seg_b41d3c.csv  seg_efb639.csv\n",
            "seg_30fd84.csv\t       seg_746d1d.csv  seg_b42170.csv  seg_efbf3e.csv\n",
            "seg_310230.csv\t       seg_7480f4.csv  seg_b4402d.csv  seg_efc5fb.csv\n",
            "seg_31064b.csv\t       seg_74b264.csv  seg_b44c2e.csv  seg_efd9ec.csv\n",
            "seg_311499.csv\t       seg_74b3bd.csv  seg_b47c19.csv  seg_f003ca.csv\n",
            "seg_311b5e.csv\t       seg_74ce61.csv  seg_b4c040.csv  seg_f01368.csv\n",
            "seg_3128e6.csv\t       seg_74d58a.csv  seg_b4cb44.csv  seg_f0181d.csv\n",
            "seg_3151ff.csv\t       seg_74d8cc.csv  seg_b4f7a8.csv  seg_f02d32.csv\n",
            "seg_31631c.csv\t       seg_74dda9.csv  seg_b50239.csv  seg_f056d8.csv\n",
            "seg_316f86.csv\t       seg_74f330.csv  seg_b51380.csv  seg_f0574b.csv\n",
            "seg_318135.csv\t       seg_74fcfc.csv  seg_b51b7c.csv  seg_f073e2.csv\n",
            "seg_31a51f.csv\t       seg_74ffde.csv  seg_b52710.csv  seg_f0ce4a.csv\n",
            "seg_31a6cd.csv\t       seg_750244.csv  seg_b52add.csv  seg_f0cedb.csv\n",
            "seg_31b808.csv\t       seg_750c93.csv  seg_b52dac.csv  seg_f0d278.csv\n",
            "seg_31c0f4.csv\t       seg_750d20.csv  seg_b54024.csv  seg_f0db55.csv\n",
            "seg_31d763.csv\t       seg_750e7e.csv  seg_b568c6.csv  seg_f11620.csv\n",
            "seg_31d7bf.csv\t       seg_75211e.csv  seg_b57e76.csv  seg_f11f77.csv\n",
            "seg_31d810.csv\t       seg_753190.csv  seg_b5804a.csv  seg_f165f6.csv\n",
            "seg_31ddc5.csv\t       seg_753ba6.csv  seg_b58542.csv  seg_f19f8e.csv\n",
            "seg_3234ca.csv\t       seg_7540f3.csv  seg_b5a447.csv  seg_f1a771.csv\n",
            "seg_324447.csv\t       seg_75438e.csv  seg_b5aee9.csv  seg_f1b916.csv\n",
            "seg_324537.csv\t       seg_755d50.csv  seg_b6254c.csv  seg_f1f5b9.csv\n",
            "seg_325790.csv\t       seg_75654d.csv  seg_b63de1.csv  seg_f21a22.csv\n",
            "seg_326eb7.csv\t       seg_758374.csv  seg_b64c9c.csv  seg_f21bf4.csv\n",
            "seg_327ed4.csv\t       seg_758ca4.csv  seg_b66b87.csv  seg_f22163.csv\n",
            "seg_32906d.csv\t       seg_759fb1.csv  seg_b686e5.csv  seg_f229bf.csv\n",
            "seg_32ad0f.csv\t       seg_75a878.csv  seg_b687fc.csv  seg_f24292.csv\n",
            "seg_32c904.csv\t       seg_75c34b.csv  seg_b691c5.csv  seg_f2750c.csv\n",
            "seg_32d747.csv\t       seg_75cd6a.csv  seg_b69455.csv  seg_f2a20d.csv\n",
            "seg_32e763.csv\t       seg_75dc3e.csv  seg_b695b3.csv  seg_f2ae5e.csv\n",
            "seg_32f3a9.csv\t       seg_75e669.csv  seg_b6bdaa.csv  seg_f2b0c5.csv\n",
            "seg_32f6df.csv\t       seg_75e93c.csv  seg_b6c10d.csv  seg_f2cb5e.csv\n",
            "seg_32f72d.csv\t       seg_75eb90.csv  seg_b6cb2b.csv  seg_f2f5a3.csv\n",
            "seg_32fc4e.csv\t       seg_75ffc9.csv  seg_b72413.csv  seg_f3063a.csv\n",
            "seg_330579.csv\t       seg_760d70.csv  seg_b735a5.csv  seg_f30b2f.csv\n",
            "seg_3319b5.csv\t       seg_76106f.csv  seg_b77bf5.csv  seg_f30f0c.csv\n",
            "seg_331f2b.csv\t       seg_762188.csv  seg_b782c7.csv  seg_f322b1.csv\n",
            "seg_3340b9.csv\t       seg_762be4.csv  seg_b78883.csv  seg_f342a3.csv\n",
            "seg_335170.csv\t       seg_7630c5.csv  seg_b7a8a1.csv  seg_f34877.csv\n",
            "seg_337b8c.csv\t       seg_766e42.csv  seg_b7b098.csv  seg_f383fb.csv\n",
            "seg_339f80.csv\t       seg_76b76f.csv  seg_b7da0a.csv  seg_f3c578.csv\n",
            "seg_33c30d.csv\t       seg_76c2fa.csv  seg_b7eeb6.csv  seg_f43730.csv\n",
            "seg_342ce6.csv\t       seg_76d16c.csv  seg_b80358.csv  seg_f43ab6.csv\n",
            "seg_343571.csv\t       seg_76e914.csv  seg_b80366.csv  seg_f455bc.csv\n",
            "seg_3452b2.csv\t       seg_76f1af.csv  seg_b80b89.csv  seg_f46cc1.csv\n",
            "seg_34a2b8.csv\t       seg_76f3f2.csv  seg_b8141c.csv  seg_f48363.csv\n",
            "seg_34a8f7.csv\t       seg_76f76d.csv  seg_b853c1.csv  seg_f48db9.csv\n",
            "seg_34abd2.csv\t       seg_774ad2.csv  seg_b853f8.csv  seg_f4ad4b.csv\n",
            "seg_34ef79.csv\t       seg_77bf79.csv  seg_b86ce1.csv  seg_f4d644.csv\n",
            "seg_3506d6.csv\t       seg_77c546.csv  seg_b8725b.csv  seg_f52cdc.csv\n",
            "seg_35269b.csv\t       seg_77db7b.csv  seg_b8745c.csv  seg_f5406b.csv\n",
            "seg_355717.csv\t       seg_77dbe7.csv  seg_b87cf5.csv  seg_f579ba.csv\n",
            "seg_355d19.csv\t       seg_77df38.csv  seg_b88baa.csv  seg_f57ca1.csv\n",
            "seg_35a2d7.csv\t       seg_77e7bf.csv  seg_b89218.csv  seg_f59974.csv\n",
            "seg_35b009.csv\t       seg_77ea14.csv  seg_b89e47.csv  seg_f5a4ee.csv\n",
            "seg_35b753.csv\t       seg_77f9e3.csv  seg_b8b72f.csv  seg_f5a6ab.csv\n",
            "seg_35ba8f.csv\t       seg_77fe77.csv  seg_b8bb87.csv  seg_f5d2dd.csv\n",
            "seg_35c587.csv\t       seg_7848f8.csv  seg_b8fd73.csv  seg_f5e682.csv\n",
            "seg_35dd45.csv\t       seg_7862ed.csv  seg_b91011.csv  seg_f60872.csv\n",
            "seg_35ee83.csv\t       seg_786ff6.csv  seg_b917b5.csv  seg_f618a8.csv\n",
            "seg_36147d.csv\t       seg_78852d.csv  seg_b91ae2.csv  seg_f61b0e.csv\n",
            "seg_361f5a.csv\t       seg_78addc.csv  seg_b9361a.csv  seg_f639cd.csv\n",
            "seg_3631ec.csv\t       seg_78d817.csv  seg_b9365c.csv  seg_f639ec.csv\n",
            "seg_3661de.csv\t       seg_78db0a.csv  seg_b947ae.csv  seg_f650cc.csv\n",
            "seg_369570.csv\t       seg_78ded2.csv  seg_b95010.csv  seg_f6659e.csv\n",
            "seg_36b77f.csv\t       seg_78fc4b.csv  seg_b95a77.csv  seg_f66db1.csv\n",
            "seg_36e32d.csv\t       seg_790108.csv  seg_b9619c.csv  seg_f679c6.csv\n",
            "seg_3706be.csv\t       seg_7949da.csv  seg_b9ad7f.csv  seg_f67ce2.csv\n",
            "seg_373a04.csv\t       seg_79c47a.csv  seg_b9bdd7.csv  seg_f6828d.csv\n",
            "seg_373ba6.csv\t       seg_79dc90.csv  seg_b9d8a0.csv  seg_f69c38.csv\n",
            "seg_37608b.csv\t       seg_79e301.csv  seg_b9de03.csv  seg_f6a217.csv\n",
            "seg_3761d0.csv\t       seg_7a09ec.csv  seg_b9ec4b.csv  seg_f6abc5.csv\n",
            "seg_37669c.csv\t       seg_7a521c.csv  seg_ba0485.csv  seg_f6b70c.csv\n",
            "seg_376908.csv\t       seg_7a5243.csv  seg_ba1d68.csv  seg_f6bae8.csv\n",
            "seg_377134.csv\t       seg_7a9228.csv  seg_ba2c48.csv  seg_f6c0cb.csv\n",
            "seg_3788c5.csv\t       seg_7a9f2b.csv  seg_ba3c47.csv  seg_f6c928.csv\n",
            "seg_37bf85.csv\t       seg_7aeca4.csv  seg_ba3e74.csv  seg_f6cfd4.csv\n",
            "seg_37f3fb.csv\t       seg_7b0936.csv  seg_ba4ea3.csv  seg_f6d51b.csv\n",
            "seg_38001b.csv\t       seg_7b2994.csv  seg_ba5e7e.csv  seg_f6e1ca.csv\n",
            "seg_383b6b.csv\t       seg_7b3017.csv  seg_ba83da.csv  seg_f6e89f.csv\n",
            "seg_383f2e.csv\t       seg_7b5f90.csv  seg_ba941e.csv  seg_f6f523.csv\n",
            "seg_3865bc.csv\t       seg_7bb771.csv  seg_ba98dc.csv  seg_f6f683.csv\n",
            "seg_3878d0.csv\t       seg_7bec10.csv  seg_ba9dbf.csv  seg_f7050a.csv\n",
            "seg_389906.csv\t       seg_7bf143.csv  seg_baa745.csv  seg_f70b66.csv\n",
            "seg_38ad16.csv\t       seg_7c0376.csv  seg_bb171f.csv  seg_f71db8.csv\n",
            "seg_38ee24.csv\t       seg_7c10c1.csv  seg_bb180c.csv  seg_f7290f.csv\n",
            "seg_392019.csv\t       seg_7c2beb.csv  seg_bb2d77.csv  seg_f734c8.csv\n",
            "seg_39300d.csv\t       seg_7c2c48.csv  seg_bb5e15.csv  seg_f741af.csv\n",
            "seg_395e0e.csv\t       seg_7c6c31.csv  seg_bb6904.csv  seg_f77ee5.csv\n",
            "seg_397983.csv\t       seg_7c88d1.csv  seg_bb6fcb.csv  seg_f7d792.csv\n",
            "seg_397dc9.csv\t       seg_7c9433.csv  seg_bb92b1.csv  seg_f7de40.csv\n",
            "seg_398a25.csv\t       seg_7cb417.csv  seg_bbb01e.csv  seg_f80e44.csv\n",
            "seg_39a886.csv\t       seg_7cbb45.csv  seg_bbbc30.csv  seg_f83d28.csv\n",
            "seg_39ad50.csv\t       seg_7cd6b1.csv  seg_bbf805.csv  seg_f865be.csv\n",
            "seg_3a1600.csv\t       seg_7cdfe5.csv  seg_bbfd4e.csv  seg_f86c41.csv\n",
            "seg_3a22ac.csv\t       seg_7ce9cb.csv  seg_bc07c8.csv  seg_f88d4a.csv\n",
            "seg_3a80c5.csv\t       seg_7cef95.csv  seg_bc1d67.csv  seg_f8db0a.csv\n",
            "seg_3a8a76.csv\t       seg_7d17eb.csv  seg_bc2186.csv  seg_f8dd7e.csv\n",
            "seg_3aca44.csv\t       seg_7d2535.csv  seg_bc437b.csv  seg_f931de.csv\n",
            "seg_3adb1a.csv\t       seg_7d2e57.csv  seg_bca500.csv  seg_f93ce5.csv\n",
            "seg_3ae4d9.csv\t       seg_7d65c7.csv  seg_bcc8f1.csv  seg_f95fd3.csv\n",
            "seg_3af649.csv\t       seg_7d718e.csv  seg_bce23c.csv  seg_f96d0e.csv\n",
            "seg_3b2013.csv\t       seg_7d88e3.csv  seg_bce305.csv  seg_f96d5a.csv\n",
            "seg_3b30fd.csv\t       seg_7d994f.csv  seg_bcf2d9.csv  seg_f97274.csv\n",
            "seg_3b4414.csv\t       seg_7ddc30.csv  seg_bcf6af.csv  seg_f99b64.csv\n",
            "seg_3b7175.csv\t       seg_7df3dd.csv  seg_bcfad6.csv  seg_f9e4f2.csv\n",
            "seg_3b7724.csv\t       seg_7e3b3e.csv  seg_bd00c4.csv  seg_f9eea3.csv\n",
            "seg_3b95d2.csv\t       seg_7e9eb7.csv  seg_bd2b0c.csv  seg_fa0ac7.csv\n",
            "seg_3b95dc.csv\t       seg_7eb108.csv  seg_bd31bf.csv  seg_fa34c7.csv\n",
            "seg_3ba485.csv\t       seg_7ebdc3.csv  seg_bd40f2.csv  seg_fa488e.csv\n",
            "seg_3bb90a.csv\t       seg_7ed2dd.csv  seg_bd4d30.csv  seg_fa4df0.csv\n",
            "seg_3bc9ed.csv\t       seg_7ef97b.csv  seg_bd5022.csv  seg_fa6383.csv\n",
            "seg_3bd97e.csv\t       seg_7efdd5.csv  seg_bd629b.csv  seg_fa796b.csv\n",
            "seg_3bf9ac.csv\t       seg_7f3ab0.csv  seg_bd6f5f.csv  seg_fa9f00.csv\n",
            "seg_3bfcf6.csv\t       seg_7f5b6f.csv  seg_bd7109.csv  seg_fad815.csv\n",
            "seg_3c3ddf.csv\t       seg_7f786b.csv  seg_bdae02.csv  seg_fb00b3.csv\n",
            "seg_3c4106.csv\t       seg_7f93b2.csv  seg_bdf84b.csv  seg_fb11ba.csv\n",
            "seg_3c64fb.csv\t       seg_7f9b3a.csv  seg_be0cdc.csv  seg_fb1f5c.csv\n",
            "seg_3c8545.csv\t       seg_7fa6ec.csv  seg_be0dfa.csv  seg_fb4c26.csv\n",
            "seg_3cba49.csv\t       seg_7fac26.csv  seg_be19e2.csv  seg_fb74f0.csv\n",
            "seg_3cbccf.csv\t       seg_7fd3a3.csv  seg_be30ce.csv  seg_fb76ca.csv\n",
            "seg_3ce740.csv\t       seg_7fd6b7.csv  seg_be4612.csv  seg_fb8af5.csv\n",
            "seg_3cfb73.csv\t       seg_80211c.csv  seg_be62ef.csv  seg_fb9491.csv\n",
            "seg_3d059a.csv\t       seg_804fb5.csv  seg_be65f2.csv  seg_fb9b2e.csv\n",
            "seg_3d06cc.csv\t       seg_80622d.csv  seg_be811d.csv  seg_fbce13.csv\n",
            "seg_3d19fc.csv\t       seg_807901.csv  seg_beb650.csv  seg_fbd66b.csv\n",
            "seg_3d1cb3.csv\t       seg_80b9b4.csv  seg_beda44.csv  seg_fbddb9.csv\n",
            "seg_3d1f2e.csv\t       seg_80fb86.csv  seg_bee792.csv  seg_fbe3c2.csv\n",
            "seg_3d581c.csv\t       seg_812962.csv  seg_bf1294.csv  seg_fbf17a.csv\n",
            "seg_3d6aac.csv\t       seg_812a50.csv  seg_bf1430.csv  seg_fbff25.csv\n",
            "seg_3d6e79.csv\t       seg_813aab.csv  seg_bf1a72.csv  seg_fc407c.csv\n",
            "seg_3d9aa0.csv\t       seg_814b1f.csv  seg_bf2d1f.csv  seg_fc57d4.csv\n",
            "seg_3db0a8.csv\t       seg_816b7a.csv  seg_bf4bf2.csv  seg_fc8fd6.csv\n",
            "seg_3e00cd.csv\t       seg_818382.csv  seg_bf4ec0.csv  seg_fcb7d0.csv\n",
            "seg_3e55d5.csv\t       seg_81a8ea.csv  seg_bf58ce.csv  seg_fcca66.csv\n",
            "seg_3e87b4.csv\t       seg_81bebd.csv  seg_bf7224.csv  seg_fcd32e.csv\n",
            "seg_3ec967.csv\t       seg_81c1a6.csv  seg_bfdd14.csv  seg_fd19b8.csv\n",
            "seg_3edf51.csv\t       seg_81c432.csv  seg_bfe0b6.csv  seg_fd374e.csv\n",
            "seg_3f2086.csv\t       seg_81f798.csv  seg_bff05e.csv  seg_fd6340.csv\n",
            "seg_3f3689.csv\t       seg_8200d2.csv  seg_bff392.csv  seg_fd8add.csv\n",
            "seg_3f3983.csv\t       seg_82303e.csv  seg_c01a57.csv  seg_fd9ac1.csv\n",
            "seg_3f5be6.csv\t       seg_82316b.csv  seg_c01d9a.csv  seg_fdba93.csv\n",
            "seg_3f80ef.csv\t       seg_8244bf.csv  seg_c01f63.csv  seg_fdc1d4.csv\n",
            "seg_3f99c8.csv\t       seg_82456a.csv  seg_c0260d.csv  seg_fdd50e.csv\n",
            "seg_3fb24b.csv\t       seg_826208.csv  seg_c047b7.csv  seg_fde767.csv\n",
            "seg_3fc7ca.csv\t       seg_827804.csv  seg_c05a7d.csv  seg_fde86d.csv\n",
            "seg_3fdae0.csv\t       seg_827a21.csv  seg_c07b7c.csv  seg_fdff11.csv\n",
            "seg_407b2b.csv\t       seg_827c07.csv  seg_c08d36.csv  seg_fe2aac.csv\n",
            "seg_40b3aa.csv\t       seg_82c138.csv  seg_c09a41.csv  seg_fe5945.csv\n",
            "seg_40f810.csv\t       seg_82ce27.csv  seg_c0c0ed.csv  seg_fe70c0.csv\n",
            "seg_411225.csv\t       seg_82d7b6.csv  seg_c0d7da.csv  seg_fe73b1.csv\n",
            "seg_414d0f.csv\t       seg_830cff.csv  seg_c0e1b9.csv  seg_fe86f5.csv\n",
            "seg_4185b3.csv\t       seg_8310ea.csv  seg_c0ea9f.csv  seg_fea3e2.csv\n",
            "seg_419531.csv\t       seg_8324a4.csv  seg_c106ca.csv  seg_feb312.csv\n",
            "seg_419b2a.csv\t       seg_8328f5.csv  seg_c10a58.csv  seg_fedbd1.csv\n",
            "seg_41a267.csv\t       seg_832a4d.csv  seg_c11828.csv  seg_ff0f1b.csv\n",
            "seg_41aadc.csv\t       seg_8344ee.csv  seg_c11a4f.csv  seg_ff1a62.csv\n",
            "seg_41ab7e.csv\t       seg_8353f5.csv  seg_c12d7d.csv  seg_ff2f2d.csv\n",
            "seg_41be18.csv\t       seg_836aac.csv  seg_c146a8.csv  seg_ff4236.csv\n",
            "seg_41be7d.csv\t       seg_836ef0.csv  seg_c15d21.csv  seg_ff7478.csv\n",
            "seg_41f45e.csv\t       seg_83bef8.csv  seg_c17817.csv  seg_ff79d9.csv\n",
            "seg_420bcc.csv\t       seg_83cb2c.csv  seg_c179f8.csv  seg_ffbd6a.csv\n",
            "seg_420d4e.csv\t       seg_83dc2e.csv  seg_c183e4.csv  seg_ffe7cc.csv\n",
            "seg_421a96.csv\t       seg_83ef67.csv  seg_c186dc.csv  test.csv\n",
            "seg_421da1.csv\t       seg_83f476.csv  seg_c18d5a.csv  test.zip\n",
            "seg_423ebe.csv\t       seg_83f89e.csv  seg_c1fe9a.csv  train.csv\n",
            "seg_425462.csv\t       seg_83f928.csv  seg_c20a27.csv  train.csv.zip\n",
            "catboost_info\t       seg_42648c.csv  seg_8456d3.csv  seg_c20c06.csv\n",
            "mycsvfile.csv\t       seg_4280d9.csv  seg_845a2a.csv  seg_c21723.csv\n",
            "sample_data\t       seg_428d66.csv  seg_8472f3.csv  seg_c21d60.csv\n",
            "sample_submission.csv  seg_42c4c9.csv  seg_848695.csv  seg_c22bd4.csv\n",
            "seg_00030f.csv\t       seg_42e7e8.csv  seg_84a65d.csv  seg_c23429.csv\n",
            "seg_0012b5.csv\t       seg_42ff14.csv  seg_84b9d9.csv  seg_c23641.csv\n",
            "seg_00184e.csv\t       seg_430e66.csv  seg_84c7fb.csv  seg_c243a6.csv\n",
            "seg_003339.csv\t       seg_43383f.csv  seg_84fc12.csv  seg_c24946.csv\n",
            "seg_0042cc.csv\t       seg_434c96.csv  seg_8509db.csv  seg_c25855.csv\n",
            "seg_004314.csv\t       seg_43597f.csv  seg_850d95.csv  seg_c267a5.csv\n",
            "seg_004cd2.csv\t       seg_43c6f4.csv  seg_8515fd.csv  seg_c26fb4.csv\n",
            "seg_004ee5.csv\t       seg_440106.csv  seg_853302.csv  seg_c27591.csv\n",
            "seg_004f1f.csv\t       seg_4401d8.csv  seg_854d91.csv  seg_c2a0c8.csv\n",
            "seg_00648a.csv\t       seg_441c6d.csv  seg_857304.csv  seg_c2b8f7.csv\n",
            "seg_006e4a.csv\t       seg_4435bd.csv  seg_85762d.csv  seg_c3507f.csv\n",
            "seg_007a37.csv\t       seg_447972.csv  seg_8599ec.csv  seg_c35940.csv\n",
            "seg_00a37e.csv\t       seg_447b8b.csv  seg_85c1c0.csv  seg_c365de.csv\n",
            "seg_00be11.csv\t       seg_447cb3.csv  seg_85e90e.csv  seg_c3836b.csv\n",
            "seg_00c35b.csv\t       seg_44d3ca.csv  seg_85e9c6.csv  seg_c3f672.csv\n",
            "seg_00cc91.csv\t       seg_455b16.csv  seg_85fb0a.csv  seg_c3f8d7.csv\n",
            "seg_00e5f7.csv\t       seg_456149.csv  seg_864fcf.csv  seg_c41d1d.csv\n",
            "seg_00f3b9.csv\t       seg_457234.csv  seg_8658b3.csv  seg_c42490.csv\n",
            "seg_010eab.csv\t       seg_45838b.csv  seg_86720f.csv  seg_c42952.csv\n",
            "seg_0125d9.csv\t       seg_4587bb.csv  seg_8681aa.csv  seg_c44bbc.csv\n",
            "seg_0144cb.csv\t       seg_45a8a9.csv  seg_86892f.csv  seg_c46ce6.csv\n",
            "seg_0165c6.csv\t       seg_45b051.csv  seg_868c85.csv  seg_c472cf.csv\n",
            "seg_016913.csv\t       seg_45e062.csv  seg_86cfe9.csv  seg_c47bdc.csv\n",
            "seg_016cdb.csv\t       seg_45e4ed.csv  seg_86d847.csv  seg_c4af54.csv\n",
            "seg_017314.csv\t       seg_45e7ad.csv  seg_86e874.csv  seg_c5064e.csv\n",
            "seg_01a8dc.csv\t       seg_46012e.csv  seg_87232d.csv  seg_c509ff.csv\n",
            "seg_01c775.csv\t       seg_460436.csv  seg_876904.csv  seg_c522f8.csv\n",
            "seg_01ecb0.csv\t       seg_461ab5.csv  seg_8773cf.csv  seg_c5256d.csv\n",
            "seg_02042f.csv\t       seg_461b63.csv  seg_8777bd.csv  seg_c52ae6.csv\n",
            "seg_025e78.csv\t       seg_462c1d.csv  seg_8785e2.csv  seg_c5325c.csv\n",
            "seg_032822.csv\t       seg_464839.csv  seg_878d2c.csv  seg_c550b1.csv\n",
            "seg_0339ca.csv\t       seg_468bc9.csv  seg_87a616.csv  seg_c565bd.csv\n",
            "seg_037461.csv\t       seg_468fdb.csv  seg_87a67a.csv  seg_c571ef.csv\n",
            "seg_038879.csv\t       seg_46a42b.csv  seg_87e4e8.csv  seg_c588c1.csv\n",
            "seg_03d386.csv\t       seg_46b84d.csv  seg_87f6c8.csv  seg_c58ca5.csv\n",
            "seg_03d63e.csv\t       seg_46c6d3.csv  seg_8826f4.csv  seg_c5abaa.csv\n",
            "seg_03d680.csv\t       seg_46dd7c.csv  seg_885f53.csv  seg_c5c455.csv\n",
            "seg_03f380.csv\t       seg_4729a7.csv  seg_8866f0.csv  seg_c5c6ea.csv\n",
            "seg_0445d7.csv\t       seg_4743ab.csv  seg_88a81d.csv  seg_c5dada.csv\n",
            "seg_046c28.csv\t       seg_4743fa.csv  seg_88b289.csv  seg_c5dee4.csv\n",
            "seg_0488a1.csv\t       seg_476700.csv  seg_890181.csv  seg_c5f986.csv\n",
            "seg_049957.csv\t       seg_476bdb.csv  seg_89791c.csv  seg_c5fc3b.csv\n",
            "seg_04a696.csv\t       seg_477c83.csv  seg_89885a.csv  seg_c5fc87.csv\n",
            "seg_04ae38.csv\t       seg_478327.csv  seg_899bf0.csv  seg_c607eb.csv\n",
            "seg_04b87a.csv\t       seg_47a48f.csv  seg_89b090.csv  seg_c60dca.csv\n",
            "seg_04cceb.csv\t       seg_47d374.csv  seg_89d8a0.csv  seg_c60f1d.csv\n",
            "seg_04ee93.csv\t       seg_47fed6.csv  seg_89e207.csv  seg_c627fc.csv\n",
            "seg_04fd93.csv\t       seg_482745.csv  seg_89eed6.csv  seg_c62a06.csv\n",
            "seg_0536c9.csv\t       seg_4848e3.csv  seg_89f975.csv  seg_c65135.csv\n",
            "seg_055127.csv\t       seg_484901.csv  seg_8a3306.csv  seg_c654e7.csv\n",
            "seg_05a1b0.csv\t       seg_486973.csv  seg_8a41bf.csv  seg_c666dd.csv\n",
            "seg_05a4ad.csv\t       seg_48a4b3.csv  seg_8a6b0e.csv  seg_c671f7.csv\n",
            "seg_05b66a.csv\t       seg_48a80c.csv  seg_8a7201.csv  seg_c6b514.csv\n",
            "seg_05bef4.csv\t       seg_48b545.csv  seg_8a8220.csv  seg_c6c29f.csv\n",
            "seg_05e0d7.csv\t       seg_48feba.csv  seg_8a8375.csv  seg_c6f0a2.csv\n",
            "seg_05f126.csv\t       seg_490092.csv  seg_8ab3a7.csv  seg_c6f533.csv\n",
            "seg_05f9d6.csv\t       seg_490d6e.csv  seg_8ae847.csv  seg_c6f9c2.csv\n",
            "seg_060ce4.csv\t       seg_492dc6.csv  seg_8aeb99.csv  seg_c703be.csv\n",
            "seg_061a33.csv\t       seg_49322d.csv  seg_8b39c4.csv  seg_c70fde.csv\n",
            "seg_0620e6.csv\t       seg_49336f.csv  seg_8b798b.csv  seg_c714d0.csv\n",
            "seg_063865.csv\t       seg_495573.csv  seg_8baeab.csv  seg_c73df6.csv\n",
            "seg_065588.csv\t       seg_496d07.csv  seg_8bc20c.csv  seg_c747ad.csv\n",
            "seg_06893f.csv\t       seg_496dad.csv  seg_8bde47.csv  seg_c747b4.csv\n",
            "seg_06b8c9.csv\t       seg_49b0cb.csv  seg_8be2da.csv  seg_c7a3bc.csv\n",
            "seg_06bbc5.csv\t       seg_49d84b.csv  seg_8be76c.csv  seg_c7a401.csv\n",
            "seg_06d4a2.csv\t       seg_49fdf0.csv  seg_8bec6f.csv  seg_c7a579.csv\n",
            "seg_06d7ba.csv\t       seg_4a2525.csv  seg_8bf229.csv  seg_c7b424.csv\n",
            "seg_070bb0.csv\t       seg_4a6096.csv  seg_8c0114.csv  seg_c80857.csv\n",
            "seg_071067.csv\t       seg_4a719c.csv  seg_8c1760.csv  seg_c81e10.csv\n",
            "seg_073696.csv\t       seg_4a91a9.csv  seg_8c1cca.csv  seg_c81fec.csv\n",
            "seg_075340.csv\t       seg_4a9e6b.csv  seg_8c1e7d.csv  seg_c8459f.csv\n",
            "seg_075f77.csv\t       seg_4a9e8d.csv  seg_8c341c.csv  seg_c87c24.csv\n",
            "seg_0775a7.csv\t       seg_4ab7bf.csv  seg_8c6d4e.csv  seg_c901c0.csv\n",
            "seg_077b7e.csv\t       seg_4abc29.csv  seg_8c6e34.csv  seg_c90be5.csv\n",
            "seg_079e34.csv\t       seg_4acc4b.csv  seg_8cd159.csv  seg_c9201c.csv\n",
            "seg_07c815.csv\t       seg_4ad5a2.csv  seg_8cdf83.csv  seg_c9481f.csv\n",
            "seg_07cd72.csv\t       seg_4ad674.csv  seg_8ce632.csv  seg_c94941.csv\n",
            "seg_07f37c.csv\t       seg_4adeda.csv  seg_8cf573.csv  seg_c9831a.csv\n",
            "seg_07f8df.csv\t       seg_4ae37c.csv  seg_8d030a.csv  seg_c9e533.csv\n",
            "seg_07fc6d.csv\t       seg_4ae712.csv  seg_8d135f.csv  seg_c9f80a.csv\n",
            "seg_086a61.csv\t       seg_4b0839.csv  seg_8d3a9d.csv  seg_ca2d1b.csv\n",
            "seg_0870ab.csv\t       seg_4b4c91.csv  seg_8d4435.csv  seg_ca407b.csv\n",
            "seg_0879a8.csv\t       seg_4b4ffb.csv  seg_8d4965.csv  seg_ca44a8.csv\n",
            "seg_08b136.csv\t       seg_4b8044.csv  seg_8d5113.csv  seg_ca67ee.csv\n",
            "seg_08f441.csv\t       seg_4b953a.csv  seg_8d6578.csv  seg_ca6d70.csv\n",
            "seg_08fd5b.csv\t       seg_4ba3d1.csv  seg_8d6a7d.csv  seg_ca8389.csv\n",
            "seg_091c9d.csv\t       seg_4c067a.csv  seg_8da61a.csv  seg_ca88e3.csv\n",
            "seg_093a0a.csv\t       seg_4c12b2.csv  seg_8db6f0.csv  seg_ca9e39.csv\n",
            "seg_0968f1.csv\t       seg_4c18e2.csv  seg_8dcf3c.csv  seg_caa919.csv\n",
            "seg_0981f3.csv\t       seg_4c3a2b.csv  seg_8dd2ab.csv  seg_cacd0a.csv\n",
            "seg_09dd59.csv\t       seg_4c4995.csv  seg_8dd3ba.csv  seg_cacd58.csv\n",
            "seg_09ed4e.csv\t       seg_4c65e6.csv  seg_8dfc7e.csv  seg_cb0e21.csv\n",
            "seg_09f0ff.csv\t       seg_4c8db6.csv  seg_8dfd7a.csv  seg_cb806c.csv\n",
            "seg_0a0fbb.csv\t       seg_4ca6de.csv  seg_8e5704.csv  seg_cbcce9.csv\n",
            "seg_0a1bd0.csv\t       seg_4cb0d7.csv  seg_8e6a3f.csv  seg_cbfb19.csv\n",
            "seg_0a42ba.csv\t       seg_4cb9c6.csv  seg_8e7194.csv  seg_cc096e.csv\n",
            "seg_0a45a1.csv\t       seg_4ce234.csv  seg_8e7fca.csv  seg_cc2c46.csv\n",
            "seg_0a97c4.csv\t       seg_4d0008.csv  seg_8ebdea.csv  seg_cc2e9b.csv\n",
            "seg_0aa0fb.csv\t       seg_4d0041.csv  seg_8f1127.csv  seg_cc4199.csv\n",
            "seg_0b07c7.csv\t       seg_4d0c45.csv  seg_8f25b0.csv  seg_cc4932.csv\n",
            "seg_0b082e.csv\t       seg_4d18f4.csv  seg_8f3247.csv  seg_cc4950.csv\n",
            "seg_0b32f7.csv\t       seg_4d2671.csv  seg_8f3dfe.csv  seg_cc667b.csv\n",
            "seg_0b3b94.csv\t       seg_4d53c2.csv  seg_8f4654.csv  seg_cc7a19.csv\n",
            "seg_0b48c4.csv\t       seg_4d5a4a.csv  seg_8f4781.csv  seg_cc7e39.csv\n",
            "seg_0b4b24.csv\t       seg_4d7c56.csv  seg_8f5589.csv  seg_ccdc28.csv\n",
            "seg_0b54ac.csv\t       seg_4d8f0f.csv  seg_8f592b.csv  seg_cd0691.csv\n",
            "seg_0b76f5.csv\t       seg_4db886.csv  seg_8f6284.csv  seg_cd2b34.csv\n",
            "seg_0b9ad8.csv\t       seg_4db997.csv  seg_8fb0d0.csv  seg_cd2b53.csv\n",
            "seg_0b9ba3.csv\t       seg_4dbbd1.csv  seg_8fb29e.csv  seg_cd352f.csv\n",
            "seg_0ba210.csv\t       seg_4ddddc.csv  seg_8fb828.csv  seg_cd43b4.csv\n",
            "seg_0ba585.csv\t       seg_4dfa03.csv  seg_8fc754.csv  seg_cd699e.csv\n",
            "seg_0bb5fd.csv\t       seg_4e0c4a.csv  seg_8fd465.csv  seg_cd9f9b.csv\n",
            "seg_0bc877.csv\t       seg_4e2c66.csv  seg_902074.csv  seg_cdadb5.csv\n",
            "seg_0be6ee.csv\t       seg_4e3bd7.csv  seg_902bc1.csv  seg_cdf88e.csv\n",
            "seg_0c12cc.csv\t       seg_4e627b.csv  seg_903aba.csv  seg_ce00bb.csv\n",
            "seg_0c1d3a.csv\t       seg_4e9646.csv  seg_907c52.csv  seg_ce46ba.csv\n",
            "seg_0c247b.csv\t       seg_4ea3fa.csv  seg_90a0be.csv  seg_ce472b.csv\n",
            "seg_0c3943.csv\t       seg_4ea81c.csv  seg_90b174.csv  seg_ce5520.csv\n",
            "seg_0c4e31.csv\t       seg_4eb127.csv  seg_90bf60.csv  seg_ce5832.csv\n",
            "seg_0c74cf.csv\t       seg_4eeaef.csv  seg_90c258.csv  seg_ce72e2.csv\n",
            "seg_0c8502.csv\t       seg_4eef28.csv  seg_90e904.csv  seg_ce7537.csv\n",
            "seg_0c89ce.csv\t       seg_4f48b4.csv  seg_90ec68.csv  seg_ce9f59.csv\n",
            "seg_0c9aa8.csv\t       seg_4f5931.csv  seg_90ef18.csv  seg_cea185.csv\n",
            "seg_0cb81b.csv\t       seg_4f76a2.csv  seg_911066.csv  seg_ceab44.csv\n",
            "seg_0cca14.csv\t       seg_4f83a3.csv  seg_9122aa.csv  seg_ceb942.csv\n",
            "seg_0cdcc8.csv\t       seg_4fa87d.csv  seg_913ffc.csv  seg_cec2f2.csv\n",
            "seg_0cf651.csv\t       seg_4fce5b.csv  seg_914a62.csv  seg_cecd29.csv\n",
            "seg_0d0250.csv\t       seg_4fd191.csv  seg_91596c.csv  seg_ced992.csv\n",
            "seg_0d04b9.csv\t       seg_500108.csv  seg_915b3e.csv  seg_cedf3e.csv\n",
            "seg_0d13a7.csv\t       seg_5009d9.csv  seg_91607c.csv  seg_cee7d0.csv\n",
            "seg_0d434c.csv\t       seg_500c80.csv  seg_919a6a.csv  seg_cf0e43.csv\n",
            "seg_0d540e.csv\t       seg_502fab.csv  seg_919c5c.csv  seg_cf1371.csv\n",
            "seg_0d663a.csv\t       seg_507065.csv  seg_91bf8c.csv  seg_cf25d2.csv\n",
            "seg_0d6d68.csv\t       seg_5090fa.csv  seg_91cff2.csv  seg_cf3825.csv\n",
            "seg_0d762e.csv\t       seg_509d55.csv  seg_91eaeb.csv  seg_cf5764.csv\n",
            "seg_0d833c.csv\t       seg_50a667.csv  seg_91f512.csv  seg_cf646e.csv\n",
            "seg_0dae4b.csv\t       seg_50b048.csv  seg_91f664.csv  seg_cf74e8.csv\n",
            "seg_0dc38f.csv\t       seg_50e270.csv  seg_91fc29.csv  seg_cf9a49.csv\n",
            "seg_0dcc40.csv\t       seg_511d25.csv  seg_920132.csv  seg_cfed24.csv\n",
            "seg_0df469.csv\t       seg_512b3e.csv  seg_92092a.csv  seg_cff594.csv\n",
            "seg_0df75c.csv\t       seg_514543.csv  seg_922914.csv  seg_d014a3.csv\n",
            "seg_0dfe8c.csv\t       seg_5147e1.csv  seg_922990.csv  seg_d0598e.csv\n",
            "seg_0e1370.csv\t       seg_514b85.csv  seg_92310f.csv  seg_d062a6.csv\n",
            "seg_0e1fbe.csv\t       seg_5165a4.csv  seg_929ded.csv  seg_d07c62.csv\n",
            "seg_0e3739.csv\t       seg_517345.csv  seg_92a5f1.csv  seg_d07ce8.csv\n",
            "seg_0e3d44.csv\t       seg_517425.csv  seg_92af10.csv  seg_d098df.csv\n",
            "seg_0e3ed2.csv\t       seg_51865e.csv  seg_92b095.csv  seg_d0c280.csv\n",
            "seg_0e4833.csv\t       seg_518b1e.csv  seg_92bd37.csv  seg_d0c8e2.csv\n",
            "seg_0e7cc5.csv\t       seg_51b68c.csv  seg_92be9f.csv  seg_d0f262.csv\n",
            "seg_0e8b79.csv\t       seg_51f0a2.csv  seg_931244.csv  seg_d0f803.csv\n",
            "seg_0e9987.csv\t       seg_51f6fd.csv  seg_93211c.csv  seg_d1045e.csv\n",
            "seg_0e9bb3.csv\t       seg_521a88.csv  seg_932828.csv  seg_d11ca8.csv\n",
            "seg_0eb333.csv\t       seg_523945.csv  seg_934087.csv  seg_d14524.csv\n",
            "seg_0ebfd9.csv\t       seg_524b39.csv  seg_939f5c.csv  seg_d146a6.csv\n",
            "seg_0f565c.csv\t       seg_5254ce.csv  seg_93d864.csv  seg_d16534.csv\n",
            "seg_0f74a3.csv\t       seg_5255c0.csv  seg_93f935.csv  seg_d19980.csv\n",
            "seg_0f8961.csv\t       seg_52636c.csv  seg_941759.csv  seg_d1a281.csv\n",
            "seg_0fc67a.csv\t       seg_529be4.csv  seg_943de0.csv  seg_d1a2b9.csv\n",
            "seg_0fca83.csv\t       seg_529c99.csv  seg_944c98.csv  seg_d1a8b3.csv\n",
            "seg_0fd3ff.csv\t       seg_52c139.csv  seg_945bc8.csv  seg_d1abaa.csv\n",
            "seg_1010ad.csv\t       seg_530a02.csv  seg_946d71.csv  seg_d1b91e.csv\n",
            "seg_103b32.csv\t       seg_53103b.csv  seg_946d9a.csv  seg_d1ca05.csv\n",
            "seg_105cd9.csv\t       seg_5311d1.csv  seg_947700.csv  seg_d1cb37.csv\n",
            "seg_1084af.csv\t       seg_533613.csv  seg_9485c0.csv  seg_d1eee8.csv\n",
            "seg_10a595.csv\t       seg_53498a.csv  seg_94a133.csv  seg_d1fbb8.csv\n",
            "seg_10c09d.csv\t       seg_53a557.csv  seg_94aa0a.csv  seg_d21066.csv\n",
            "seg_10f3a6.csv\t       seg_53a5fd.csv  seg_94c48c.csv  seg_d21eb6.csv\n",
            "seg_112b81.csv\t       seg_53bdf5.csv  seg_94d150.csv  seg_d24095.csv\n",
            "seg_1144bc.csv\t       seg_53caf1.csv  seg_94d573.csv  seg_d247da.csv\n",
            "seg_114b79.csv\t       seg_53d818.csv  seg_94ecad.csv  seg_d2551a.csv\n",
            "seg_115617.csv\t       seg_53e645.csv  seg_950048.csv  seg_d26f7d.csv\n",
            "seg_115a92.csv\t       seg_53fa13.csv  seg_952faa.csv  seg_d27193.csv\n",
            "seg_11647f.csv\t       seg_5407b0.csv  seg_95357d.csv  seg_d27812.csv\n",
            "seg_117278.csv\t       seg_5445bc.csv  seg_95644e.csv  seg_d29a4b.csv\n",
            "seg_117ff4.csv\t       seg_54490e.csv  seg_957ece.csv  seg_d2a533.csv\n",
            "seg_11860f.csv\t       seg_545fda.csv  seg_95b321.csv  seg_d2ad9a.csv\n",
            "seg_1201e8.csv\t       seg_5467c8.csv  seg_95f45e.csv  seg_d2cb02.csv\n",
            "seg_121446.csv\t       seg_546864.csv  seg_961d02.csv  seg_d2db6b.csv\n",
            "seg_121cba.csv\t       seg_5470ca.csv  seg_961ddf.csv  seg_d2f588.csv\n",
            "seg_122ba9.csv\t       seg_5495ca.csv  seg_9626a4.csv  seg_d30a9d.csv\n",
            "seg_123dd4.csv\t       seg_54af0d.csv  seg_96642e.csv  seg_d31583.csv\n",
            "seg_12ac20.csv\t       seg_54b0ee.csv  seg_966f3d.csv  seg_d320f5.csv\n",
            "seg_12b9ba.csv\t       seg_54d0f3.csv  seg_967ae4.csv  seg_d328bb.csv\n",
            "seg_12ee6e.csv\t       seg_55239a.csv  seg_96cd5d.csv  seg_d32f71.csv\n",
            "seg_130e17.csv\t       seg_552b8e.csv  seg_96dab2.csv  seg_d32f8a.csv\n",
            "seg_13468a.csv\t       seg_5559d9.csv  seg_96db5e.csv  seg_d35274.csv\n",
            "seg_136285.csv\t       seg_555f63.csv  seg_96fa35.csv  seg_d356ab.csv\n",
            "seg_136695.csv\t       seg_5597ed.csv  seg_970b35.csv  seg_d35e50.csv\n",
            "seg_137f8a.csv\t       seg_55a0c3.csv  seg_970e86.csv  seg_d36055.csv\n",
            "seg_138807.csv\t       seg_55a9a4.csv  seg_974049.csv  seg_d36342.csv\n",
            "seg_13c2f0.csv\t       seg_55b566.csv  seg_9757ac.csv  seg_d36681.csv\n",
            "seg_13e25f.csv\t       seg_55d50b.csv  seg_979a8f.csv  seg_d36737.csv\n",
            "seg_140bc5.csv\t       seg_561cf4.csv  seg_97a161.csv  seg_d37b05.csv\n",
            "seg_141f34.csv\t       seg_563059.csv  seg_97ad82.csv  seg_d39131.csv\n",
            "seg_146926.csv\t       seg_5639b3.csv  seg_97d9ed.csv  seg_d398df.csv\n",
            "seg_148698.csv\t       seg_566efe.csv  seg_97e4a9.csv  seg_d3992e.csv\n",
            "seg_14ad27.csv\t       seg_56e3e7.csv  seg_9802c3.csv  seg_d3bb14.csv\n",
            "seg_14c054.csv\t       seg_56e6f1.csv  seg_9825e0.csv  seg_d3d8fc.csv\n",
            "seg_14c371.csv\t       seg_56ebc7.csv  seg_983778.csv  seg_d3f6b0.csv\n",
            "seg_14c435.csv\t       seg_570a20.csv  seg_986976.csv  seg_d3f967.csv\n",
            "seg_14c89d.csv\t       seg_570d69.csv  seg_986b6e.csv  seg_d40bb2.csv\n",
            "seg_14c8ce.csv\t       seg_572172.csv  seg_9872f9.csv  seg_d41daa.csv\n",
            "seg_14d1d3.csv\t       seg_5759c9.csv  seg_988e69.csv  seg_d42c77.csv\n",
            "seg_14f5f0.csv\t       seg_5765b6.csv  seg_98a819.csv  seg_d44589.csv\n",
            "seg_151368.csv\t       seg_578e84.csv  seg_98be13.csv  seg_d47aba.csv\n",
            "seg_151d92.csv\t       seg_57908c.csv  seg_98c0b6.csv  seg_d4c763.csv\n",
            "seg_153d6a.csv\t       seg_57b6c0.csv  seg_98c44d.csv  seg_d4dec8.csv\n",
            "seg_154361.csv\t       seg_57dd68.csv  seg_98c544.csv  seg_d4ea17.csv\n",
            "seg_1562cb.csv\t       seg_57ea44.csv  seg_98ebaa.csv  seg_d508db.csv\n",
            "seg_158691.csv\t       seg_580b65.csv  seg_98f624.csv  seg_d516e3.csv\n",
            "seg_158764.csv\t       seg_581fac.csv  seg_9940e8.csv  seg_d56ae2.csv\n",
            "seg_15adff.csv\t       seg_585872.csv  seg_996c37.csv  seg_d56d32.csv\n",
            "seg_15bf25.csv\t       seg_586726.csv  seg_99ccbd.csv  seg_d59e4e.csv\n",
            "seg_15c9f9.csv\t       seg_586c0f.csv  seg_99f677.csv  seg_d5b100.csv\n",
            "seg_161aeb.csv\t       seg_5887a8.csv  seg_99f76c.csv  seg_d5d3a1.csv\n",
            "seg_161f5f.csv\t       seg_588f61.csv  seg_9a1a4f.csv  seg_d5dbc1.csv\n",
            "seg_162fc4.csv\t       seg_58d52d.csv  seg_9a1c76.csv  seg_d5df41.csv\n",
            "seg_16566c.csv\t       seg_58e74b.csv  seg_9a43ef.csv  seg_d5f344.csv\n",
            "seg_166f70.csv\t       seg_58e9f9.csv  seg_9a6025.csv  seg_d60d18.csv\n",
            "seg_168d1c.csv\t       seg_58ea74.csv  seg_9a74d8.csv  seg_d62e9c.csv\n",
            "seg_16a270.csv\t       seg_59058a.csv  seg_9a7c46.csv  seg_d63175.csv\n",
            "seg_16c3a7.csv\t       seg_590fa5.csv  seg_9a7d1d.csv  seg_d661ce.csv\n",
            "seg_17067e.csv\t       seg_591954.csv  seg_9a812d.csv  seg_d668c0.csv\n",
            "seg_170684.csv\t       seg_5924f5.csv  seg_9a81a3.csv  seg_d68930.csv\n",
            "seg_170a0c.csv\t       seg_592807.csv  seg_9a8a1f.csv  seg_d693b0.csv\n",
            "seg_176542.csv\t       seg_593c34.csv  seg_9a9041.csv  seg_d6b198.csv\n",
            "seg_17799c.csv\t       seg_5965d8.csv  seg_9a92db.csv  seg_d6b386.csv\n",
            "seg_179d90.csv\t       seg_596ae3.csv  seg_9aa6e2.csv  seg_d6b546.csv\n",
            "seg_17adc0.csv\t       seg_5975f4.csv  seg_9ab405.csv  seg_d6dad6.csv\n",
            "seg_17d1ff.csv\t       seg_597bd6.csv  seg_9ad261.csv  seg_d6ea73.csv\n",
            "seg_17e596.csv\t       seg_59818b.csv  seg_9ad925.csv  seg_d702b2.csv\n",
            "seg_180481.csv\t       seg_59cd7d.csv  seg_9ae1a1.csv  seg_d71352.csv\n",
            "seg_18096a.csv\t       seg_59cfdb.csv  seg_9b0439.csv  seg_d740b2.csv\n",
            "seg_1815fe.csv\t       seg_59d484.csv  seg_9b44d2.csv  seg_d753f8.csv\n",
            "seg_1827c5.csv\t       seg_59de0b.csv  seg_9b7ef8.csv  seg_d78093.csv\n",
            "seg_184222.csv\t       seg_59e1db.csv  seg_9b7f93.csv  seg_d78e7d.csv\n",
            "seg_185ad6.csv\t       seg_59eb97.csv  seg_9bab11.csv  seg_d795ab.csv\n",
            "seg_18d1d0.csv\t       seg_5a0479.csv  seg_9bd388.csv  seg_d7967e.csv\n",
            "seg_18d307.csv\t       seg_5a1adb.csv  seg_9bee43.csv  seg_d7a805.csv\n",
            "seg_18f633.csv\t       seg_5a242e.csv  seg_9c00d7.csv  seg_d7ab50.csv\n",
            "seg_18f853.csv\t       seg_5a67b5.csv  seg_9c090f.csv  seg_d7f015.csv\n",
            "seg_18fb65.csv\t       seg_5a947e.csv  seg_9c2843.csv  seg_d7f53a.csv\n",
            "seg_193404.csv\t       seg_5abfdd.csv  seg_9c3d6a.csv  seg_d8014d.csv\n",
            "seg_19515c.csv\t       seg_5ad847.csv  seg_9c3ef8.csv  seg_d83890.csv\n",
            "seg_195eda.csv\t       seg_5b392b.csv  seg_9c635d.csv  seg_d85e2e.csv\n",
            "seg_1969c8.csv\t       seg_5b7325.csv  seg_9c6715.csv  seg_d86eb6.csv\n",
            "seg_19b08e.csv\t       seg_5b8c39.csv  seg_9c8162.csv  seg_d88da7.csv\n",
            "seg_19b9dd.csv\t       seg_5bc0b0.csv  seg_9c8bc8.csv  seg_d89369.csv\n",
            "seg_19e1ff.csv\t       seg_5bd9ae.csv  seg_9ca72e.csv  seg_d90c5f.csv\n",
            "seg_19ec5c.csv\t       seg_5bdb47.csv  seg_9caf50.csv  seg_d91492.csv\n",
            "seg_1a0e94.csv\t       seg_5bfbf0.csv  seg_9cb464.csv  seg_d9190c.csv\n",
            "seg_1a0eca.csv\t       seg_5c0929.csv  seg_9d1b26.csv  seg_d9352b.csv\n",
            "seg_1a671a.csv\t       seg_5c1a4d.csv  seg_9d1dbe.csv  seg_d962cc.csv\n",
            "seg_1a791c.csv\t       seg_5c530f.csv  seg_9d2528.csv  seg_d9750c.csv\n",
            "seg_1a8e06.csv\t       seg_5c57a8.csv  seg_9d3013.csv  seg_d9a2bb.csv\n",
            "seg_1a8f0d.csv\t       seg_5c8ae5.csv  seg_9d452d.csv  seg_d9b162.csv\n",
            "seg_1a8f2c.csv\t       seg_5c9077.csv  seg_9d57a1.csv  seg_d9bb68.csv\n",
            "seg_1abcaf.csv\t       seg_5cd98b.csv  seg_9d68cf.csv  seg_d9ce67.csv\n",
            "seg_1ac9e2.csv\t       seg_5cde88.csv  seg_9d6ff0.csv  seg_d9d0e4.csv\n",
            "seg_1ae362.csv\t       seg_5cfba9.csv  seg_9d7490.csv  seg_d9dab4.csv\n",
            "seg_1afa29.csv\t       seg_5cfdc4.csv  seg_9d79d4.csv  seg_da21ee.csv\n",
            "seg_1b08a4.csv\t       seg_5d333e.csv  seg_9dcae1.csv  seg_da7c3b.csv\n",
            "seg_1b1ad8.csv\t       seg_5d45db.csv  seg_9ddc99.csv  seg_da80c4.csv\n",
            "seg_1b2298.csv\t       seg_5d92af.csv  seg_9dea8d.csv  seg_da8b88.csv\n",
            "seg_1b78af.csv\t       seg_5d94b2.csv  seg_9df32d.csv  seg_dab0f9.csv\n",
            "seg_1baf33.csv\t       seg_5e020f.csv  seg_9e25e9.csv  seg_dad4f2.csv\n",
            "seg_1bd38e.csv\t       seg_5e0902.csv  seg_9e3837.csv  seg_db3446.csv\n",
            "seg_1bf7b3.csv\t       seg_5e1bba.csv  seg_9e61da.csv  seg_db3a95.csv\n",
            "seg_1c401b.csv\t       seg_5e541f.csv  seg_9e7dff.csv  seg_db3fbe.csv\n",
            "seg_1c4c5b.csv\t       seg_5e635a.csv  seg_9e8323.csv  seg_db4185.csv\n",
            "seg_1c4e72.csv\t       seg_5e668a.csv  seg_9e8ca4.csv  seg_db606c.csv\n",
            "seg_1c849d.csv\t       seg_5e70a7.csv  seg_9e962b.csv  seg_db694a.csv\n",
            "seg_1c904f.csv\t       seg_5e7abf.csv  seg_9ee0aa.csv  seg_db6d5f.csv\n",
            "seg_1c929e.csv\t       seg_5e8ef4.csv  seg_9f042e.csv  seg_db90c0.csv\n",
            "seg_1cb942.csv\t       seg_5eb380.csv  seg_9f12c6.csv  seg_dbbb44.csv\n",
            "seg_1cd352.csv\t       seg_5ec0e3.csv  seg_9f22a0.csv  seg_dbc615.csv\n",
            "seg_1cf1b5.csv\t       seg_5ed47e.csv  seg_9f4fd4.csv  seg_dbf3f2.csv\n",
            "seg_1d044c.csv\t       seg_5ef47e.csv  seg_9f57c4.csv  seg_dc188b.csv\n",
            "seg_1d11e5.csv\t       seg_5f0a92.csv  seg_9f6315.csv  seg_dc1cf0.csv\n",
            "seg_1d596d.csv\t       seg_5f24d3.csv  seg_9f7542.csv  seg_dc23c0.csv\n",
            "seg_1d980f.csv\t       seg_5f352e.csv  seg_9fc7c2.csv  seg_dc4698.csv\n",
            "seg_1da819.csv\t       seg_5f355e.csv  seg_9fd9b8.csv  seg_dc5e63.csv\n",
            "seg_1db443.csv\t       seg_5f46a5.csv  seg_9fe8b9.csv  seg_dc6e94.csv\n",
            "seg_1db8e8.csv\t       seg_5f7fd9.csv  seg_a00985.csv  seg_dc73b8.csv\n",
            "seg_1dec9c.csv\t       seg_5fe414.csv  seg_a009e6.csv  seg_dc7e0d.csv\n",
            "seg_1e0523.csv\t       seg_60277f.csv  seg_a03e6a.csv  seg_dca2c2.csv\n",
            "seg_1e0b82.csv\t       seg_6074f9.csv  seg_a05c22.csv  seg_dcb51d.csv\n",
            "seg_1e572b.csv\t       seg_607559.csv  seg_a06228.csv  seg_dcbe02.csv\n",
            "seg_1e617a.csv\t       seg_60ab20.csv  seg_a0646a.csv  seg_dcd9df.csv\n",
            "seg_1e61d6.csv\t       seg_60b696.csv  seg_a0979e.csv  seg_dcee28.csv\n",
            "seg_1e677e.csv\t       seg_60dacd.csv  seg_a0a423.csv  seg_dceeca.csv\n",
            "seg_1eae76.csv\t       seg_60df2a.csv  seg_a11dd5.csv  seg_dcf242.csv\n",
            "seg_1ebe6b.csv\t       seg_610379.csv  seg_a12acb.csv  seg_dcfb4b.csv\n",
            "seg_1ece48.csv\t       seg_61219c.csv  seg_a133bc.csv  seg_dd0b11.csv\n",
            "seg_1eeb8f.csv\t       seg_613702.csv  seg_a14212.csv  seg_dd4594.csv\n",
            "seg_1ef708.csv\t       seg_614b50.csv  seg_a16a1b.csv  seg_dd699c.csv\n",
            "seg_1f1e60.csv\t       seg_6153ca.csv  seg_a173d8.csv  seg_dd780d.csv\n",
            "seg_1f3d44.csv\t       seg_6167f0.csv  seg_a18246.csv  seg_dd8805.csv\n",
            "seg_1f3ede.csv\t       seg_616c8b.csv  seg_a1a511.csv  seg_ddbadc.csv\n",
            "seg_1f5240.csv\t       seg_61b50d.csv  seg_a1acb2.csv  seg_ddc800.csv\n",
            "seg_1f7cf8.csv\t       seg_61f504.csv  seg_a1b3cc.csv  seg_ddd206.csv\n",
            "seg_1f9aed.csv\t       seg_620ee4.csv  seg_a1d8da.csv  seg_ddddf0.csv\n",
            "seg_1fa983.csv\t       seg_622e9d.csv  seg_a1e5b0.csv  seg_de225c.csv\n",
            "seg_1fc7ab.csv\t       seg_62331a.csv  seg_a1edc1.csv  seg_de3237.csv\n",
            "seg_1fe311.csv\t       seg_6262c4.csv  seg_a247ac.csv  seg_de3d5e.csv\n",
            "seg_2005a7.csv\t       seg_629822.csv  seg_a25c46.csv  seg_de4e1d.csv\n",
            "seg_2018c8.csv\t       seg_62a403.csv  seg_a2986f.csv  seg_de8180.csv\n",
            "seg_204dc6.csv\t       seg_62c582.csv  seg_a2c108.csv  seg_de98fa.csv\n",
            "seg_208ba5.csv\t       seg_63130f.csv  seg_a2d47d.csv  seg_de9e32.csv\n",
            "seg_2099f4.csv\t       seg_633651.csv  seg_a2e2c8.csv  seg_df0df7.csv\n",
            "seg_20a990.csv\t       seg_634180.csv  seg_a2fd8b.csv  seg_df352f.csv\n",
            "seg_20b8d0.csv\t       seg_634f05.csv  seg_a31d6e.csv  seg_df45b0.csv\n",
            "seg_20cbac.csv\t       seg_635770.csv  seg_a31fe3.csv  seg_df8385.csv\n",
            "seg_20cc25.csv\t       seg_63582a.csv  seg_a35c82.csv  seg_df8e0a.csv\n",
            "seg_20d9de.csv\t       seg_63c13d.csv  seg_a35e7c.csv  seg_df99d4.csv\n",
            "seg_20e9ad.csv\t       seg_63c518.csv  seg_a39ebc.csv  seg_dff078.csv\n",
            "seg_210388.csv\t       seg_63c8e4.csv  seg_a39f3b.csv  seg_e00465.csv\n",
            "seg_211299.csv\t       seg_63c983.csv  seg_a39fa8.csv  seg_e051bc.csv\n",
            "seg_211486.csv\t       seg_63c9a3.csv  seg_a3ab46.csv  seg_e05de2.csv\n",
            "seg_214492.csv\t       seg_63d651.csv  seg_a3d4d6.csv  seg_e067ab.csv\n",
            "seg_217eed.csv\t       seg_6422d1.csv  seg_a41c2c.csv  seg_e09301.csv\n",
            "seg_218049.csv\t       seg_643d1f.csv  seg_a4208a.csv  seg_e0c329.csv\n",
            "seg_21eebb.csv\t       seg_643f86.csv  seg_a420d4.csv  seg_e0ce38.csv\n",
            "seg_21faa9.csv\t       seg_64bcb9.csv  seg_a436bc.csv  seg_e0cfd4.csv\n",
            "seg_222c5f.csv\t       seg_64be5d.csv  seg_a437cb.csv  seg_e0f296.csv\n",
            "seg_225320.csv\t       seg_64be91.csv  seg_a45455.csv  seg_e10d3b.csv\n",
            "seg_226e60.csv\t       seg_64daae.csv  seg_a47cce.csv  seg_e13bd8.csv\n",
            "seg_229eda.csv\t       seg_64dcf0.csv  seg_a489e1.csv  seg_e14149.csv\n",
            "seg_22e509.csv\t       seg_64f8dc.csv  seg_a49ccc.csv  seg_e1468f.csv\n",
            "seg_2313d1.csv\t       seg_650de2.csv  seg_a4ad7c.csv  seg_e15cb9.csv\n",
            "seg_232559.csv\t       seg_651808.csv  seg_a4e745.csv  seg_e197b8.csv\n",
            "seg_23323e.csv\t       seg_652cc2.csv  seg_a50d28.csv  seg_e1a9e0.csv\n",
            "seg_2367fb.csv\t       seg_655780.csv  seg_a5271e.csv  seg_e1daa0.csv\n",
            "seg_238242.csv\t       seg_655ad6.csv  seg_a53e4c.csv  seg_e1f045.csv\n",
            "seg_2383c2.csv\t       seg_655cae.csv  seg_a543e5.csv  seg_e1f081.csv\n",
            "seg_2396a2.csv\t       seg_658bf4.csv  seg_a55540.csv  seg_e20d76.csv\n",
            "seg_23b123.csv\t       seg_659ff8.csv  seg_a55a17.csv  seg_e217fc.csv\n",
            "seg_23bdf9.csv\t       seg_65b962.csv  seg_a56c04.csv  seg_e2209b.csv\n",
            "seg_23c947.csv\t       seg_65c4e1.csv  seg_a58a6e.csv  seg_e24496.csv\n",
            "seg_23efb0.csv\t       seg_65ef95.csv  seg_a5934a.csv  seg_e24f69.csv\n",
            "seg_23f823.csv\t       seg_65f01e.csv  seg_a5d37f.csv  seg_e256bd.csv\n",
            "seg_23fe27.csv\t       seg_65fbac.csv  seg_a5dea6.csv  seg_e25aca.csv\n",
            "seg_241266.csv\t       seg_660fe1.csv  seg_a5f4dd.csv  seg_e266f4.csv\n",
            "seg_24157a.csv\t       seg_660fef.csv  seg_a5fbcc.csv  seg_e27c0a.csv\n",
            "seg_24458d.csv\t       seg_661629.csv  seg_a61e1c.csv  seg_e29670.csv\n",
            "seg_2465ce.csv\t       seg_666056.csv  seg_a63573.csv  seg_e2b8b1.csv\n",
            "seg_247262.csv\t       seg_6681ee.csv  seg_a674d2.csv  seg_e2c82c.csv\n",
            "seg_24ba8d.csv\t       seg_66820a.csv  seg_a68007.csv  seg_e3005e.csv\n",
            "seg_24c078.csv\t       seg_6696d0.csv  seg_a68ffb.csv  seg_e30e44.csv\n",
            "seg_24c1c9.csv\t       seg_66b7c3.csv  seg_a69246.csv  seg_e30ef5.csv\n",
            "seg_24e071.csv\t       seg_66e45a.csv  seg_a6959c.csv  seg_e34052.csv\n",
            "seg_24f338.csv\t       seg_66ed4d.csv  seg_a6bf91.csv  seg_e37b8e.csv\n",
            "seg_257b8a.csv\t       seg_670bde.csv  seg_a6c5cc.csv  seg_e3b1f1.csv\n",
            "seg_2597af.csv\t       seg_67330f.csv  seg_a6cd86.csv  seg_e3ca24.csv\n",
            "seg_259c63.csv\t       seg_673c60.csv  seg_a6e801.csv  seg_e3cf1a.csv\n",
            "seg_259d65.csv\t       seg_67599b.csv  seg_a6e99c.csv  seg_e3d751.csv\n",
            "seg_259dd3.csv\t       seg_679dd2.csv  seg_a6eed3.csv  seg_e3dafa.csv\n",
            "seg_25aa9f.csv\t       seg_67aa76.csv  seg_a704ee.csv  seg_e3e762.csv\n",
            "seg_25ab3f.csv\t       seg_68102c.csv  seg_a7561c.csv  seg_e40348.csv\n",
            "seg_25b38a.csv\t       seg_683ddf.csv  seg_a7b454.csv  seg_e405fe.csv\n",
            "seg_25c8dc.csv\t       seg_686edc.csv  seg_a7d0eb.csv  seg_e40d64.csv\n",
            "seg_25cca7.csv\t       seg_687a5c.csv  seg_a7e49b.csv  seg_e41fc9.csv\n",
            "seg_25e76d.csv\t       seg_68a484.csv  seg_a80123.csv  seg_e47d2b.csv\n",
            "seg_26049e.csv\t       seg_68da94.csv  seg_a802fa.csv  seg_e481c7.csv\n",
            "seg_263deb.csv\t       seg_691a72.csv  seg_a80f6f.csv  seg_e48c23.csv\n",
            "seg_263fb3.csv\t       seg_692e7a.csv  seg_a82229.csv  seg_e49750.csv\n",
            "seg_2642d0.csv\t       seg_6951e0.csv  seg_a84c13.csv  seg_e4c15a.csv\n",
            "seg_2642d4.csv\t       seg_695380.csv  seg_a86231.csv  seg_e4f203.csv\n",
            "seg_264c7d.csv\t       seg_696621.csv  seg_a8685e.csv  seg_e4f403.csv\n",
            "seg_266805.csv\t       seg_6968c8.csv  seg_a86a05.csv  seg_e50f16.csv\n",
            "seg_266c6e.csv\t       seg_69787a.csv  seg_a87e79.csv  seg_e52f8c.csv\n",
            "seg_266d4e.csv\t       seg_69a230.csv  seg_a88097.csv  seg_e53a52.csv\n",
            "seg_268249.csv\t       seg_69a53e.csv  seg_a88dde.csv  seg_e54932.csv\n",
            "seg_268625.csv\t       seg_69dbad.csv  seg_a8bb2f.csv  seg_e5750a.csv\n",
            "seg_268956.csv\t       seg_6a05e7.csv  seg_a8ddf7.csv  seg_e59dca.csv\n",
            "seg_26a2a0.csv\t       seg_6a116b.csv  seg_a8e6df.csv  seg_e5b510.csv\n",
            "seg_26cba3.csv\t       seg_6a26de.csv  seg_a8e71a.csv  seg_e5c033.csv\n",
            "seg_26edaa.csv\t       seg_6a45a0.csv  seg_a9089b.csv  seg_e5deec.csv\n",
            "seg_2700bd.csv\t       seg_6a4ad1.csv  seg_a91c03.csv  seg_e5e238.csv\n",
            "seg_272a47.csv\t       seg_6ab188.csv  seg_a93a88.csv  seg_e5f9ec.csv\n",
            "seg_274a1a.csv\t       seg_6ac67a.csv  seg_a96b47.csv  seg_e5fbc1.csv\n",
            "seg_2774c4.csv\t       seg_6ac82a.csv  seg_a975df.csv  seg_e60719.csv\n",
            "seg_279725.csv\t       seg_6ae32d.csv  seg_a99161.csv  seg_e6307f.csv\n",
            "seg_27a282.csv\t       seg_6b0107.csv  seg_a99799.csv  seg_e64dfa.csv\n",
            "seg_27b7c8.csv\t       seg_6b2ce0.csv  seg_a99be9.csv  seg_e65e69.csv\n",
            "seg_27db4d.csv\t       seg_6b3a9d.csv  seg_a9a820.csv  seg_e66697.csv\n",
            "seg_27de37.csv\t       seg_6b4e04.csv  seg_a9b957.csv  seg_e6b236.csv\n",
            "seg_27f532.csv\t       seg_6b536d.csv  seg_a9f80e.csv  seg_e6bd3f.csv\n",
            "seg_27ff17.csv\t       seg_6b9511.csv  seg_aa0180.csv  seg_e6c973.csv\n",
            "seg_280863.csv\t       seg_6b9d02.csv  seg_aa1adf.csv  seg_e6e1df.csv\n",
            "seg_280e3b.csv\t       seg_6be48e.csv  seg_aa508a.csv  seg_e6e24e.csv\n",
            "seg_284223.csv\t       seg_6c292b.csv  seg_aa78e0.csv  seg_e71dda.csv\n",
            "seg_284923.csv\t       seg_6c309f.csv  seg_aa7a4b.csv  seg_e72f10.csv\n",
            "seg_287e60.csv\t       seg_6c34c2.csv  seg_aa98cc.csv  seg_e742dc.csv\n",
            "seg_287fef.csv\t       seg_6c8a45.csv  seg_aa9b8e.csv  seg_e76e6e.csv\n",
            "seg_288001.csv\t       seg_6c909f.csv  seg_aaa2ae.csv  seg_e7ac12.csv\n",
            "seg_2883ec.csv\t       seg_6cfb76.csv  seg_aabc52.csv  seg_e7ced6.csv\n",
            "seg_289d99.csv\t       seg_6d01a3.csv  seg_aae025.csv  seg_e7d1f8.csv\n",
            "seg_28fc32.csv\t       seg_6d35cd.csv  seg_ab001b.csv  seg_e7d3e7.csv\n",
            "seg_29022f.csv\t       seg_6d36a1.csv  seg_ab15ad.csv  seg_e80726.csv\n",
            "seg_2916e3.csv\t       seg_6d4109.csv  seg_ab2a78.csv  seg_e81b50.csv\n",
            "seg_293dbf.csv\t       seg_6d4fa6.csv  seg_ab3f14.csv  seg_e8385f.csv\n",
            "seg_293dc2.csv\t       seg_6d6fad.csv  seg_ab4bca.csv  seg_e85f55.csv\n",
            "seg_29475f.csv\t       seg_6da1ff.csv  seg_ab644e.csv  seg_e86e44.csv\n",
            "seg_295b1c.csv\t       seg_6dac5d.csv  seg_ab70bd.csv  seg_e86ed1.csv\n",
            "seg_2977cd.csv\t       seg_6dd0fc.csv  seg_ab9654.csv  seg_e86f77.csv\n",
            "seg_29a073.csv\t       seg_6de4fd.csv  seg_aba501.csv  seg_e877a5.csv\n",
            "seg_29acb7.csv\t       seg_6de935.csv  seg_abaad2.csv  seg_e8a2c4.csv\n",
            "seg_29c772.csv\t       seg_6df48e.csv  seg_abb03a.csv  seg_e8a4f4.csv\n",
            "seg_29c906.csv\t       seg_6dfab7.csv  seg_abb06a.csv  seg_e8ac98.csv\n",
            "seg_29d497.csv\t       seg_6e12ae.csv  seg_abc5fd.csv  seg_e8ad6b.csv\n",
            "seg_29d4c6.csv\t       seg_6e12ee.csv  seg_abda04.csv  seg_e8b2b3.csv\n",
            "seg_29e799.csv\t       seg_6e1ee7.csv  seg_abeca6.csv  seg_e8bcde.csv\n",
            "seg_2a0ace.csv\t       seg_6e572a.csv  seg_ac45ae.csv  seg_e8ce6a.csv\n",
            "seg_2a0afc.csv\t       seg_6e5a38.csv  seg_ac5c61.csv  seg_e8d02f.csv\n",
            "seg_2a0dc0.csv\t       seg_6e7f73.csv  seg_ac68bb.csv  seg_e90c0d.csv\n",
            "seg_2a2f1e.csv\t       seg_6e98aa.csv  seg_ac9de5.csv  seg_e92526.csv\n",
            "seg_2a4551.csv\t       seg_6eb146.csv  seg_acd715.csv  seg_e9272e.csv\n",
            "seg_2a6343.csv\t       seg_6ed49a.csv  seg_acf2f4.csv  seg_e96140.csv\n",
            "seg_2a8351.csv\t       seg_6edcb8.csv  seg_ad3a44.csv  seg_e98217.csv\n",
            "seg_2aa101.csv\t       seg_6eedcc.csv  seg_ad3cf0.csv  seg_e9a09f.csv\n",
            "seg_2abd33.csv\t       seg_6f17de.csv  seg_ad591c.csv  seg_e9aa44.csv\n",
            "seg_2b2cb3.csv\t       seg_6f2222.csv  seg_ad759c.csv  seg_e9df42.csv\n",
            "seg_2b372b.csv\t       seg_6f3d90.csv  seg_ad82ca.csv  seg_e9e65b.csv\n",
            "seg_2b4959.csv\t       seg_6f60b2.csv  seg_ad949a.csv  seg_ea0091.csv\n",
            "seg_2b6d52.csv\t       seg_6f650f.csv  seg_ada42c.csv  seg_ea05c1.csv\n",
            "seg_2ba79a.csv\t       seg_6f9a98.csv  seg_ada81a.csv  seg_ea096b.csv\n",
            "seg_2bcbde.csv\t       seg_6fb17f.csv  seg_ade769.csv  seg_ea098b.csv\n",
            "seg_2be983.csv\t       seg_6fc3ef.csv  seg_adf94a.csv  seg_ea4d3a.csv\n",
            "seg_2bf5be.csv\t       seg_6fc8b3.csv  seg_adf986.csv  seg_ea78c0.csv\n",
            "seg_2bf9dd.csv\t       seg_6fd5bb.csv  seg_ae32a6.csv  seg_ea8270.csv\n",
            "seg_2c3203.csv\t       seg_7012af.csv  seg_ae3388.csv  seg_ea9d37.csv\n",
            "seg_2c5e9f.csv\t       seg_7020c5.csv  seg_ae3d92.csv  seg_ea9fa4.csv\n",
            "seg_2c6011.csv\t       seg_702e03.csv  seg_ae42b3.csv  seg_eaa0ec.csv\n",
            "seg_2c69e4.csv\t       seg_703cea.csv  seg_ae9626.csv  seg_eabb2c.csv\n",
            "seg_2c762c.csv\t       seg_705463.csv  seg_ae9761.csv  seg_eacccf.csv\n",
            "seg_2cac57.csv\t       seg_708349.csv  seg_aec276.csv  seg_ead30e.csv\n",
            "seg_2cadc0.csv\t       seg_70991d.csv  seg_aed434.csv  seg_eb0b19.csv\n",
            "seg_2cdbe3.csv\t       seg_709b6a.csv  seg_aee7c0.csv  seg_eb1d6e.csv\n",
            "seg_2d3828.csv\t       seg_709d08.csv  seg_aee9bf.csv  seg_eb2e11.csv\n",
            "seg_2d402d.csv\t       seg_70a60e.csv  seg_aeeb31.csv  seg_eb32bc.csv\n",
            "seg_2d427f.csv\t       seg_70b375.csv  seg_af1650.csv  seg_eb47a9.csv\n",
            "seg_2d5544.csv\t       seg_70be4d.csv  seg_af2472.csv  seg_eb692c.csv\n",
            "seg_2d7cc4.csv\t       seg_70e891.csv  seg_af6204.csv  seg_eb7595.csv\n",
            "seg_2d92f0.csv\t       seg_70edf5.csv  seg_af703b.csv  seg_eb7f91.csv\n",
            "seg_2db7dc.csv\t       seg_70fb30.csv  seg_af959f.csv  seg_eba22d.csv\n",
            "seg_2dc6ff.csv\t       seg_7120ac.csv  seg_afa4a1.csv  seg_ebb79f.csv\n",
            "seg_2dccec.csv\t       seg_71238c.csv  seg_afadfb.csv  seg_ebd77b.csv\n",
            "seg_2dcd3a.csv\t       seg_71348a.csv  seg_afca81.csv  seg_ebe36c.csv\n",
            "seg_2dcd84.csv\t       seg_715e2c.csv  seg_afd665.csv  seg_ebec3e.csv\n",
            "seg_2dfb91.csv\t       seg_715ff6.csv  seg_b00f05.csv  seg_ec0e7b.csv\n",
            "seg_2e2372.csv\t       seg_7189ca.csv  seg_b02e31.csv  seg_ec4645.csv\n",
            "seg_2e50fb.csv\t       seg_718b53.csv  seg_b03de5.csv  seg_ec73d5.csv\n",
            "seg_2e64af.csv\t       seg_71936f.csv  seg_b08e9d.csv  seg_ec973c.csv\n",
            "seg_2e71dd.csv\t       seg_71b4e0.csv  seg_b0a794.csv  seg_eca2eb.csv\n",
            "seg_2e88dd.csv\t       seg_71b975.csv  seg_b0bf65.csv  seg_ecaef0.csv\n",
            "seg_2e917f.csv\t       seg_71c9e9.csv  seg_b0cf32.csv  seg_eccb17.csv\n",
            "seg_2e9a47.csv\t       seg_71f571.csv  seg_b0d251.csv  seg_ecdca4.csv\n",
            "seg_2ea616.csv\t       seg_7211f1.csv  seg_b0f9cd.csv  seg_ecf28d.csv\n",
            "seg_2eccb9.csv\t       seg_724df9.csv  seg_b108c9.csv  seg_ecf81b.csv\n",
            "seg_2ece02.csv\t       seg_725772.csv  seg_b13220.csv  seg_ed07b0.csv\n",
            "seg_2ed79b.csv\t       seg_725e84.csv  seg_b13fb9.csv  seg_ed3e4c.csv\n",
            "seg_2eddf6.csv\t       seg_727fc7.csv  seg_b197e2.csv  seg_ed52ac.csv\n",
            "seg_2ee95c.csv\t       seg_72858d.csv  seg_b1a35c.csv  seg_ed7741.csv\n",
            "seg_2efd5c.csv\t       seg_72859b.csv  seg_b1b95e.csv  seg_ed7dee.csv\n",
            "seg_2f1664.csv\t       seg_72aba8.csv  seg_b1fea8.csv  seg_ed7f69.csv\n",
            "seg_2f4f14.csv\t       seg_72b68c.csv  seg_b20487.csv  seg_edda79.csv\n",
            "seg_2f5695.csv\t       seg_72c307.csv  seg_b21273.csv  seg_edecaa.csv\n",
            "seg_2f60db.csv\t       seg_72ebda.csv  seg_b23489.csv  seg_ee1cfc.csv\n",
            "seg_2f86cd.csv\t       seg_72f40a.csv  seg_b253ee.csv  seg_ee2781.csv\n",
            "seg_2f8e19.csv\t       seg_730ebe.csv  seg_b25dde.csv  seg_ee4479.csv\n",
            "seg_2f8f6d.csv\t       seg_734a88.csv  seg_b26368.csv  seg_ee4ae5.csv\n",
            "seg_2f9336.csv\t       seg_73565e.csv  seg_b284b2.csv  seg_ee7224.csv\n",
            "seg_2f9581.csv\t       seg_735cdd.csv  seg_b291c0.csv  seg_ee87e2.csv\n",
            "seg_2fb672.csv\t       seg_73858d.csv  seg_b2b29d.csv  seg_ee8f87.csv\n",
            "seg_2fe382.csv\t       seg_738be6.csv  seg_b2b331.csv  seg_eea20e.csv\n",
            "seg_301c1e.csv\t       seg_739643.csv  seg_b2e045.csv  seg_eebbc2.csv\n",
            "seg_30207d.csv\t       seg_739679.csv  seg_b31961.csv  seg_eee89d.csv\n",
            "seg_304581.csv\t       seg_739856.csv  seg_b32d1d.csv  seg_eefd4a.csv\n",
            "seg_304b87.csv\t       seg_739fb0.csv  seg_b35174.csv  seg_ef24bd.csv\n",
            "seg_304df5.csv\t       seg_73ab4a.csv  seg_b36650.csv  seg_ef27c8.csv\n",
            "seg_30501b.csv\t       seg_73b0f7.csv  seg_b36c8a.csv  seg_ef47c4.csv\n",
            "seg_3065ba.csv\t       seg_740837.csv  seg_b378bc.csv  seg_ef644a.csv\n",
            "seg_30661b.csv\t       seg_741fc1.csv  seg_b3883e.csv  seg_ef660a.csv\n",
            "seg_306756.csv\t       seg_74235f.csv  seg_b3cf21.csv  seg_ef74dc.csv\n",
            "seg_30ad2a.csv\t       seg_7428e7.csv  seg_b3d886.csv  seg_ef779d.csv\n",
            "seg_30b043.csv\t       seg_743775.csv  seg_b402ac.csv  seg_ef9105.csv\n",
            "seg_30da11.csv\t       seg_74537f.csv  seg_b41d3c.csv  seg_efb639.csv\n",
            "seg_30fd84.csv\t       seg_746d1d.csv  seg_b42170.csv  seg_efbf3e.csv\n",
            "seg_310230.csv\t       seg_7480f4.csv  seg_b4402d.csv  seg_efc5fb.csv\n",
            "seg_31064b.csv\t       seg_74b264.csv  seg_b44c2e.csv  seg_efd9ec.csv\n",
            "seg_311499.csv\t       seg_74b3bd.csv  seg_b47c19.csv  seg_f003ca.csv\n",
            "seg_311b5e.csv\t       seg_74ce61.csv  seg_b4c040.csv  seg_f01368.csv\n",
            "seg_3128e6.csv\t       seg_74d58a.csv  seg_b4cb44.csv  seg_f0181d.csv\n",
            "seg_3151ff.csv\t       seg_74d8cc.csv  seg_b4f7a8.csv  seg_f02d32.csv\n",
            "seg_31631c.csv\t       seg_74dda9.csv  seg_b50239.csv  seg_f056d8.csv\n",
            "seg_316f86.csv\t       seg_74f330.csv  seg_b51380.csv  seg_f0574b.csv\n",
            "seg_318135.csv\t       seg_74fcfc.csv  seg_b51b7c.csv  seg_f073e2.csv\n",
            "seg_31a51f.csv\t       seg_74ffde.csv  seg_b52710.csv  seg_f0ce4a.csv\n",
            "seg_31a6cd.csv\t       seg_750244.csv  seg_b52add.csv  seg_f0cedb.csv\n",
            "seg_31b808.csv\t       seg_750c93.csv  seg_b52dac.csv  seg_f0d278.csv\n",
            "seg_31c0f4.csv\t       seg_750d20.csv  seg_b54024.csv  seg_f0db55.csv\n",
            "seg_31d763.csv\t       seg_750e7e.csv  seg_b568c6.csv  seg_f11620.csv\n",
            "seg_31d7bf.csv\t       seg_75211e.csv  seg_b57e76.csv  seg_f11f77.csv\n",
            "seg_31d810.csv\t       seg_753190.csv  seg_b5804a.csv  seg_f165f6.csv\n",
            "seg_31ddc5.csv\t       seg_753ba6.csv  seg_b58542.csv  seg_f19f8e.csv\n",
            "seg_3234ca.csv\t       seg_7540f3.csv  seg_b5a447.csv  seg_f1a771.csv\n",
            "seg_324447.csv\t       seg_75438e.csv  seg_b5aee9.csv  seg_f1b916.csv\n",
            "seg_324537.csv\t       seg_755d50.csv  seg_b6254c.csv  seg_f1f5b9.csv\n",
            "seg_325790.csv\t       seg_75654d.csv  seg_b63de1.csv  seg_f21a22.csv\n",
            "seg_326eb7.csv\t       seg_758374.csv  seg_b64c9c.csv  seg_f21bf4.csv\n",
            "seg_327ed4.csv\t       seg_758ca4.csv  seg_b66b87.csv  seg_f22163.csv\n",
            "seg_32906d.csv\t       seg_759fb1.csv  seg_b686e5.csv  seg_f229bf.csv\n",
            "seg_32ad0f.csv\t       seg_75a878.csv  seg_b687fc.csv  seg_f24292.csv\n",
            "seg_32c904.csv\t       seg_75c34b.csv  seg_b691c5.csv  seg_f2750c.csv\n",
            "seg_32d747.csv\t       seg_75cd6a.csv  seg_b69455.csv  seg_f2a20d.csv\n",
            "seg_32e763.csv\t       seg_75dc3e.csv  seg_b695b3.csv  seg_f2ae5e.csv\n",
            "seg_32f3a9.csv\t       seg_75e669.csv  seg_b6bdaa.csv  seg_f2b0c5.csv\n",
            "seg_32f6df.csv\t       seg_75e93c.csv  seg_b6c10d.csv  seg_f2cb5e.csv\n",
            "seg_32f72d.csv\t       seg_75eb90.csv  seg_b6cb2b.csv  seg_f2f5a3.csv\n",
            "seg_32fc4e.csv\t       seg_75ffc9.csv  seg_b72413.csv  seg_f3063a.csv\n",
            "seg_330579.csv\t       seg_760d70.csv  seg_b735a5.csv  seg_f30b2f.csv\n",
            "seg_3319b5.csv\t       seg_76106f.csv  seg_b77bf5.csv  seg_f30f0c.csv\n",
            "seg_331f2b.csv\t       seg_762188.csv  seg_b782c7.csv  seg_f322b1.csv\n",
            "seg_3340b9.csv\t       seg_762be4.csv  seg_b78883.csv  seg_f342a3.csv\n",
            "seg_335170.csv\t       seg_7630c5.csv  seg_b7a8a1.csv  seg_f34877.csv\n",
            "seg_337b8c.csv\t       seg_766e42.csv  seg_b7b098.csv  seg_f383fb.csv\n",
            "seg_339f80.csv\t       seg_76b76f.csv  seg_b7da0a.csv  seg_f3c578.csv\n",
            "seg_33c30d.csv\t       seg_76c2fa.csv  seg_b7eeb6.csv  seg_f43730.csv\n",
            "seg_342ce6.csv\t       seg_76d16c.csv  seg_b80358.csv  seg_f43ab6.csv\n",
            "seg_343571.csv\t       seg_76e914.csv  seg_b80366.csv  seg_f455bc.csv\n",
            "seg_3452b2.csv\t       seg_76f1af.csv  seg_b80b89.csv  seg_f46cc1.csv\n",
            "seg_34a2b8.csv\t       seg_76f3f2.csv  seg_b8141c.csv  seg_f48363.csv\n",
            "seg_34a8f7.csv\t       seg_76f76d.csv  seg_b853c1.csv  seg_f48db9.csv\n",
            "seg_34abd2.csv\t       seg_774ad2.csv  seg_b853f8.csv  seg_f4ad4b.csv\n",
            "seg_34ef79.csv\t       seg_77bf79.csv  seg_b86ce1.csv  seg_f4d644.csv\n",
            "seg_3506d6.csv\t       seg_77c546.csv  seg_b8725b.csv  seg_f52cdc.csv\n",
            "seg_35269b.csv\t       seg_77db7b.csv  seg_b8745c.csv  seg_f5406b.csv\n",
            "seg_355717.csv\t       seg_77dbe7.csv  seg_b87cf5.csv  seg_f579ba.csv\n",
            "seg_355d19.csv\t       seg_77df38.csv  seg_b88baa.csv  seg_f57ca1.csv\n",
            "seg_35a2d7.csv\t       seg_77e7bf.csv  seg_b89218.csv  seg_f59974.csv\n",
            "seg_35b009.csv\t       seg_77ea14.csv  seg_b89e47.csv  seg_f5a4ee.csv\n",
            "seg_35b753.csv\t       seg_77f9e3.csv  seg_b8b72f.csv  seg_f5a6ab.csv\n",
            "seg_35ba8f.csv\t       seg_77fe77.csv  seg_b8bb87.csv  seg_f5d2dd.csv\n",
            "seg_35c587.csv\t       seg_7848f8.csv  seg_b8fd73.csv  seg_f5e682.csv\n",
            "seg_35dd45.csv\t       seg_7862ed.csv  seg_b91011.csv  seg_f60872.csv\n",
            "seg_35ee83.csv\t       seg_786ff6.csv  seg_b917b5.csv  seg_f618a8.csv\n",
            "seg_36147d.csv\t       seg_78852d.csv  seg_b91ae2.csv  seg_f61b0e.csv\n",
            "seg_361f5a.csv\t       seg_78addc.csv  seg_b9361a.csv  seg_f639cd.csv\n",
            "seg_3631ec.csv\t       seg_78d817.csv  seg_b9365c.csv  seg_f639ec.csv\n",
            "seg_3661de.csv\t       seg_78db0a.csv  seg_b947ae.csv  seg_f650cc.csv\n",
            "seg_369570.csv\t       seg_78ded2.csv  seg_b95010.csv  seg_f6659e.csv\n",
            "seg_36b77f.csv\t       seg_78fc4b.csv  seg_b95a77.csv  seg_f66db1.csv\n",
            "seg_36e32d.csv\t       seg_790108.csv  seg_b9619c.csv  seg_f679c6.csv\n",
            "seg_3706be.csv\t       seg_7949da.csv  seg_b9ad7f.csv  seg_f67ce2.csv\n",
            "seg_373a04.csv\t       seg_79c47a.csv  seg_b9bdd7.csv  seg_f6828d.csv\n",
            "seg_373ba6.csv\t       seg_79dc90.csv  seg_b9d8a0.csv  seg_f69c38.csv\n",
            "seg_37608b.csv\t       seg_79e301.csv  seg_b9de03.csv  seg_f6a217.csv\n",
            "seg_3761d0.csv\t       seg_7a09ec.csv  seg_b9ec4b.csv  seg_f6abc5.csv\n",
            "seg_37669c.csv\t       seg_7a521c.csv  seg_ba0485.csv  seg_f6b70c.csv\n",
            "seg_376908.csv\t       seg_7a5243.csv  seg_ba1d68.csv  seg_f6bae8.csv\n",
            "seg_377134.csv\t       seg_7a9228.csv  seg_ba2c48.csv  seg_f6c0cb.csv\n",
            "seg_3788c5.csv\t       seg_7a9f2b.csv  seg_ba3c47.csv  seg_f6c928.csv\n",
            "seg_37bf85.csv\t       seg_7aeca4.csv  seg_ba3e74.csv  seg_f6cfd4.csv\n",
            "seg_37f3fb.csv\t       seg_7b0936.csv  seg_ba4ea3.csv  seg_f6d51b.csv\n",
            "seg_38001b.csv\t       seg_7b2994.csv  seg_ba5e7e.csv  seg_f6e1ca.csv\n",
            "seg_383b6b.csv\t       seg_7b3017.csv  seg_ba83da.csv  seg_f6e89f.csv\n",
            "seg_383f2e.csv\t       seg_7b5f90.csv  seg_ba941e.csv  seg_f6f523.csv\n",
            "seg_3865bc.csv\t       seg_7bb771.csv  seg_ba98dc.csv  seg_f6f683.csv\n",
            "seg_3878d0.csv\t       seg_7bec10.csv  seg_ba9dbf.csv  seg_f7050a.csv\n",
            "seg_389906.csv\t       seg_7bf143.csv  seg_baa745.csv  seg_f70b66.csv\n",
            "seg_38ad16.csv\t       seg_7c0376.csv  seg_bb171f.csv  seg_f71db8.csv\n",
            "seg_38ee24.csv\t       seg_7c10c1.csv  seg_bb180c.csv  seg_f7290f.csv\n",
            "seg_392019.csv\t       seg_7c2beb.csv  seg_bb2d77.csv  seg_f734c8.csv\n",
            "seg_39300d.csv\t       seg_7c2c48.csv  seg_bb5e15.csv  seg_f741af.csv\n",
            "seg_395e0e.csv\t       seg_7c6c31.csv  seg_bb6904.csv  seg_f77ee5.csv\n",
            "seg_397983.csv\t       seg_7c88d1.csv  seg_bb6fcb.csv  seg_f7d792.csv\n",
            "seg_397dc9.csv\t       seg_7c9433.csv  seg_bb92b1.csv  seg_f7de40.csv\n",
            "seg_398a25.csv\t       seg_7cb417.csv  seg_bbb01e.csv  seg_f80e44.csv\n",
            "seg_39a886.csv\t       seg_7cbb45.csv  seg_bbbc30.csv  seg_f83d28.csv\n",
            "seg_39ad50.csv\t       seg_7cd6b1.csv  seg_bbf805.csv  seg_f865be.csv\n",
            "seg_3a1600.csv\t       seg_7cdfe5.csv  seg_bbfd4e.csv  seg_f86c41.csv\n",
            "seg_3a22ac.csv\t       seg_7ce9cb.csv  seg_bc07c8.csv  seg_f88d4a.csv\n",
            "seg_3a80c5.csv\t       seg_7cef95.csv  seg_bc1d67.csv  seg_f8db0a.csv\n",
            "seg_3a8a76.csv\t       seg_7d17eb.csv  seg_bc2186.csv  seg_f8dd7e.csv\n",
            "seg_3aca44.csv\t       seg_7d2535.csv  seg_bc437b.csv  seg_f931de.csv\n",
            "seg_3adb1a.csv\t       seg_7d2e57.csv  seg_bca500.csv  seg_f93ce5.csv\n",
            "seg_3ae4d9.csv\t       seg_7d65c7.csv  seg_bcc8f1.csv  seg_f95fd3.csv\n",
            "seg_3af649.csv\t       seg_7d718e.csv  seg_bce23c.csv  seg_f96d0e.csv\n",
            "seg_3b2013.csv\t       seg_7d88e3.csv  seg_bce305.csv  seg_f96d5a.csv\n",
            "seg_3b30fd.csv\t       seg_7d994f.csv  seg_bcf2d9.csv  seg_f97274.csv\n",
            "seg_3b4414.csv\t       seg_7ddc30.csv  seg_bcf6af.csv  seg_f99b64.csv\n",
            "seg_3b7175.csv\t       seg_7df3dd.csv  seg_bcfad6.csv  seg_f9e4f2.csv\n",
            "seg_3b7724.csv\t       seg_7e3b3e.csv  seg_bd00c4.csv  seg_f9eea3.csv\n",
            "seg_3b95d2.csv\t       seg_7e9eb7.csv  seg_bd2b0c.csv  seg_fa0ac7.csv\n",
            "seg_3b95dc.csv\t       seg_7eb108.csv  seg_bd31bf.csv  seg_fa34c7.csv\n",
            "seg_3ba485.csv\t       seg_7ebdc3.csv  seg_bd40f2.csv  seg_fa488e.csv\n",
            "seg_3bb90a.csv\t       seg_7ed2dd.csv  seg_bd4d30.csv  seg_fa4df0.csv\n",
            "seg_3bc9ed.csv\t       seg_7ef97b.csv  seg_bd5022.csv  seg_fa6383.csv\n",
            "seg_3bd97e.csv\t       seg_7efdd5.csv  seg_bd629b.csv  seg_fa796b.csv\n",
            "seg_3bf9ac.csv\t       seg_7f3ab0.csv  seg_bd6f5f.csv  seg_fa9f00.csv\n",
            "seg_3bfcf6.csv\t       seg_7f5b6f.csv  seg_bd7109.csv  seg_fad815.csv\n",
            "seg_3c3ddf.csv\t       seg_7f786b.csv  seg_bdae02.csv  seg_fb00b3.csv\n",
            "seg_3c4106.csv\t       seg_7f93b2.csv  seg_bdf84b.csv  seg_fb11ba.csv\n",
            "seg_3c64fb.csv\t       seg_7f9b3a.csv  seg_be0cdc.csv  seg_fb1f5c.csv\n",
            "seg_3c8545.csv\t       seg_7fa6ec.csv  seg_be0dfa.csv  seg_fb4c26.csv\n",
            "seg_3cba49.csv\t       seg_7fac26.csv  seg_be19e2.csv  seg_fb74f0.csv\n",
            "seg_3cbccf.csv\t       seg_7fd3a3.csv  seg_be30ce.csv  seg_fb76ca.csv\n",
            "seg_3ce740.csv\t       seg_7fd6b7.csv  seg_be4612.csv  seg_fb8af5.csv\n",
            "seg_3cfb73.csv\t       seg_80211c.csv  seg_be62ef.csv  seg_fb9491.csv\n",
            "seg_3d059a.csv\t       seg_804fb5.csv  seg_be65f2.csv  seg_fb9b2e.csv\n",
            "seg_3d06cc.csv\t       seg_80622d.csv  seg_be811d.csv  seg_fbce13.csv\n",
            "seg_3d19fc.csv\t       seg_807901.csv  seg_beb650.csv  seg_fbd66b.csv\n",
            "seg_3d1cb3.csv\t       seg_80b9b4.csv  seg_beda44.csv  seg_fbddb9.csv\n",
            "seg_3d1f2e.csv\t       seg_80fb86.csv  seg_bee792.csv  seg_fbe3c2.csv\n",
            "seg_3d581c.csv\t       seg_812962.csv  seg_bf1294.csv  seg_fbf17a.csv\n",
            "seg_3d6aac.csv\t       seg_812a50.csv  seg_bf1430.csv  seg_fbff25.csv\n",
            "seg_3d6e79.csv\t       seg_813aab.csv  seg_bf1a72.csv  seg_fc407c.csv\n",
            "seg_3d9aa0.csv\t       seg_814b1f.csv  seg_bf2d1f.csv  seg_fc57d4.csv\n",
            "seg_3db0a8.csv\t       seg_816b7a.csv  seg_bf4bf2.csv  seg_fc8fd6.csv\n",
            "seg_3e00cd.csv\t       seg_818382.csv  seg_bf4ec0.csv  seg_fcb7d0.csv\n",
            "seg_3e55d5.csv\t       seg_81a8ea.csv  seg_bf58ce.csv  seg_fcca66.csv\n",
            "seg_3e87b4.csv\t       seg_81bebd.csv  seg_bf7224.csv  seg_fcd32e.csv\n",
            "seg_3ec967.csv\t       seg_81c1a6.csv  seg_bfdd14.csv  seg_fd19b8.csv\n",
            "seg_3edf51.csv\t       seg_81c432.csv  seg_bfe0b6.csv  seg_fd374e.csv\n",
            "seg_3f2086.csv\t       seg_81f798.csv  seg_bff05e.csv  seg_fd6340.csv\n",
            "seg_3f3689.csv\t       seg_8200d2.csv  seg_bff392.csv  seg_fd8add.csv\n",
            "seg_3f3983.csv\t       seg_82303e.csv  seg_c01a57.csv  seg_fd9ac1.csv\n",
            "seg_3f5be6.csv\t       seg_82316b.csv  seg_c01d9a.csv  seg_fdba93.csv\n",
            "seg_3f80ef.csv\t       seg_8244bf.csv  seg_c01f63.csv  seg_fdc1d4.csv\n",
            "seg_3f99c8.csv\t       seg_82456a.csv  seg_c0260d.csv  seg_fdd50e.csv\n",
            "seg_3fb24b.csv\t       seg_826208.csv  seg_c047b7.csv  seg_fde767.csv\n",
            "seg_3fc7ca.csv\t       seg_827804.csv  seg_c05a7d.csv  seg_fde86d.csv\n",
            "seg_3fdae0.csv\t       seg_827a21.csv  seg_c07b7c.csv  seg_fdff11.csv\n",
            "seg_407b2b.csv\t       seg_827c07.csv  seg_c08d36.csv  seg_fe2aac.csv\n",
            "seg_40b3aa.csv\t       seg_82c138.csv  seg_c09a41.csv  seg_fe5945.csv\n",
            "seg_40f810.csv\t       seg_82ce27.csv  seg_c0c0ed.csv  seg_fe70c0.csv\n",
            "seg_411225.csv\t       seg_82d7b6.csv  seg_c0d7da.csv  seg_fe73b1.csv\n",
            "seg_414d0f.csv\t       seg_830cff.csv  seg_c0e1b9.csv  seg_fe86f5.csv\n",
            "seg_4185b3.csv\t       seg_8310ea.csv  seg_c0ea9f.csv  seg_fea3e2.csv\n",
            "seg_419531.csv\t       seg_8324a4.csv  seg_c106ca.csv  seg_feb312.csv\n",
            "seg_419b2a.csv\t       seg_8328f5.csv  seg_c10a58.csv  seg_fedbd1.csv\n",
            "seg_41a267.csv\t       seg_832a4d.csv  seg_c11828.csv  seg_ff0f1b.csv\n",
            "seg_41aadc.csv\t       seg_8344ee.csv  seg_c11a4f.csv  seg_ff1a62.csv\n",
            "seg_41ab7e.csv\t       seg_8353f5.csv  seg_c12d7d.csv  seg_ff2f2d.csv\n",
            "seg_41be18.csv\t       seg_836aac.csv  seg_c146a8.csv  seg_ff4236.csv\n",
            "seg_41be7d.csv\t       seg_836ef0.csv  seg_c15d21.csv  seg_ff7478.csv\n",
            "seg_41f45e.csv\t       seg_83bef8.csv  seg_c17817.csv  seg_ff79d9.csv\n",
            "seg_420bcc.csv\t       seg_83cb2c.csv  seg_c179f8.csv  seg_ffbd6a.csv\n",
            "seg_420d4e.csv\t       seg_83dc2e.csv  seg_c183e4.csv  seg_ffe7cc.csv\n",
            "seg_421a96.csv\t       seg_83ef67.csv  seg_c186dc.csv  test.csv\n",
            "seg_421da1.csv\t       seg_83f476.csv  seg_c18d5a.csv  test.zip\n",
            "seg_423ebe.csv\t       seg_83f89e.csv  seg_c1fe9a.csv  train.csv\n",
            "seg_425462.csv\t       seg_83f928.csv  seg_c20a27.csv  train.csv.zip\n"
          ],
          "name": "stdout"
        }
      ]
    },
    {
      "metadata": {
        "id": "m5m5pF6AuzE0",
        "colab_type": "text"
      },
      "cell_type": "markdown",
      "source": [
        "# Step 3 -  Exploratory Data Analysis"
      ]
    },
    {
      "metadata": {
        "id": "Oq5Enj5uu_Af",
        "colab_type": "code",
        "colab": {}
      },
      "cell_type": "code",
      "source": [
        "\n",
        "#Extract training data into a dataframe for further manipulation\n",
        "train = pd.read_csv('train.csv', nrows=6000000, dtype={'acoustic_data': np.int16, 'time_to_failure': np.float64})"
      ],
      "execution_count": 0,
      "outputs": []
    },
    {
      "metadata": {
        "id": "aYh5yKg4vBW4",
        "colab_type": "code",
        "outputId": "a8922fc2-e906-4897-879f-3d482b93498c",
        "colab": {
          "base_uri": "https://localhost:8080/",
          "height": 346
        }
      },
      "cell_type": "code",
      "source": [
        "#print first 10 entries\n",
        "train.head(10)"
      ],
      "execution_count": 249,
      "outputs": [
        {
          "output_type": "execute_result",
          "data": {
            "text/html": [
              "<div>\n",
              "<style scoped>\n",
              "    .dataframe tbody tr th:only-of-type {\n",
              "        vertical-align: middle;\n",
              "    }\n",
              "\n",
              "    .dataframe tbody tr th {\n",
              "        vertical-align: top;\n",
              "    }\n",
              "\n",
              "    .dataframe thead th {\n",
              "        text-align: right;\n",
              "    }\n",
              "</style>\n",
              "<table border=\"1\" class=\"dataframe\">\n",
              "  <thead>\n",
              "    <tr style=\"text-align: right;\">\n",
              "      <th></th>\n",
              "      <th>acoustic_data</th>\n",
              "      <th>time_to_failure</th>\n",
              "    </tr>\n",
              "  </thead>\n",
              "  <tbody>\n",
              "    <tr>\n",
              "      <th>0</th>\n",
              "      <td>12</td>\n",
              "      <td>1.4691</td>\n",
              "    </tr>\n",
              "    <tr>\n",
              "      <th>1</th>\n",
              "      <td>6</td>\n",
              "      <td>1.4691</td>\n",
              "    </tr>\n",
              "    <tr>\n",
              "      <th>2</th>\n",
              "      <td>8</td>\n",
              "      <td>1.4691</td>\n",
              "    </tr>\n",
              "    <tr>\n",
              "      <th>3</th>\n",
              "      <td>5</td>\n",
              "      <td>1.4691</td>\n",
              "    </tr>\n",
              "    <tr>\n",
              "      <th>4</th>\n",
              "      <td>8</td>\n",
              "      <td>1.4691</td>\n",
              "    </tr>\n",
              "    <tr>\n",
              "      <th>5</th>\n",
              "      <td>8</td>\n",
              "      <td>1.4691</td>\n",
              "    </tr>\n",
              "    <tr>\n",
              "      <th>6</th>\n",
              "      <td>9</td>\n",
              "      <td>1.4691</td>\n",
              "    </tr>\n",
              "    <tr>\n",
              "      <th>7</th>\n",
              "      <td>7</td>\n",
              "      <td>1.4691</td>\n",
              "    </tr>\n",
              "    <tr>\n",
              "      <th>8</th>\n",
              "      <td>-5</td>\n",
              "      <td>1.4691</td>\n",
              "    </tr>\n",
              "    <tr>\n",
              "      <th>9</th>\n",
              "      <td>3</td>\n",
              "      <td>1.4691</td>\n",
              "    </tr>\n",
              "  </tbody>\n",
              "</table>\n",
              "</div>"
            ],
            "text/plain": [
              "   acoustic_data  time_to_failure\n",
              "0             12           1.4691\n",
              "1              6           1.4691\n",
              "2              8           1.4691\n",
              "3              5           1.4691\n",
              "4              8           1.4691\n",
              "5              8           1.4691\n",
              "6              9           1.4691\n",
              "7              7           1.4691\n",
              "8             -5           1.4691\n",
              "9              3           1.4691"
            ]
          },
          "metadata": {
            "tags": []
          },
          "execution_count": 249
        }
      ]
    },
    {
      "metadata": {
        "id": "HXKYHJbjxBXZ",
        "colab_type": "code",
        "outputId": "c5e41642-c9a4-4f7d-c896-f692898ad371",
        "colab": {
          "base_uri": "https://localhost:8080/",
          "height": 515
        }
      },
      "cell_type": "code",
      "source": [
        "#visualize 1% of samples data, first 100 datapoints\n",
        "train_ad_sample_df = train['acoustic_data'].values[::100]\n",
        "train_ttf_sample_df = train['time_to_failure'].values[::100]\n",
        "\n",
        "print(train_ad_sample_df.shape)\n",
        "\n",
        "#function for plotting based on both features\n",
        "def plot_acc_ttf_data(train_ad_sample_df, train_ttf_sample_df, title=\"Acoustic data and time to failure: 1% sampled data\"):\n",
        "    fig, ax1 = plt.subplots(figsize=(12, 8))\n",
        "    plt.title(title)\n",
        "    plt.plot(train_ad_sample_df, color='r')\n",
        "    ax1.set_ylabel('acoustic data', color='r')\n",
        "    plt.legend(['acoustic data'], loc=(0.01, 0.95))\n",
        "    ax2 = ax1.twinx()\n",
        "    plt.plot(train_ttf_sample_df, color='b')\n",
        "    ax2.set_ylabel('time to failure', color='b')\n",
        "    plt.legend(['time to failure'], loc=(0.01, 0.9))\n",
        "    plt.grid(True)\n",
        "\n",
        "plot_acc_ttf_data(train_ad_sample_df, train_ttf_sample_df)\n",
        "del train_ad_sample_df\n",
        "del train_ttf_sample_df"
      ],
      "execution_count": 250,
      "outputs": [
        {
          "output_type": "stream",
          "text": [
            "(60000,)\n"
          ],
          "name": "stdout"
        },
        {
          "output_type": "display_data",
          "data": {
            "image/png": "[encoded data removed]",
            "text/plain": [
              "<Figure size 864x576 with 2 Axes>"
            ]
          },
          "metadata": {
            "tags": []
          }
        }
      ]
    },
    {
      "metadata": {
        "id": "b7S9gUf7zJpj",
        "colab_type": "text"
      },
      "cell_type": "markdown",
      "source": [
        "# Step 4 - Feature Engineering"
      ]
    },
    {
      "metadata": {
        "id": "CAXuUZ5xzHBV",
        "colab_type": "code",
        "colab": {}
      },
      "cell_type": "code",
      "source": [
        "#lets create a function to generate some statistical features based on the training data\n",
        "def gen_features(X):\n",
        "    strain = []\n",
        "    strain.append(X.mean())\n",
        "    strain.append(X.std())\n",
        "    strain.append(X.min())\n",
        "    strain.append(X.max())\n",
        "    strain.append(X.kurtosis())\n",
        "    strain.append(X.skew())\n",
        "    strain.append(np.abs(X).max())\n",
        "    strain.append(np.abs(X).mean())\n",
        "    strain.append(np.abs(X).std())\n",
        "    return pd.Series(strain)"
      ],
      "execution_count": 0,
      "outputs": []
    },
    {
      "metadata": {
        "id": "yPN0VkugzV2g",
        "colab_type": "code",
        "colab": {}
      },
      "cell_type": "code",
      "source": [
        "train = pd.read_csv('train.csv', iterator=True, chunksize=150_000, dtype={'acoustic_data': np.int16, 'time_to_failure': np.float64})\n",
        "\n",
        "X_train = pd.DataFrame()\n",
        "y_train = pd.Series()\n",
        "for df in train:\n",
        "    ch = gen_features(df['acoustic_data'])\n",
        "    X_train = X_train.append(ch, ignore_index=True)\n",
        "    y_train = y_train.append(pd.Series(df['time_to_failure'].values[-1]))"
      ],
      "execution_count": 0,
      "outputs": []
    },
    {
      "metadata": {
        "id": "ACDKs5r4zXPq",
        "colab_type": "code",
        "outputId": "0901e5f6-9b2b-4732-ec87-c93c059d35c3",
        "colab": {
          "base_uri": "https://localhost:8080/",
          "height": 286
        }
      },
      "cell_type": "code",
      "source": [
        "X_train.describe()"
      ],
      "execution_count": 253,
      "outputs": [
        {
          "output_type": "execute_result",
          "data": {
            "text/html": [
              "<div>\n",
              "<style scoped>\n",
              "    .dataframe tbody tr th:only-of-type {\n",
              "        vertical-align: middle;\n",
              "    }\n",
              "\n",
              "    .dataframe tbody tr th {\n",
              "        vertical-align: top;\n",
              "    }\n",
              "\n",
              "    .dataframe thead th {\n",
              "        text-align: right;\n",
              "    }\n",
              "</style>\n",
              "<table border=\"1\" class=\"dataframe\">\n",
              "  <thead>\n",
              "    <tr style=\"text-align: right;\">\n",
              "      <th></th>\n",
              "      <th>0</th>\n",
              "      <th>1</th>\n",
              "      <th>2</th>\n",
              "      <th>3</th>\n",
              "      <th>4</th>\n",
              "      <th>5</th>\n",
              "      <th>6</th>\n",
              "      <th>7</th>\n",
              "      <th>8</th>\n",
              "    </tr>\n",
              "  </thead>\n",
              "  <tbody>\n",
              "    <tr>\n",
              "      <th>count</th>\n",
              "      <td>4195.000000</td>\n",
              "      <td>4195.000000</td>\n",
              "      <td>4195.000000</td>\n",
              "      <td>4195.000000</td>\n",
              "      <td>4195.000000</td>\n",
              "      <td>4195.000000</td>\n",
              "      <td>4195.000000</td>\n",
              "      <td>4195.000000</td>\n",
              "      <td>4195.000000</td>\n",
              "    </tr>\n",
              "    <tr>\n",
              "      <th>mean</th>\n",
              "      <td>4.519475</td>\n",
              "      <td>6.547788</td>\n",
              "      <td>-149.190942</td>\n",
              "      <td>163.522288</td>\n",
              "      <td>68.297997</td>\n",
              "      <td>0.125830</td>\n",
              "      <td>170.046246</td>\n",
              "      <td>5.547367</td>\n",
              "      <td>5.750165</td>\n",
              "    </tr>\n",
              "    <tr>\n",
              "      <th>std</th>\n",
              "      <td>0.256049</td>\n",
              "      <td>8.503939</td>\n",
              "      <td>265.087984</td>\n",
              "      <td>272.930331</td>\n",
              "      <td>70.532565</td>\n",
              "      <td>0.477901</td>\n",
              "      <td>296.887015</td>\n",
              "      <td>1.517038</td>\n",
              "      <td>8.339211</td>\n",
              "    </tr>\n",
              "    <tr>\n",
              "      <th>min</th>\n",
              "      <td>3.596313</td>\n",
              "      <td>2.802720</td>\n",
              "      <td>-5515.000000</td>\n",
              "      <td>23.000000</td>\n",
              "      <td>0.648602</td>\n",
              "      <td>-4.091826</td>\n",
              "      <td>23.000000</td>\n",
              "      <td>4.147707</td>\n",
              "      <td>2.589085</td>\n",
              "    </tr>\n",
              "    <tr>\n",
              "      <th>25%</th>\n",
              "      <td>4.349497</td>\n",
              "      <td>4.478637</td>\n",
              "      <td>-154.000000</td>\n",
              "      <td>92.000000</td>\n",
              "      <td>28.090227</td>\n",
              "      <td>-0.040779</td>\n",
              "      <td>94.000000</td>\n",
              "      <td>5.061843</td>\n",
              "      <td>3.862810</td>\n",
              "    </tr>\n",
              "    <tr>\n",
              "      <th>50%</th>\n",
              "      <td>4.522147</td>\n",
              "      <td>5.618798</td>\n",
              "      <td>-111.000000</td>\n",
              "      <td>123.000000</td>\n",
              "      <td>45.816625</td>\n",
              "      <td>0.085620</td>\n",
              "      <td>127.000000</td>\n",
              "      <td>5.380853</td>\n",
              "      <td>4.781513</td>\n",
              "    </tr>\n",
              "    <tr>\n",
              "      <th>75%</th>\n",
              "      <td>4.693350</td>\n",
              "      <td>6.880904</td>\n",
              "      <td>-79.000000</td>\n",
              "      <td>170.000000</td>\n",
              "      <td>78.664202</td>\n",
              "      <td>0.253930</td>\n",
              "      <td>175.000000</td>\n",
              "      <td>5.748553</td>\n",
              "      <td>5.887947</td>\n",
              "    </tr>\n",
              "    <tr>\n",
              "      <th>max</th>\n",
              "      <td>5.391993</td>\n",
              "      <td>153.703569</td>\n",
              "      <td>-15.000000</td>\n",
              "      <td>5444.000000</td>\n",
              "      <td>631.158927</td>\n",
              "      <td>4.219429</td>\n",
              "      <td>5515.000000</td>\n",
              "      <td>32.762073</td>\n",
              "      <td>150.432368</td>\n",
              "    </tr>\n",
              "  </tbody>\n",
              "</table>\n",
              "</div>"
            ],
            "text/plain": [
              "                 0            1            2            3            4  \\\n",
              "count  4195.000000  4195.000000  4195.000000  4195.000000  4195.000000   \n",
              "mean      4.519475     6.547788  -149.190942   163.522288    68.297997   \n",
              "std       0.256049     8.503939   265.087984   272.930331    70.532565   \n",
              "min       3.596313     2.802720 -5515.000000    23.000000     0.648602   \n",
              "25%       4.349497     4.478637  -154.000000    92.000000    28.090227   \n",
              "50%       4.522147     5.618798  -111.000000   123.000000    45.816625   \n",
              "75%       4.693350     6.880904   -79.000000   170.000000    78.664202   \n",
              "max       5.391993   153.703569   -15.000000  5444.000000   631.158927   \n",
              "\n",
              "                 5            6            7            8  \n",
              "count  4195.000000  4195.000000  4195.000000  4195.000000  \n",
              "mean      0.125830   170.046246     5.547367     5.750165  \n",
              "std       0.477901   296.887015     1.517038     8.339211  \n",
              "min      -4.091826    23.000000     4.147707     2.589085  \n",
              "25%      -0.040779    94.000000     5.061843     3.862810  \n",
              "50%       0.085620   127.000000     5.380853     4.781513  \n",
              "75%       0.253930   175.000000     5.748553     5.887947  \n",
              "max       4.219429  5515.000000    32.762073   150.432368  "
            ]
          },
          "metadata": {
            "tags": []
          },
          "execution_count": 253
        }
      ]
    },
    {
      "metadata": {
        "id": "o8YZKPyqqqoh",
        "colab_type": "code",
        "outputId": "1a34e68e-af81-4413-bafa-056d976f253e",
        "colab": {
          "base_uri": "https://localhost:8080/",
          "height": 34
        }
      },
      "cell_type": "code",
      "source": [
        "X_train.shape"
      ],
      "execution_count": 254,
      "outputs": [
        {
          "output_type": "execute_result",
          "data": {
            "text/plain": [
              "(4195, 9)"
            ]
          },
          "metadata": {
            "tags": []
          },
          "execution_count": 254
        }
      ]
    },
    {
      "metadata": {
        "id": "4vTNR263sqwE",
        "colab_type": "code",
        "outputId": "3fa4fcf5-1321-4ba2-e1d3-7811f33ba20f",
        "colab": {
          "base_uri": "https://localhost:8080/",
          "height": 34
        }
      },
      "cell_type": "code",
      "source": [
        "X_train.size"
      ],
      "execution_count": 255,
      "outputs": [
        {
          "output_type": "execute_result",
          "data": {
            "text/plain": [
              "37755"
            ]
          },
          "metadata": {
            "tags": []
          },
          "execution_count": 255
        }
      ]
    },
    {
      "metadata": {
        "id": "ro4Uv9XRukQl",
        "colab_type": "code",
        "colab": {}
      },
      "cell_type": "code",
      "source": [
        "from sklearn.model_selection import train_test_split\n",
        "\n",
        "X_lstm_train = X_train.copy()\n",
        "y_lstm_train = y_train.copy()\n",
        "original_X = X_train.copy()\n",
        "original_y = y_train.copy()\n",
        "\n",
        "X_test = X_train.copy()\n",
        "y_test = y_train.copy()\n",
        "\n",
        "# X_train, X_test, y_train, y_test = train_test_split(X_train, y_train, test_size=0.20, random_state=42)"
      ],
      "execution_count": 0,
      "outputs": []
    },
    {
      "metadata": {
        "id": "VxXBJU7z1ltS",
        "colab_type": "text"
      },
      "cell_type": "markdown",
      "source": [
        "# Step 5 - Implement Catboost Model"
      ]
    },
    {
      "metadata": {
        "id": "slz64mW0Uj9f",
        "colab_type": "code",
        "outputId": "b88315c0-d9ea-4a32-c7ef-1cf406c1e14c",
        "colab": {
          "base_uri": "https://localhost:8080/",
          "height": 34
        }
      },
      "cell_type": "code",
      "source": [
        "import tensorflow as tf\n",
        "device_name = tf.test.gpu_device_name()\n",
        "if device_name != '/device:GPU:0':\n",
        "  raise SystemError('GPU device not found')\n",
        "print('Found GPU at: {}'.format(device_name))"
      ],
      "execution_count": 257,
      "outputs": [
        {
          "output_type": "stream",
          "text": [
            "Found GPU at: /device:GPU:0\n"
          ],
          "name": "stdout"
        }
      ]
    },
    {
      "metadata": {
        "id": "FoI0FJ9x1qKz",
        "colab_type": "code",
        "colab": {}
      },
      "cell_type": "code",
      "source": [
        "with tf.device('/gpu:0'):\n",
        "  train_pool = Pool(X_train, y_train)\n",
        "  m = CatBoostRegressor(iterations=10000, loss_function='MAE', boosting_type='Ordered')\n",
        "  m.fit(original_X, original_y, silent=True)\n",
        "#   m.fit(X_train, y_train, silent=True)\n",
        "  m.best_score_"
      ],
      "execution_count": 0,
      "outputs": []
    },
    {
      "metadata": {
        "id": "1ro6T46yu4OD",
        "colab_type": "code",
        "outputId": "d2e94bfb-ef30-49ba-8f6d-07d9f9644f98",
        "colab": {
          "base_uri": "https://localhost:8080/",
          "height": 34
        }
      },
      "cell_type": "code",
      "source": [
        "metrics.mean_absolute_error(y_test, m.predict(X_test))"
      ],
      "execution_count": 259,
      "outputs": [
        {
          "output_type": "execute_result",
          "data": {
            "text/plain": [
              "1.7976107166873287"
            ]
          },
          "metadata": {
            "tags": []
          },
          "execution_count": 259
        }
      ]
    },
    {
      "metadata": {
        "id": "JflOl0MVORte",
        "colab_type": "text"
      },
      "cell_type": "markdown",
      "source": [
        "# Step 6 - Implement XGBoost"
      ]
    },
    {
      "metadata": {
        "id": "CNf-EnDRW1k7",
        "colab_type": "code",
        "colab": {
          "base_uri": "https://localhost:8080/",
          "height": 122
        },
        "outputId": "5ef8cf8d-f2b7-4a47-b357-3f56b03c5420"
      },
      "cell_type": "code",
      "source": [
        "import xgboost as xgb\n",
        "\n",
        "with tf.device('/gpu:0'):\n",
        "  gbm = xgb.XGBRegressor()\n",
        "  reg_cv = GridSearchCV(gbm, {\"colsample_bytree\":[1.0],\"min_child_weight\":[1.0,1.2]\n",
        "                              ,'max_depth': [3,4], 'n_estimators': [500,1000]}, verbose=1)\n",
        "  reg_cv.fit(X_train,y_train)"
      ],
      "execution_count": 260,
      "outputs": [
        {
          "output_type": "stream",
          "text": [
            "/usr/local/lib/python3.6/dist-packages/sklearn/model_selection/_split.py:2053: FutureWarning: You should specify a value for 'cv' instead of relying on the default value. The default value will change from 3 to 5 in version 0.22.\n",
            "  warnings.warn(CV_WARNING, FutureWarning)\n",
            "[Parallel(n_jobs=1)]: Using backend SequentialBackend with 1 concurrent workers.\n"
          ],
          "name": "stderr"
        },
        {
          "output_type": "stream",
          "text": [
            "Fitting 3 folds for each of 8 candidates, totalling 24 fits\n"
          ],
          "name": "stdout"
        },
        {
          "output_type": "stream",
          "text": [
            "[Parallel(n_jobs=1)]: Done  24 out of  24 | elapsed:   32.7s finished\n"
          ],
          "name": "stderr"
        }
      ]
    },
    {
      "metadata": {
        "id": "Wyttkw3xW7li",
        "colab_type": "code",
        "colab": {
          "base_uri": "https://localhost:8080/",
          "height": 85
        },
        "outputId": "39b16ec1-683b-43c0-e54d-9dbf6d696951"
      },
      "cell_type": "code",
      "source": [
        "reg_cv.best_params_"
      ],
      "execution_count": 261,
      "outputs": [
        {
          "output_type": "execute_result",
          "data": {
            "text/plain": [
              "{'colsample_bytree': 1.0,\n",
              " 'max_depth': 3,\n",
              " 'min_child_weight': 1.0,\n",
              " 'n_estimators': 500}"
            ]
          },
          "metadata": {
            "tags": []
          },
          "execution_count": 261
        }
      ]
    },
    {
      "metadata": {
        "id": "LahwEbOuW8oJ",
        "colab_type": "code",
        "colab": {}
      },
      "cell_type": "code",
      "source": [
        "with tf.device('/gpu:0'):\n",
        "  gbm = xgb.XGBRegressor(**reg_cv.best_params_)\n",
        "  gbm.fit(X_train,y_train, eval_metric='mae')\n",
        "  metrics.mean_absolute_error(y_train, gbm.predict(X_train))"
      ],
      "execution_count": 0,
      "outputs": []
    },
    {
      "metadata": {
        "id": "YIFfTXR0vHV2",
        "colab_type": "code",
        "colab": {
          "base_uri": "https://localhost:8080/",
          "height": 34
        },
        "outputId": "abef72f9-91ba-4d71-98f3-828297a0ea54"
      },
      "cell_type": "code",
      "source": [
        "metrics.mean_absolute_error(y_test, gbm.predict(X_test))"
      ],
      "execution_count": 263,
      "outputs": [
        {
          "output_type": "execute_result",
          "data": {
            "text/plain": [
              "1.641375677361558"
            ]
          },
          "metadata": {
            "tags": []
          },
          "execution_count": 263
        }
      ]
    },
    {
      "metadata": {
        "id": "qQPGeOqMT4RR",
        "colab_type": "text"
      },
      "cell_type": "markdown",
      "source": [
        "# Step 7 - Implement Random Forest"
      ]
    },
    {
      "metadata": {
        "id": "5AVo54oYUCNI",
        "colab_type": "code",
        "colab": {}
      },
      "cell_type": "code",
      "source": [
        "from sklearn.ensemble import RandomForestRegressor\n",
        "\n",
        "with tf.device('/gpu:0'):\n",
        "  regr = RandomForestRegressor(max_depth=2, random_state=0, n_estimators=100)\n",
        "  regr.fit(X_train, y_train)\n",
        "  metrics.mean_absolute_error(y_train, regr.predict(X_train))"
      ],
      "execution_count": 0,
      "outputs": []
    },
    {
      "metadata": {
        "id": "48pfOpRtUag9",
        "colab_type": "code",
        "colab": {
          "base_uri": "https://localhost:8080/",
          "height": 34
        },
        "outputId": "4468fcde-2419-4e8c-9ef1-a5158e087243"
      },
      "cell_type": "code",
      "source": [
        "metrics.mean_absolute_error(y_test, regr.predict(X_test))"
      ],
      "execution_count": 265,
      "outputs": [
        {
          "output_type": "execute_result",
          "data": {
            "text/plain": [
              "2.3251807829604028"
            ]
          },
          "metadata": {
            "tags": []
          },
          "execution_count": 265
        }
      ]
    },
    {
      "metadata": {
        "id": "V-m6g1-AXz6g",
        "colab_type": "text"
      },
      "cell_type": "markdown",
      "source": [
        "# Step 8 - Implement SGD"
      ]
    },
    {
      "metadata": {
        "id": "7HvsYglRYE1I",
        "colab_type": "code",
        "colab": {}
      },
      "cell_type": "code",
      "source": [
        "from sklearn import linear_model\n",
        "\n",
        "with tf.device('/gpu:0'):\n",
        "  clf = linear_model.SGDRegressor(max_iter=1000, tol=1e-3)\n",
        "  clf.fit(X_train, y_train)\n",
        "  metrics.mean_absolute_error(y_train, clf.predict(X_train))"
      ],
      "execution_count": 0,
      "outputs": []
    },
    {
      "metadata": {
        "id": "vTCWtvzaYniT",
        "colab_type": "code",
        "colab": {
          "base_uri": "https://localhost:8080/",
          "height": 34
        },
        "outputId": "3d417a9b-0995-48b4-f231-762cbb1b0263"
      },
      "cell_type": "code",
      "source": [
        "metrics.mean_absolute_error(y_test, clf.predict(X_test))"
      ],
      "execution_count": 267,
      "outputs": [
        {
          "output_type": "execute_result",
          "data": {
            "text/plain": [
              "42022388093586.92"
            ]
          },
          "metadata": {
            "tags": []
          },
          "execution_count": 267
        }
      ]
    },
    {
      "metadata": {
        "id": "Z8FXHly0Y2xV",
        "colab_type": "text"
      },
      "cell_type": "markdown",
      "source": [
        "# Step 9 - Implement Ridg Regression"
      ]
    },
    {
      "metadata": {
        "id": "rMWEvhscY3qu",
        "colab_type": "code",
        "colab": {}
      },
      "cell_type": "code",
      "source": [
        "with tf.device('/gpu:0'):\n",
        "  reg = linear_model.Ridge(alpha=.5)\n",
        "  reg.fit(X_train, y_train)\n",
        "  metrics.mean_absolute_error(y_train, clf.predict(X_train))"
      ],
      "execution_count": 0,
      "outputs": []
    },
    {
      "metadata": {
        "id": "lZJE2fEZZBgS",
        "colab_type": "code",
        "colab": {
          "base_uri": "https://localhost:8080/",
          "height": 34
        },
        "outputId": "68bebe52-f143-461b-b2eb-1bfd447008c0"
      },
      "cell_type": "code",
      "source": [
        "metrics.mean_absolute_error(y_test, clf.predict(X_test))"
      ],
      "execution_count": 269,
      "outputs": [
        {
          "output_type": "execute_result",
          "data": {
            "text/plain": [
              "42022388093586.92"
            ]
          },
          "metadata": {
            "tags": []
          },
          "execution_count": 269
        }
      ]
    },
    {
      "metadata": {
        "id": "cvJ4U9H6Zycf",
        "colab_type": "text"
      },
      "cell_type": "markdown",
      "source": [
        "# Step 10 - Implement Lasso"
      ]
    },
    {
      "metadata": {
        "id": "oBdpJQ1fZzAT",
        "colab_type": "code",
        "colab": {
          "base_uri": "https://localhost:8080/",
          "height": 71
        },
        "outputId": "5cf997f4-b50e-4dbd-955f-4ba862613f02"
      },
      "cell_type": "code",
      "source": [
        "with tf.device('/gpu:0'):\n",
        "  regLasso = linear_model.Lasso(alpha=0.1)\n",
        "  regLasso.fit(X_train, y_train)\n",
        "  metrics.mean_absolute_error(y_train, regLasso.predict(X_train))"
      ],
      "execution_count": 270,
      "outputs": [
        {
          "output_type": "stream",
          "text": [
            "/usr/local/lib/python3.6/dist-packages/sklearn/linear_model/coordinate_descent.py:492: ConvergenceWarning: Objective did not converge. You might want to increase the number of iterations. Fitting data with very small alpha may cause precision problems.\n",
            "  ConvergenceWarning)\n"
          ],
          "name": "stderr"
        }
      ]
    },
    {
      "metadata": {
        "id": "_oov79tdZzfz",
        "colab_type": "code",
        "colab": {
          "base_uri": "https://localhost:8080/",
          "height": 34
        },
        "outputId": "bfecd359-f553-4406-ef62-61b5dc136f91"
      },
      "cell_type": "code",
      "source": [
        "metrics.mean_absolute_error(y_test, regLasso.predict(X_test))"
      ],
      "execution_count": 271,
      "outputs": [
        {
          "output_type": "execute_result",
          "data": {
            "text/plain": [
              "2.578952630180003"
            ]
          },
          "metadata": {
            "tags": []
          },
          "execution_count": 271
        }
      ]
    },
    {
      "metadata": {
        "id": "g2rfPHp5bGwQ",
        "colab_type": "text"
      },
      "cell_type": "markdown",
      "source": [
        "# Step 11 - Implement KernelRidge"
      ]
    },
    {
      "metadata": {
        "id": "a3qp0mcPbHjf",
        "colab_type": "code",
        "colab": {}
      },
      "cell_type": "code",
      "source": [
        "from sklearn.kernel_ridge import KernelRidge\n",
        "\n",
        "with tf.device('/gpu:0'):\n",
        "  krr = KernelRidge(alpha=1.0)\n",
        "  krr.fit(X_train, y_train)\n",
        "  metrics.mean_absolute_error(y_train, krr.predict(X_train))"
      ],
      "execution_count": 0,
      "outputs": []
    },
    {
      "metadata": {
        "id": "JGR7uzQUbV45",
        "colab_type": "code",
        "colab": {
          "base_uri": "https://localhost:8080/",
          "height": 34
        },
        "outputId": "92f1f97b-967b-43a9-c9a4-4ea8c0aea7ba"
      },
      "cell_type": "code",
      "source": [
        "metrics.mean_absolute_error(y_test, krr.predict(X_test))"
      ],
      "execution_count": 273,
      "outputs": [
        {
          "output_type": "execute_result",
          "data": {
            "text/plain": [
              "2.3690607465877385"
            ]
          },
          "metadata": {
            "tags": []
          },
          "execution_count": 273
        }
      ]
    },
    {
      "metadata": {
        "id": "yofQLFtXb0rv",
        "colab_type": "text"
      },
      "cell_type": "markdown",
      "source": [
        "# Step 12 - Implement DecisionTree"
      ]
    },
    {
      "metadata": {
        "id": "WW8TQcg_b1o5",
        "colab_type": "code",
        "colab": {}
      },
      "cell_type": "code",
      "source": [
        "from sklearn import tree\n",
        "\n",
        "with tf.device('/gpu:0'):\n",
        "  tree = tree.DecisionTreeRegressor()\n",
        "  tree.fit(X_train, y_train)\n",
        "  metrics.mean_absolute_error(y_train, tree.predict(X_train))"
      ],
      "execution_count": 0,
      "outputs": []
    },
    {
      "metadata": {
        "id": "X3Q0kpO5cD9J",
        "colab_type": "code",
        "colab": {
          "base_uri": "https://localhost:8080/",
          "height": 34
        },
        "outputId": "62882b01-11df-431f-bce9-92b35fb152de"
      },
      "cell_type": "code",
      "source": [
        "metrics.mean_absolute_error(y_test, tree.predict(X_test))"
      ],
      "execution_count": 275,
      "outputs": [
        {
          "output_type": "execute_result",
          "data": {
            "text/plain": [
              "4.999726293210882e-07"
            ]
          },
          "metadata": {
            "tags": []
          },
          "execution_count": 275
        }
      ]
    },
    {
      "metadata": {
        "id": "_vz4bFeWcRu_",
        "colab_type": "text"
      },
      "cell_type": "markdown",
      "source": [
        "# Step 13 - Implement MLPRegressor"
      ]
    },
    {
      "metadata": {
        "id": "LWnSSR1RcSQa",
        "colab_type": "code",
        "colab": {}
      },
      "cell_type": "code",
      "source": [
        "from sklearn.neural_network import MLPRegressor, MLPClassifier\n",
        "\n",
        "with tf.device('/gpu:0'):\n",
        "  mlp = MLPRegressor(500)\n",
        "  mlp.fit(X_train, y_train)\n",
        "  metrics.mean_absolute_error(y_train, mlp.predict(X_train))"
      ],
      "execution_count": 0,
      "outputs": []
    },
    {
      "metadata": {
        "id": "nF6PnYGzc5MM",
        "colab_type": "code",
        "colab": {
          "base_uri": "https://localhost:8080/",
          "height": 34
        },
        "outputId": "a593f73c-3a48-4c34-fb3a-90b8f4ddc084"
      },
      "cell_type": "code",
      "source": [
        "metrics.mean_absolute_error(y_test, mlp.predict(X_test))"
      ],
      "execution_count": 277,
      "outputs": [
        {
          "output_type": "execute_result",
          "data": {
            "text/plain": [
              "2.4678900531331514"
            ]
          },
          "metadata": {
            "tags": []
          },
          "execution_count": 277
        }
      ]
    },
    {
      "metadata": {
        "id": "3BEatV2q40mg",
        "colab_type": "text"
      },
      "cell_type": "markdown",
      "source": [
        "# Step X - Implement LSTM"
      ]
    },
    {
      "metadata": {
        "id": "p179K-0140WG",
        "colab_type": "code",
        "colab": {
          "base_uri": "https://localhost:8080/",
          "height": 197
        },
        "outputId": "d7f00bba-60ca-4af1-f713-e81eeed9b102"
      },
      "cell_type": "code",
      "source": [
        "X_lstm_train.head()"
      ],
      "execution_count": 278,
      "outputs": [
        {
          "output_type": "execute_result",
          "data": {
            "text/html": [
              "<div>\n",
              "<style scoped>\n",
              "    .dataframe tbody tr th:only-of-type {\n",
              "        vertical-align: middle;\n",
              "    }\n",
              "\n",
              "    .dataframe tbody tr th {\n",
              "        vertical-align: top;\n",
              "    }\n",
              "\n",
              "    .dataframe thead th {\n",
              "        text-align: right;\n",
              "    }\n",
              "</style>\n",
              "<table border=\"1\" class=\"dataframe\">\n",
              "  <thead>\n",
              "    <tr style=\"text-align: right;\">\n",
              "      <th></th>\n",
              "      <th>0</th>\n",
              "      <th>1</th>\n",
              "      <th>2</th>\n",
              "      <th>3</th>\n",
              "      <th>4</th>\n",
              "      <th>5</th>\n",
              "      <th>6</th>\n",
              "      <th>7</th>\n",
              "      <th>8</th>\n",
              "    </tr>\n",
              "  </thead>\n",
              "  <tbody>\n",
              "    <tr>\n",
              "      <th>0</th>\n",
              "      <td>4.884113</td>\n",
              "      <td>5.101106</td>\n",
              "      <td>-98.0</td>\n",
              "      <td>104.0</td>\n",
              "      <td>33.662481</td>\n",
              "      <td>-0.024061</td>\n",
              "      <td>104.0</td>\n",
              "      <td>5.576567</td>\n",
              "      <td>4.333325</td>\n",
              "    </tr>\n",
              "    <tr>\n",
              "      <th>1</th>\n",
              "      <td>4.725767</td>\n",
              "      <td>6.588824</td>\n",
              "      <td>-154.0</td>\n",
              "      <td>181.0</td>\n",
              "      <td>98.758517</td>\n",
              "      <td>0.390561</td>\n",
              "      <td>181.0</td>\n",
              "      <td>5.734167</td>\n",
              "      <td>5.732777</td>\n",
              "    </tr>\n",
              "    <tr>\n",
              "      <th>2</th>\n",
              "      <td>4.906393</td>\n",
              "      <td>6.967397</td>\n",
              "      <td>-106.0</td>\n",
              "      <td>140.0</td>\n",
              "      <td>33.555211</td>\n",
              "      <td>0.217391</td>\n",
              "      <td>140.0</td>\n",
              "      <td>6.152647</td>\n",
              "      <td>5.895945</td>\n",
              "    </tr>\n",
              "    <tr>\n",
              "      <th>3</th>\n",
              "      <td>4.902240</td>\n",
              "      <td>6.922305</td>\n",
              "      <td>-199.0</td>\n",
              "      <td>197.0</td>\n",
              "      <td>116.548172</td>\n",
              "      <td>0.757278</td>\n",
              "      <td>199.0</td>\n",
              "      <td>5.933960</td>\n",
              "      <td>6.061214</td>\n",
              "    </tr>\n",
              "    <tr>\n",
              "      <th>4</th>\n",
              "      <td>4.908720</td>\n",
              "      <td>7.301110</td>\n",
              "      <td>-126.0</td>\n",
              "      <td>145.0</td>\n",
              "      <td>52.977905</td>\n",
              "      <td>0.064531</td>\n",
              "      <td>145.0</td>\n",
              "      <td>6.110587</td>\n",
              "      <td>6.329485</td>\n",
              "    </tr>\n",
              "  </tbody>\n",
              "</table>\n",
              "</div>"
            ],
            "text/plain": [
              "          0         1      2      3           4         5      6         7  \\\n",
              "0  4.884113  5.101106  -98.0  104.0   33.662481 -0.024061  104.0  5.576567   \n",
              "1  4.725767  6.588824 -154.0  181.0   98.758517  0.390561  181.0  5.734167   \n",
              "2  4.906393  6.967397 -106.0  140.0   33.555211  0.217391  140.0  6.152647   \n",
              "3  4.902240  6.922305 -199.0  197.0  116.548172  0.757278  199.0  5.933960   \n",
              "4  4.908720  7.301110 -126.0  145.0   52.977905  0.064531  145.0  6.110587   \n",
              "\n",
              "          8  \n",
              "0  4.333325  \n",
              "1  5.732777  \n",
              "2  5.895945  \n",
              "3  6.061214  \n",
              "4  6.329485  "
            ]
          },
          "metadata": {
            "tags": []
          },
          "execution_count": 278
        }
      ]
    },
    {
      "metadata": {
        "id": "PZMJpAVI9XLE",
        "colab_type": "code",
        "colab": {
          "base_uri": "https://localhost:8080/",
          "height": 51
        },
        "outputId": "71dfdde5-2a51-469e-c616-2dba2e46b30f"
      },
      "cell_type": "code",
      "source": [
        "tmp =X_lstm_train.shape[0] / 100\n",
        "f=math.floor(tmp)\n",
        "\n",
        "minus = (tmp - f) * 100 \n",
        "minus = int(minus)\n",
        "\n",
        "print(minus)\n",
        "print(f)"
      ],
      "execution_count": 279,
      "outputs": [
        {
          "output_type": "stream",
          "text": [
            "95\n",
            "41\n"
          ],
          "name": "stdout"
        }
      ]
    },
    {
      "metadata": {
        "id": "i-p8bIACB-H9",
        "colab_type": "code",
        "colab": {
          "base_uri": "https://localhost:8080/",
          "height": 34
        },
        "outputId": "a89862af-5306-4127-ab0d-a861564b6aba"
      },
      "cell_type": "code",
      "source": [
        "X_lstm_train.shape"
      ],
      "execution_count": 280,
      "outputs": [
        {
          "output_type": "execute_result",
          "data": {
            "text/plain": [
              "(4195, 9)"
            ]
          },
          "metadata": {
            "tags": []
          },
          "execution_count": 280
        }
      ]
    },
    {
      "metadata": {
        "id": "-SUITlNWB76l",
        "colab_type": "code",
        "colab": {
          "base_uri": "https://localhost:8080/",
          "height": 68
        },
        "outputId": "d517a4d9-4b7b-44f0-9d2c-19cfa0b171fd"
      },
      "cell_type": "code",
      "source": [
        "print(X_lstm_train.size)\n",
        "new = X_lstm_train[:-95]\n",
        "print(new.size)\n",
        "s = new.as_matrix()\n",
        "s = s.reshape(f, 100, 9)\n",
        "s.shape"
      ],
      "execution_count": 281,
      "outputs": [
        {
          "output_type": "stream",
          "text": [
            "37755\n",
            "36900\n"
          ],
          "name": "stdout"
        },
        {
          "output_type": "execute_result",
          "data": {
            "text/plain": [
              "(41, 100, 9)"
            ]
          },
          "metadata": {
            "tags": []
          },
          "execution_count": 281
        }
      ]
    },
    {
      "metadata": {
        "id": "KWOJBpNYGvcc",
        "colab_type": "code",
        "colab": {
          "base_uri": "https://localhost:8080/",
          "height": 68
        },
        "outputId": "a86d6117-b26b-46a8-b2f9-80bdeba2c9e6"
      },
      "cell_type": "code",
      "source": [
        "d = y_lstm_train[:-95]\n",
        "d = d.reshape(f,100)\n",
        "d.shape"
      ],
      "execution_count": 282,
      "outputs": [
        {
          "output_type": "stream",
          "text": [
            "/usr/local/lib/python3.6/dist-packages/ipykernel_launcher.py:2: FutureWarning: reshape is deprecated and will raise in a subsequent release. Please use .values.reshape(...) instead\n",
            "  \n"
          ],
          "name": "stderr"
        },
        {
          "output_type": "execute_result",
          "data": {
            "text/plain": [
              "(41, 100)"
            ]
          },
          "metadata": {
            "tags": []
          },
          "execution_count": 282
        }
      ]
    },
    {
      "metadata": {
        "id": "_SApdKYB-pig",
        "colab_type": "code",
        "colab": {}
      },
      "cell_type": "code",
      "source": [
        "from keras.models import Sequential\n",
        "from keras.layers import Dense, LSTM, Embedding\n",
        "from keras import losses\n",
        "\n",
        "import keras"
      ],
      "execution_count": 0,
      "outputs": []
    },
    {
      "metadata": {
        "id": "v6Zshihq9Opm",
        "colab_type": "code",
        "colab": {
          "base_uri": "https://localhost:8080/",
          "height": 276
        },
        "outputId": "5515d52c-576e-45af-8504-984f8d8c8d67"
      },
      "cell_type": "code",
      "source": [
        "lstm_out = 200\n",
        "\n",
        "with tf.device('/gpu:0'):\n",
        "  model = Sequential()\n",
        "  model.add(LSTM(lstm_out, input_shape=(100,9), dropout_U = 0.002, dropout_W = 0.002, return_sequences=False))\n",
        "  # model.add(LSTM(lstm_out, input_shape=(100,9), dropout_U = 0.002, dropout_W = 0.002))\n",
        "  model.add(Dense(100,activation='relu'))\n",
        "  adam = keras.optimizers.Adam(lr=0.005, beta_1=0.9, beta_2=0.999, epsilon=None, decay=0.0, amsgrad=False)\n",
        "  model.compile(loss=keras.losses.mean_absolute_error , optimizer=adam, metrics = ['mae', 'acc'])\n",
        "  print(model.summary())"
      ],
      "execution_count": 284,
      "outputs": [
        {
          "output_type": "stream",
          "text": [
            "/usr/local/lib/python3.6/dist-packages/ipykernel_launcher.py:5: UserWarning: Update your `LSTM` call to the Keras 2 API: `LSTM(200, input_shape=(100, 9), return_sequences=False, dropout=0.002, recurrent_dropout=0.002)`\n",
            "  \"\"\"\n"
          ],
          "name": "stderr"
        },
        {
          "output_type": "stream",
          "text": [
            "_________________________________________________________________\n",
            "Layer (type)                 Output Shape              Param #   \n",
            "=================================================================\n",
            "lstm_4 (LSTM)                (None, 200)               168000    \n",
            "_________________________________________________________________\n",
            "dense_4 (Dense)              (None, 100)               20100     \n",
            "=================================================================\n",
            "Total params: 188,100\n",
            "Trainable params: 188,100\n",
            "Non-trainable params: 0\n",
            "_________________________________________________________________\n",
            "None\n"
          ],
          "name": "stdout"
        }
      ]
    },
    {
      "metadata": {
        "id": "8noUgBT7l_G4",
        "colab_type": "code",
        "colab": {}
      },
      "cell_type": "code",
      "source": [
        "with tf.device('/gpu:0'):\n",
        "  model.fit(s, d, nb_epoch = 2000)"
      ],
      "execution_count": 0,
      "outputs": []
    },
    {
      "metadata": {
        "id": "KFdojC7EboE1",
        "colab_type": "code",
        "colab": {
          "base_uri": "https://localhost:8080/",
          "height": 34
        },
        "outputId": "980e609c-a8e7-4f20-c320-901c87fab458"
      },
      "cell_type": "code",
      "source": [
        "metrics.mean_absolute_error(d, model.predict(s))"
      ],
      "execution_count": 286,
      "outputs": [
        {
          "output_type": "execute_result",
          "data": {
            "text/plain": [
              "1.1358337594354893"
            ]
          },
          "metadata": {
            "tags": []
          },
          "execution_count": 286
        }
      ]
    },
    {
      "metadata": {
        "id": "2caeaXS_fR9t",
        "colab_type": "text"
      },
      "cell_type": "markdown",
      "source": [
        "# Test Data"
      ]
    },
    {
      "metadata": {
        "id": "Cr1MpN6YfVAQ",
        "colab_type": "code",
        "colab": {}
      },
      "cell_type": "code",
      "source": [
        "# !ls\n",
        "# test = pd.read_csv('seg_00030f.csv', dtype={'acoustic_data': np.int16})\n",
        "test = pd.read_csv('seg_0012b5.csv')"
      ],
      "execution_count": 0,
      "outputs": []
    },
    {
      "metadata": {
        "id": "o_cIryAGvby5",
        "colab_type": "code",
        "colab": {}
      },
      "cell_type": "code",
      "source": [
        "test"
      ],
      "execution_count": 0,
      "outputs": []
    },
    {
      "metadata": {
        "id": "PgO10zGjjCnd",
        "colab_type": "code",
        "colab": {}
      },
      "cell_type": "code",
      "source": [
        "X_pred = pd.DataFrame()\n",
        "# y_train = pd.Series()\n",
        "# for df in train:\n",
        "ch = gen_features(test['acoustic_data'])\n",
        "X_pred = X_pred.append(ch, ignore_index=True)\n",
        "#     y_train = y_train.append(pd.Series(df['time_to_failure'].values[-1]))"
      ],
      "execution_count": 0,
      "outputs": []
    },
    {
      "metadata": {
        "id": "QoOZ9T-YmUzP",
        "colab_type": "code",
        "colab": {
          "base_uri": "https://localhost:8080/",
          "height": 77
        },
        "outputId": "bad129ab-e077-4145-ff1c-6a006e83f8a6"
      },
      "cell_type": "code",
      "source": [
        "X_pred"
      ],
      "execution_count": 290,
      "outputs": [
        {
          "output_type": "execute_result",
          "data": {
            "text/html": [
              "<div>\n",
              "<style scoped>\n",
              "    .dataframe tbody tr th:only-of-type {\n",
              "        vertical-align: middle;\n",
              "    }\n",
              "\n",
              "    .dataframe tbody tr th {\n",
              "        vertical-align: top;\n",
              "    }\n",
              "\n",
              "    .dataframe thead th {\n",
              "        text-align: right;\n",
              "    }\n",
              "</style>\n",
              "<table border=\"1\" class=\"dataframe\">\n",
              "  <thead>\n",
              "    <tr style=\"text-align: right;\">\n",
              "      <th></th>\n",
              "      <th>0</th>\n",
              "      <th>1</th>\n",
              "      <th>2</th>\n",
              "      <th>3</th>\n",
              "      <th>4</th>\n",
              "      <th>5</th>\n",
              "      <th>6</th>\n",
              "      <th>7</th>\n",
              "      <th>8</th>\n",
              "    </tr>\n",
              "  </thead>\n",
              "  <tbody>\n",
              "    <tr>\n",
              "      <th>0</th>\n",
              "      <td>4.171153</td>\n",
              "      <td>5.922839</td>\n",
              "      <td>-140.0</td>\n",
              "      <td>152.0</td>\n",
              "      <td>56.218955</td>\n",
              "      <td>0.295708</td>\n",
              "      <td>152.0</td>\n",
              "      <td>5.19834</td>\n",
              "      <td>5.045369</td>\n",
              "    </tr>\n",
              "  </tbody>\n",
              "</table>\n",
              "</div>"
            ],
            "text/plain": [
              "          0         1      2      3          4         5      6        7  \\\n",
              "0  4.171153  5.922839 -140.0  152.0  56.218955  0.295708  152.0  5.19834   \n",
              "\n",
              "          8  \n",
              "0  5.045369  "
            ]
          },
          "metadata": {
            "tags": []
          },
          "execution_count": 290
        }
      ]
    },
    {
      "metadata": {
        "id": "6pqKYLnGvlOu",
        "colab_type": "code",
        "colab": {
          "base_uri": "https://localhost:8080/",
          "height": 34
        },
        "outputId": "ce30b121-3800-4a73-b0e9-21fc9995604e"
      },
      "cell_type": "code",
      "source": [
        "# m.predict(X_pred)"
      ],
      "execution_count": 291,
      "outputs": [
        {
          "output_type": "execute_result",
          "data": {
            "text/plain": [
              "array([4.77152603])"
            ]
          },
          "metadata": {
            "tags": []
          },
          "execution_count": 291
        }
      ]
    },
    {
      "metadata": {
        "id": "pQ06PwESs2Qd",
        "colab_type": "code",
        "colab": {}
      },
      "cell_type": "code",
      "source": [
        "import glob\n",
        "\n",
        "files = []\n",
        "\n",
        "for filename in glob.glob('seg_*'):\n",
        "  files.append(filename)"
      ],
      "execution_count": 0,
      "outputs": []
    },
    {
      "metadata": {
        "id": "B566uceHttI-",
        "colab_type": "code",
        "colab": {}
      },
      "cell_type": "code",
      "source": [
        "all = {}\n",
        "\n",
        "for filename in files:\n",
        "  test = pd.read_csv(filename)\n",
        "  X_pred = pd.DataFrame()\n",
        "  ch = gen_features(test['acoustic_data'])\n",
        "  X_pred = X_pred.append(ch, ignore_index=True)\n",
        "#   erg = m.predict(X_pred)\n",
        "  erg = gbm.predict(X_pred)\n",
        "  all[filename] = erg"
      ],
      "execution_count": 0,
      "outputs": []
    },
    {
      "metadata": {
        "id": "MCRzgQY8gBHY",
        "colab_type": "code",
        "colab": {}
      },
      "cell_type": "code",
      "source": [
        "all"
      ],
      "execution_count": 0,
      "outputs": []
    },
    {
      "metadata": {
        "id": "HIgptTdHw2pr",
        "colab_type": "code",
        "colab": {}
      },
      "cell_type": "code",
      "source": [
        "sample = pd.read_csv('sample_submission.csv')\n",
        "sample"
      ],
      "execution_count": 0,
      "outputs": []
    },
    {
      "metadata": {
        "id": "XzLR-qLWxe2O",
        "colab_type": "code",
        "colab": {}
      },
      "cell_type": "code",
      "source": [
        "import os\n",
        "os.getcwd()"
      ],
      "execution_count": 0,
      "outputs": []
    },
    {
      "metadata": {
        "id": "go37AQuMyg2u",
        "colab_type": "code",
        "colab": {}
      },
      "cell_type": "code",
      "source": [
        "import csv\n",
        "\n",
        "with open('XGBoost.csv', 'w') as f:\n",
        "    for key in all.keys():\n",
        "        f.write(\"%s,%s\\n\"%(key,all[key]))"
      ],
      "execution_count": 0,
      "outputs": []
    },
    {
      "metadata": {
        "id": "jexS_xMlyzYS",
        "colab_type": "code",
        "colab": {}
      },
      "cell_type": "code",
      "source": [
        "from google.colab import files\n",
        "files.download('XGBoost.csv')"
      ],
      "execution_count": 0,
      "outputs": []
    }
  ]
}